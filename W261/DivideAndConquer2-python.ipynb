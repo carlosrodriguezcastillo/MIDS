{
 "cells": [
  {
   "cell_type": "markdown",
   "metadata": {},
   "source": [
    "# DATASCI W261: Machine Learning at Scale "
   ]
  },
  {
   "cell_type": "markdown",
   "metadata": {},
   "source": [
    "**Name: Carlos Eduardo Rodriguez Castillo**\n",
    "\n",
    "**email: cerodriguez@berkeley.edu**\n",
    "\n",
    "**Week 1**\n",
    "\n",
    "**Section 2**\n"
   ]
  },
  {
   "cell_type": "markdown",
   "metadata": {},
   "source": [
    "### This notebook provides a poor man Hadoop through command-line and python. Please note that I kept logging commented logging code to show my work."
   ]
  },
  {
   "cell_type": "markdown",
   "metadata": {
    "collapsed": false
   },
   "source": [
    "#### Map"
   ]
  },
  {
   "cell_type": "code",
   "execution_count": 1,
   "metadata": {
    "collapsed": false
   },
   "outputs": [
    {
     "name": "stdout",
     "output_type": "stream",
     "text": [
      "Overwriting mapper.py\n"
     ]
    }
   ],
   "source": [
    "%%writefile mapper.py\n",
    "#!/usr/bin/python\n",
    "import sys\n",
    "import re\n",
    "#import logging\n",
    "\n",
    "#logging_directory_path = '/home/crodriguez1/test_log/'\n",
    "#logging_file = logging_daily_directory_path + \"/\" + LOGGING_FILE_NAME\n",
    "#logging_file = logging_directory_path + \"/\" + 'test_map.log'\n",
    "#log_format = '%(levelname)s\\n%(asctime)s.%(msecs)-3d filename:%(filename)-20s line:%(lineno)-5d \\n%(message)s\\n\\n'\n",
    "#log_date_format = '%H:%M:%S'\n",
    "#logging.basicConfig(filename = logging_file,\n",
    "#    stream = sys.stderr,\n",
    "#    level = logging.DEBUG,\n",
    "#    format = log_format,\n",
    "#    datefmt = log_date_format)\n",
    "#suds_logger = logging.getLogger(\"suds\")\n",
    "#suds_logger.propagate = False\n",
    "\n",
    "count = 0\n",
    "WORD_RE = re.compile(r\"[\\w']+\")\n",
    "filename = sys.argv[2]\n",
    "findword = sys.argv[1]\n",
    "with open (filename, \"r\") as myfile:\n",
    "    count = 0\n",
    "#Please insert your code\n",
    "    for line in myfile:\n",
    "        #logging.debug('Line: %s'% line)\n",
    "        words = line.split()\n",
    "        for word in words:\n",
    "            #logging.debug('Word: %s' % word)\n",
    "            word = word.rstrip(',')\n",
    "            word = word.rstrip(';')\n",
    "            word = word.rstrip(':')\n",
    "            word = word.rstrip('.')\n",
    "            if word == findword:\n",
    "                #print count\n",
    "                #logging.debug('Word: [%s] is equal to [%s]! Increment!' % (word, findword))\n",
    "                count = count + 1\n",
    "    print count"
   ]
  },
  {
   "cell_type": "code",
   "execution_count": 2,
   "metadata": {
    "collapsed": true
   },
   "outputs": [],
   "source": [
    "!chmod a+x mapper.py"
   ]
  },
  {
   "cell_type": "markdown",
   "metadata": {},
   "source": [
    "#### Reduce"
   ]
  },
  {
   "cell_type": "code",
   "execution_count": 3,
   "metadata": {
    "collapsed": false
   },
   "outputs": [
    {
     "name": "stdout",
     "output_type": "stream",
     "text": [
      "Overwriting reducer.py\n"
     ]
    }
   ],
   "source": [
    "%%writefile reducer.py\n",
    "#!/usr/bin/python\n",
    "import sys\n",
    "#import logging\n",
    "\n",
    "#logging_directory_path = '/home/crodriguez1/test_log/'\n",
    "#logging_file = logging_daily_directory_path + \"/\" + LOGGING_FILE_NAME\n",
    "#logging_file = logging_directory_path + \"/\" + 'test_reduce.log'\n",
    "#log_format = '%(levelname)s\\n%(asctime)s.%(msecs)-3d filename:%(filename)-20s line:%(lineno)-5d \\n%(message)s\\n\\n'\n",
    "#log_date_format = '%H:%M:%S'\n",
    "#logging.basicConfig(filename = logging_file,\n",
    "#    stream = sys.stderr,\n",
    "#    level = logging.DEBUG,\n",
    "#    format = log_format,\n",
    "#    datefmt = log_date_format)\n",
    "#suds_logger = logging.getLogger(\"suds\")\n",
    "#suds_logger.propagate = False\n",
    "\n",
    "sum = 0\n",
    "for line in sys.stdin:\n",
    "#Please insert your code\n",
    "    #logging.debug('Sum line: %s'% line)\n",
    "    sum = sum + int(line)\n",
    "    #logging.debug('Sum: %s ' % sum)\n",
    "print sum"
   ]
  },
  {
   "cell_type": "code",
   "execution_count": 4,
   "metadata": {
    "collapsed": true
   },
   "outputs": [],
   "source": [
    "!chmod a+x reducer.py"
   ]
  },
  {
   "cell_type": "markdown",
   "metadata": {},
   "source": [
    "## Write script to file"
   ]
  },
  {
   "cell_type": "code",
   "execution_count": 5,
   "metadata": {
    "collapsed": false
   },
   "outputs": [
    {
     "name": "stdout",
     "output_type": "stream",
     "text": [
      "Overwriting pGrepCount.sh\n"
     ]
    }
   ],
   "source": [
    "%%writefile pGrepCount.sh\n",
    "ORIGINAL_FILE=$1\n",
    "FIND_WORD=$2\n",
    "BLOCK_SIZE=$3\n",
    "CHUNK_FILE_PREFIX=$ORIGINAL_FILE.split\n",
    "SORTED_CHUNK_FILES=$CHUNK_FILE_PREFIX*.sorted\n",
    "usage()\n",
    "{\n",
    "    echo Parallel grep\n",
    "    echo usage: pGrepCount filename word chuncksize\n",
    "    echo greps file file1 in $ORIGINAL_FILE and counts the number of lines\n",
    "    echo Note: file1 will be split in chunks up to $ BLOCK_SIZE chunks each\n",
    "    echo $FIND_WORD each chunk will be grepCounted in parallel\n",
    "}\n",
    "#Splitting $ORIGINAL_FILE INTO CHUNKS\n",
    "split -b $BLOCK_SIZE $ORIGINAL_FILE $CHUNK_FILE_PREFIX\n",
    "#DISTRIBUTE\n",
    "for file in $CHUNK_FILE_PREFIX*\n",
    "do\n",
    "    #grep -i $FIND_WORD $file|wc -l >$file.intermediateCount &\n",
    "    ./mapper.py $FIND_WORD $file >$file.intermediateCount &\n",
    "done\n",
    "wait\n",
    "#MERGEING INTERMEDIATE COUNT CAN TAKE THE FIRST COLUMN AND TOTOL...\n",
    "#numOfInstances=$(cat *.intermediateCount | cut -f 1 | paste -sd+ - |bc)\n",
    "numOfInstances=$(cat *.intermediateCount | ./reducer.py)\n",
    "echo \"found [$numOfInstances] [$FIND_WORD] in the file [$ORIGINAL_FILE]\""
   ]
  },
  {
   "cell_type": "markdown",
   "metadata": {},
   "source": [
    "#### Run the file"
   ]
  },
  {
   "cell_type": "code",
   "execution_count": 6,
   "metadata": {
    "collapsed": false
   },
   "outputs": [],
   "source": [
    "!chmod a+x pGrepCount.sh"
   ]
  },
  {
   "cell_type": "markdown",
   "metadata": {},
   "source": [
    "Usage: usage: pGrepCount filename word chuncksize"
   ]
  },
  {
   "cell_type": "code",
   "execution_count": 7,
   "metadata": {
    "collapsed": false
   },
   "outputs": [
    {
     "name": "stdout",
     "output_type": "stream",
     "text": [
      "found [11] [COPYRIGHT] in the file [LICENSE.txt]\r\n"
     ]
    }
   ],
   "source": [
    "!./pGrepCount.sh LICENSE.txt COPYRIGHT 4k"
   ]
  }
 ],
 "metadata": {
  "kernelspec": {
   "display_name": "Python 2",
   "language": "python",
   "name": "python2"
  },
  "language_info": {
   "codemirror_mode": {
    "name": "ipython",
    "version": 2
   },
   "file_extension": ".py",
   "mimetype": "text/x-python",
   "name": "python",
   "nbconvert_exporter": "python",
   "pygments_lexer": "ipython2",
   "version": "2.7.3"
  }
 },
 "nbformat": 4,
 "nbformat_minor": 0
}
