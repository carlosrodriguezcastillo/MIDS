{
 "cells": [
  {
   "cell_type": "code",
   "execution_count": 1,
   "metadata": {
    "collapsed": false
   },
   "outputs": [
    {
     "data": {
      "application/javascript": [
       "/**********************************************************************************************\n",
       "Known Mathjax Issue with Chrome - a rounding issue adds a border to the right of mathjax markup\n",
       "https://github.com/mathjax/MathJax/issues/1300\n",
       "A quick hack to fix this based on stackoverflow discussions: \n",
       "http://stackoverflow.com/questions/34277967/chrome-rendering-mathjax-equations-with-a-trailing-vertical-line\n",
       "**********************************************************************************************/\n",
       "\n",
       "$('.math>span').css(\"border-left-color\",\"transparent\")"
      ],
      "text/plain": [
       "<IPython.core.display.Javascript object>"
      ]
     },
     "metadata": {},
     "output_type": "display_data"
    }
   ],
   "source": [
    "%%javascript\n",
    "/**********************************************************************************************\n",
    "Known Mathjax Issue with Chrome - a rounding issue adds a border to the right of mathjax markup\n",
    "https://github.com/mathjax/MathJax/issues/1300\n",
    "A quick hack to fix this based on stackoverflow discussions: \n",
    "http://stackoverflow.com/questions/34277967/chrome-rendering-mathjax-equations-with-a-trailing-vertical-line\n",
    "**********************************************************************************************/\n",
    "\n",
    "$('.math>span').css(\"border-left-color\",\"transparent\")"
   ]
  },
  {
   "cell_type": "code",
   "execution_count": 1,
   "metadata": {
    "collapsed": true
   },
   "outputs": [],
   "source": [
    "%reload_ext autoreload\n",
    "%autoreload 2"
   ]
  },
  {
   "cell_type": "markdown",
   "metadata": {},
   "source": [
    "# DATASCI W261 - Machine Learning At Scale\n",
    "## Assignment - Week 09\n",
    "---\n",
    "__Name:__  Carlos Eduardo Rodriguez Castillo   \n",
    "__Class:__ W261 - Section 2     \n",
    "__Email:__  cerodriguez@ischool.berkeley.edu     \n",
    "__Week:__   09 \n",
    "\n",
    "\n",
    "---\n",
    "### Instructions\n",
    "\n",
    "Due by 07/17/2016\n",
    "\n",
    "[Submission Link - Google Form](https://docs.google.com/forms/d/1ZOr9RnIe_A06AcZDB6K1mJN4vrLeSmS2PD6Xm3eOiis/viewform?usp=send_form) \n",
    "\n",
    "### Documents:\n",
    "* IPython Notebook, published and viewable online.\n",
    "* PDF export of IPython Notebook.\n",
    "    \n",
    "### Useful References\n",
    "\n",
    "* Data-intensive text processing with MapReduce. San Rafael, CA: Morgan & Claypool Publishers. Chapter 5. \n",
    "\n",
    "\n",
    "---"
   ]
  },
  {
   "cell_type": "markdown",
   "metadata": {},
   "source": [
    "<h2 style=\"color:red\">HW 9 Dataset</h2>\n",
    "\n",
    "Note that all referenced files life in the enclosing directory. [Checkout the Data subdirectory on Dropbox](https://www.dropbox.com/sh/2c0k5adwz36lkcw/AAAAKsjQfF9uHfv-X9mCqr9wa?dl=0) or the AWS S3 buckets (details contained each question). "
   ]
  },
  {
   "cell_type": "markdown",
   "metadata": {},
   "source": [
    "<h2 style=\"color:red\"> HW 9.0: Short answer questions </h2>\n",
    "\n",
    "__What is PageRank and what is it used for in the context of web search?__\n",
    "\n",
    "##### ANSWER:\n",
    "\n",
    "PageRank is an algorithm for ranking the relevance or popularity of nodes in a graph based on the steady-state probability distribution of the nodes in the graph.\n",
    "\n",
    "PageRank is the backbone of modern web search. Larry Page and Sergei Brin used PageRank as the core of the Google search engine which critically aided them in making Google the most popular web search solution in the world. Part of the reason that PageRank was so novel and successful in providing a solution for web search is that the underlyiung algortihm prioritization of pages was independent of the runtime query being executed by the user (this was later on added into the solution).\n",
    "\n",
    "<hr>\n",
    "\n",
    "__What modifications have to be made to the webgraph in order to leverage the machinery of Markov Chains to compute the Steady State Distibution?__\n",
    "\n",
    "##### ANSWER:\n",
    "\n",
    "In order to leverage the machinery of Markov Chains to compute the steady-state distribution the webgraph needs several modifications. These modifications need to be put in place primarily to comply with the assumptions required for a graph to be well behaved (irreducibility and aperiodicity). The modifications are:\n",
    "\n",
    "- The graph nodes are initialized with a page rank score that is used as a starting point for the iterative algorithm that is meant to arrive at the final page rank scores in the steady state distribution of the graph.\n",
    "- While it is not a change to the graph itself, in order to fulfill the irreducibility requirement, we must introduce the concept of teleportation from any node to any other node in the graph by enhancing the transition matrix with a uniform transition matrix. This transition matrix is combined with the vanilla transition matrix to arrive at a steady state distribution via a dampening factor (i.e. the dampening factor determines how important the uniform transition matrix is in computing the steady state distribution).\n",
    "- Another important piece to consider (again not tied to graph representation explicitly but rather to the treatment of the graph) is that, to deal with web pages that do not have outlinks (i.e. dangling nodes in the graph) at each iteration of the algorithm the probability mass of these webpages needs to be uniformly distributed across all web pages in the graph.\n",
    "\n",
    "<hr>\n",
    "\n",
    "__ OPTIONAL: In topic-specific pagerank, how can we ensure that the irreducible property is satifsied? (HINT: see HW9.4) __\n",
    "\n",
    "##### ANSWER:\n",
    "\n",
    "To ensure that the irreducibility property is satisfied in topic-specific pagerank we would need to be required to alter the graph by exclusively maintaining edges in the graph that contain non-zero nodes in the topic for the topic-specific pagernk being computed. This would need to be done separately for each topic-specific pagerank vector being constructed.\n",
    "\n",
    "This can also be achieved by implementing a non-uniform dampening factor that takes into consideration the number of nodes in the topic of interest as well as the topic of the node being processed.\n",
    "\n",
    "<hr>\n"
   ]
  },
  {
   "cell_type": "markdown",
   "metadata": {},
   "source": [
    "<h2 style=\"color:red\"> HW 9.1: MRJob implementation of basic PageRank </h2>\n",
    "\n",
    "Write a basic MRJob implementation of the iterative PageRank algorithm that takes sparse adjacency lists as input (as explored in HW 7).\n",
    "\n",
    "Make sure that you implementation utilizes teleportation (1-damping/the number of nodes in the network), and further, distributes the mass of dangling nodes with each iteration so that the output of each iteration is correctly normalized (sums to 1).\n",
    "\n",
    "\n",
    "[NOTE: The PageRank algorithm assumes that a random surfer (walker), starting from a random web page, chooses the next page to which it will move by clicking at random, with probability d,one of the hyperlinks in the current page. This probability is represented by a so-called *damping factor* d, where d ∈ (0, 1). Otherwise, with probability (1 − d), the surfer jumps to any web page in the network. If a page is a dangling end, meaning it has no outgoing hyperlinks, the random surfer selects an arbitrary web page from a uniform distribution and “teleports” to that page]\n",
    "\n",
    "\n",
    "As you build your code, use the test data:\n",
    "\n",
    "> s3://ucb-mids-mls-networks/PageRank-test.txt\n",
    "\n",
    "Or under the Data Subfolder for HW7 on Dropbox with the same file name. \n",
    "> Dropbox: https://www.dropbox.com/sh/2c0k5adwz36lkcw/AAAAKsjQfF9uHfv-X9mCqr9wa?dl=0\n",
    "\n",
    "with teleportation parameter set to 0.15 (1-d, where d, the damping factor is set to 0.85), and crosscheck your work with the true result, displayed in the first image in the [Wikipedia article](https://en.wikipedia.org/wiki/PageRank)\n",
    "and here for reference are the corresponding PageRank probabilities:\n",
    "<pre>\n",
    "\n",
    "A, 0.033\n",
    "B, 0.384\n",
    "C, 0.343\n",
    "D, 0.039\n",
    "E, 0.081\n",
    "F, 0.039\n",
    "G, 0.016\n",
    "H, 0.016\n",
    "I, 0.016\n",
    "J, 0.016\n",
    "K, 0.016\n",
    "\n",
    "</pre>"
   ]
  },
  {
   "cell_type": "markdown",
   "metadata": {},
   "source": [
    "<h2 style=\"color:darkgreen\"> HW 9.1 Implementation </h2>"
   ]
  },
  {
   "cell_type": "code",
   "execution_count": 308,
   "metadata": {
    "collapsed": false
   },
   "outputs": [
    {
     "name": "stdout",
     "output_type": "stream",
     "text": [
      "Overwriting PageRank_graph_prep_2.py\n"
     ]
    }
   ],
   "source": [
    "%%writefile PageRank_graph_prep_2.py\n",
    "#!/usr/bin/env python\n",
    "\n",
    "from mrjob.job import MRJob\n",
    "from mrjob.step import MRStep\n",
    "import sys\n",
    "import os\n",
    "import ast\n",
    "from mrjob.protocol import RawValueProtocol\n",
    "from mrjob.protocol import RawProtocol\n",
    "\n",
    "class MRpageRankGraphPrep(MRJob):\n",
    "    \n",
    "    num_nodes = 0\n",
    "    \n",
    "    def step(self):\n",
    "        \n",
    "        return [\n",
    "            MRStep(\n",
    "                   mapper=self.mapper,\n",
    "                   reducer=self.reducer)\n",
    "        ]\n",
    "    \n",
    "    ## The mapper emits all nodes and their neighbors\n",
    "    def mapper(self, _, line):\n",
    "        line = line.strip()\n",
    "        key, value = line.split(\"\\t\")\n",
    "        neighbors = ast.literal_eval(value)\n",
    "        neighbors_array = []\n",
    "        for n in neighbors.keys():\n",
    "            neighbors_array.append(n)\n",
    "            yield n, \"-\"\n",
    "        yield key, neighbors_array\n",
    "        \n",
    "    def reducer(self, key, values):\n",
    "        neighbors = []\n",
    "        ## the reducer increments a counter for the \n",
    "        ## number of nodes as it encounters each new key\n",
    "        self.increment_counter(\"Nodes\",\"Num_nodes\",1)\n",
    "        for v in values:\n",
    "            if neighbors == \"\":\n",
    "                if v != \"-\":\n",
    "                    neighbors = v\n",
    "            else:\n",
    "                if v != \"-\":\n",
    "                    neighbors.extend(v)\n",
    "        yield key, (neighbors, 1.0)\n",
    "        \n",
    "if __name__ == \"__main__\":\n",
    "    MRpageRankGraphPrep.run()"
   ]
  },
  {
   "cell_type": "code",
   "execution_count": 309,
   "metadata": {
    "collapsed": true
   },
   "outputs": [],
   "source": [
    "!chmod a+x PageRank_graph_prep_2.py"
   ]
  },
  {
   "cell_type": "code",
   "execution_count": 524,
   "metadata": {
    "collapsed": false
   },
   "outputs": [
    {
     "name": "stdout",
     "output_type": "stream",
     "text": [
      "Overwriting PageRank_step3.py\n"
     ]
    }
   ],
   "source": [
    "%%writefile PageRank_step3.py\n",
    "#!/usr/bin/env python\n",
    "\n",
    "from mrjob.job import MRJob\n",
    "from mrjob.step import MRStep\n",
    "import sys\n",
    "import os\n",
    "import ast\n",
    "from mrjob.protocol import RawValueProtocol\n",
    "from mrjob.protocol import RawProtocol\n",
    "\n",
    "class MRpageRank3(MRJob):\n",
    "    \n",
    "    ## Hardcoding the parameters for the job\n",
    "    ## these are substituted with runtime parameters\n",
    "    N = 1\n",
    "    alpha = 0.0\n",
    "    first_run = 0\n",
    "    dangling_mass = 0.0\n",
    "    \n",
    "    ## function permits us to pass an arbitrary alpha, a binary first run indicator\n",
    "    ## and the number of nodes on the graph to our mrjob\n",
    "    def configure_options(self):\n",
    "        super(MRpageRank3, self).configure_options()\n",
    "        self.add_passthrough_option('--alpha', type='float', default=0.1, help='The damping factor; must be a float!')\n",
    "        self.add_passthrough_option('--first-run', type='int', default=0, help='Indicates whether we are dealing with the first run of algo')\n",
    "        self.add_passthrough_option('--num-nodes', type='int', default=1, help='The number of nodes in the graph; must be an int!')\n",
    "    \n",
    "    def steps(self):\n",
    "        return [\n",
    "            MRStep(\n",
    "            mapper_init=self.mapper_init,\n",
    "            mapper=self.mapper,\n",
    "            reducer_init=self.reducer_init,\n",
    "            reducer=self.reducer)\n",
    "        ]\n",
    "    \n",
    "    def mapper_init(self):\n",
    "        self.N = self.options.num_nodes\n",
    "        self.first_run = self.options.first_run\n",
    "    \n",
    "    def mapper(self, _, line):\n",
    "        line = line.strip()\n",
    "        key, value = line.split(\"\\t\")\n",
    "        key = key.strip('\"')\n",
    "        value = ast.literal_eval(value)\n",
    "        neighbors = value[0]\n",
    "        ## if this is the first iterative step in the\n",
    "        ## algorithm we must initialize the pagerank\n",
    "        ## values for all nodes\n",
    "        if self.first_run == 1:\n",
    "            PR = float(value[1]) / float(self.N)\n",
    "        else:\n",
    "            PR = float(value[1])\n",
    "        ## we emit a special key when we encounter a \n",
    "        ## dangling node\n",
    "        if neighbors == []:\n",
    "            yield \"*dangling\", (\"-\", float(PR))\n",
    "            yield key, (neighbors, 0.0)\n",
    "        else:\n",
    "            num_nieghbors = len(neighbors)\n",
    "            ## the pagerank that is passed along the edges\n",
    "            ## to the nodes neighbors is divided equally \n",
    "            ## among the node's neoghbors\n",
    "            for n in neighbors:\n",
    "                yield n, (\"-\",float(PR)/float(num_nieghbors))\n",
    "            yield key, (neighbors, 0.0)\n",
    "    \n",
    "    def reducer_init(self):\n",
    "        self.N = self.options.num_nodes\n",
    "    \n",
    "    def reducer(self, key, values):\n",
    "        dangling_mass = 0.0\n",
    "        ## if a dangling mass special key is encountered,\n",
    "        ## we accumulate the dangling mass, transform it to\n",
    "        ## an integer and finally store it in a counter\n",
    "        if key == \"*dangling\":\n",
    "            for v in values:\n",
    "                dangling_mass += v[1]\n",
    "            TEN_BILLION = 10000000000\n",
    "            self.increment_counter(\"dangling_nodes\",\"mass\", int(dangling_mass*TEN_BILLION))\n",
    "        else:\n",
    "            new_PR = 0.0\n",
    "            neighbors = \"\"\n",
    "            for v in values:\n",
    "                new_PR += v[1]\n",
    "                if v[0] != \"-\":\n",
    "                    neighbors = v[0]\n",
    "            yield key, (neighbors, new_PR)\n",
    "        \n",
    "if __name__ == \"__main__\":\n",
    "    MRpageRank3.run()"
   ]
  },
  {
   "cell_type": "code",
   "execution_count": 525,
   "metadata": {
    "collapsed": true
   },
   "outputs": [],
   "source": [
    "!chmod a+x PageRank_step3.py"
   ]
  },
  {
   "cell_type": "code",
   "execution_count": 526,
   "metadata": {
    "collapsed": false
   },
   "outputs": [
    {
     "name": "stdout",
     "output_type": "stream",
     "text": [
      "Overwriting PageRank_step35.py\n"
     ]
    }
   ],
   "source": [
    "%%writefile PageRank_step35.py\n",
    "#!/usr/bin/env python\n",
    "\n",
    "from mrjob.job import MRJob\n",
    "from mrjob.step import MRStep\n",
    "import sys\n",
    "import os\n",
    "import ast\n",
    "from mrjob.protocol import RawValueProtocol\n",
    "from mrjob.protocol import RawProtocol\n",
    "\n",
    "class MRpageRank35(MRJob):\n",
    "    \n",
    "    ## Hardcoding the job parameters\n",
    "    ## these are substituted with runtime parameters\n",
    "    N = 1\n",
    "    alpha = 0.0\n",
    "    first_run = 0\n",
    "    dangling_mass = 0.0\n",
    "    \n",
    "    ## function permits us to pass an arbitrary alpha, number of nodes\n",
    "    ## and dangling node mass to our mrjob\n",
    "    def configure_options(self):\n",
    "        super(MRpageRank35, self).configure_options()\n",
    "        self.add_passthrough_option('--alpha', type='float', default=0.1, help='The damping factor; must be a float!')\n",
    "        self.add_passthrough_option('--num-nodes', type='int', default=1, help='The number of nodes in the graph; must be an int!')\n",
    "        self.add_passthrough_option('--dangling-mass', type='float', default=0.0, help='The dangling mass for iteration; must be a float!')\n",
    "    \n",
    "    def steps(self):\n",
    "        return [\n",
    "            MRStep(\n",
    "            mapper_init=self.mapper_init,\n",
    "            mapper=self.mapper)\n",
    "        ]\n",
    "    \n",
    "    def mapper_init(self):\n",
    "        self.alpha = self.options.alpha\n",
    "        self.N = self.options.num_nodes\n",
    "        self.dangling_mass = self.options.dangling_mass\n",
    "    \n",
    "    def mapper(self, _, line):\n",
    "        line = line.strip()\n",
    "        key, value = line.split(\"\\t\")\n",
    "        key = key.strip('\"')\n",
    "        value = ast.literal_eval(value)\n",
    "        neighbors = value[0]\n",
    "        PR = float(value[1])\n",
    "        ## we simply compute the final pagerank for the node\n",
    "        PR = self.alpha * 1.00/float(self.N) + (1 - self.alpha) * (PR  + (self.dangling_mass / float(self.N)))\n",
    "        yield key, (neighbors, PR)\n",
    "        \n",
    "if __name__ == \"__main__\":\n",
    "    MRpageRank35.run()"
   ]
  },
  {
   "cell_type": "code",
   "execution_count": 527,
   "metadata": {
    "collapsed": true
   },
   "outputs": [],
   "source": [
    "!chmod a+x PageRank_step35.py"
   ]
  },
  {
   "cell_type": "markdown",
   "metadata": {},
   "source": [
    "#### PageRank - Local Implementation - Toy graph"
   ]
  },
  {
   "cell_type": "code",
   "execution_count": 529,
   "metadata": {
    "collapsed": false
   },
   "outputs": [
    {
     "name": "stdout",
     "output_type": "stream",
     "text": [
      "rm: cannot remove `/home/cloudera/w261/HW9/data/toy_prepared_graph_output_intermediate': No such file or directory\n",
      "iteration 0 of Pagerank algorithm\n",
      "iteration 1 of Pagerank algorithm\n",
      "iteration 2 of Pagerank algorithm\n",
      "iteration 3 of Pagerank algorithm\n",
      "iteration 4 of Pagerank algorithm\n",
      "\"4\"\t[[\"1\", \"2\"], 0.04115963361263218]\n",
      "\"5\"\t[[\"2\", \"4\", \"6\"], 0.09396022928696268]\n",
      "\"6\"\t[[\"2\", \"5\"], 0.04115963361263218]\n",
      "\"7\"\t[[\"2\", \"5\"], 0.016541506363181815]\n",
      "\"8\"\t[[\"2\", \"5\"], 0.016541506363181815]\n",
      "\"9\"\t[[\"2\", \"5\"], 0.016541506363181815]\n",
      "\"1\"\t[[], 0.03867493637804221]\n",
      "\"10\"\t[[\"5\"], 0.016541506363181815]\n",
      "\"11\"\t[[\"5\"], 0.016541506363181815]\n",
      "\"2\"\t[[\"3\"], 0.41918431933958356]\n",
      "\"3\"\t[[\"2\"], 0.28315371577604154]\n"
     ]
    }
   ],
   "source": [
    "%reload_ext autoreload\n",
    "%autoreload 2\n",
    "\n",
    "from numpy import random,array\n",
    "from PageRank_graph_prep_2 import MRpageRankGraphPrep\n",
    "from PageRank_step3 import MRpageRank3\n",
    "from PageRank_step35 import MRpageRank35\n",
    "import ast\n",
    "import os\n",
    "\n",
    "!rm -r /home/cloudera/w261/HW9/data/toy_prepared_graph_input\n",
    "!rm -r /home/cloudera/w261/HW9/data/toy_prepared_graph_output\n",
    "!mkdir /home/cloudera/w261/HW9/data/toy_prepared_graph_input\n",
    "!rm -r /home/cloudera/w261/HW9/data/toy_prepared_graph_output_intermediate\n",
    "\n",
    "\n",
    "mr_job = MRpageRankGraphPrep(args=[\"/home/cloudera/w261/HW9/data/toy/example_1.txt\",\n",
    "                                    \"--output-dir\",\n",
    "                                    \"/home/cloudera/w261/HW9/data/toy_prepared_graph_input\"])\n",
    "\n",
    "with mr_job.make_runner() as runner: \n",
    "        runner.run()\n",
    "        counters = runner.counters()[0]\n",
    "        num_nodes = counters['Nodes']['Num_nodes']\n",
    "\n",
    "i = 0\n",
    "TEN_BILLION = 10000000000\n",
    "while(1):\n",
    "    if i == 0:\n",
    "        first_run = 1\n",
    "    else:\n",
    "        first_run = 0\n",
    "    mr_job = MRpageRank3(args=[\"/home/cloudera/w261/HW9/data/toy_prepared_graph_input\",\n",
    "                               \"--alpha\",0.15,\n",
    "                               \"--num-nodes\", str(num_nodes),\n",
    "                               \"--first-run\", str(first_run),\n",
    "                               \"--output-dir\",\n",
    "                               \"/home/cloudera/w261/HW9/data/toy_prepared_graph_output_intermediate\"])\n",
    "    \n",
    "    print \"iteration \"+str(i)+\" of Pagerank algorithm\"\n",
    "\n",
    "    with mr_job.make_runner() as runner: \n",
    "        runner.run()\n",
    "        counters = runner.counters()[0]\n",
    "        dangling_nodes_mass = float(counters[\"dangling_nodes\"][\"mass\"]) / float(TEN_BILLION)\n",
    "        \n",
    "    mr_job = MRpageRank35(args=[\"/home/cloudera/w261/HW9/data/toy_prepared_graph_output_intermediate\",\n",
    "                               \"--alpha\",0.15,\n",
    "                               \"--num-nodes\", str(num_nodes),\n",
    "                               \"--dangling-mass\",str(dangling_nodes_mass),\n",
    "                                \"--output-dir\",\n",
    "                               \"/home/cloudera/w261/HW9/data/toy_prepared_graph_output\"])\n",
    "    \n",
    "    with mr_job.make_runner() as runner: \n",
    "        runner.run()\n",
    "    \n",
    "    i = i + 1\n",
    "\n",
    "    !rm -r /home/cloudera/w261/HW9/data/toy_prepared_graph_input\n",
    "    !rm -r /home/cloudera/w261/HW9/data/toy_prepared_graph_output_intermediate\n",
    "    !cp -rT /home/cloudera/w261/HW9/data/toy_prepared_graph_output /home/cloudera/w261/HW9/data/toy_prepared_graph_input\n",
    "\n",
    "    if i >=5:\n",
    "        break\n",
    "!cat /home/cloudera/w261/HW9/data/toy_prepared_graph_output/*"
   ]
  },
  {
   "cell_type": "markdown",
   "metadata": {},
   "source": [
    "#### PageRank - EMR Implementation - Toy graph"
   ]
  },
  {
   "cell_type": "markdown",
   "metadata": {},
   "source": [
    "##### Preprocessing step"
   ]
  },
  {
   "cell_type": "code",
   "execution_count": 575,
   "metadata": {
    "collapsed": true
   },
   "outputs": [],
   "source": [
    "%reload_ext autoreload\n",
    "%autoreload 2\n",
    "\n",
    "from PageRank_graph_prep_2 import MRpageRankGraphPrep\n",
    "\n",
    "!aws s3 rm s3://cerc-w261/HW9/toy/prepared_graph_input_fixed --recursive --quiet\n",
    "!aws s3 rm s3://cerc-w261/HW9/toy/prepared_graph_input --recursive --quiet\n",
    "\n",
    "mr_job = MRpageRankGraphPrep(args=[\"-r\",\"emr\",\n",
    "                                   \"s3://cerc-w261/HW9/toy/raw_input\",\n",
    "                                   \"--cluster-id=j-1MCQ877VHZCQ7\",\n",
    "                                   \"--aws-region=us-west-2\",\n",
    "                                    \"--output-dir\",\n",
    "                                    \"s3://cerc-w261/HW9/toy/prepared_graph_input_fixed\"])\n",
    "\n",
    "with mr_job.make_runner() as runner: \n",
    "        runner.run()\n",
    "        counters = runner.counters()[0]\n",
    "        num_nodes = counters['Nodes']['Num_nodes']\n",
    "        \n",
    "!aws s3 cp s3://cerc-w261/HW9/toy/prepared_graph_input_fixed s3://cerc-w261/HW9/toy/prepared_graph_input --recursive --quiet"
   ]
  },
  {
   "cell_type": "markdown",
   "metadata": {},
   "source": [
    "##### Iterative PageRank steps"
   ]
  },
  {
   "cell_type": "code",
   "execution_count": 577,
   "metadata": {
    "collapsed": false,
    "scrolled": true
   },
   "outputs": [
    {
     "name": "stdout",
     "output_type": "stream",
     "text": [
      "iteration 0 of Pagerank algorithm\n",
      "iteration 1 of Pagerank algorithm\n",
      "iteration 2 of Pagerank algorithm\n",
      "iteration 3 of Pagerank algorithm\n",
      "iteration 4 of Pagerank algorithm\n"
     ]
    }
   ],
   "source": [
    "from numpy import random,array\n",
    "from PageRank_graph_prep_2 import MRpageRankGraphPrep\n",
    "from PageRank_step3 import MRpageRank3\n",
    "from PageRank_step35 import MRpageRank35\n",
    "import ast\n",
    "import os\n",
    "\n",
    "!aws s3 cp s3://cerc-w261/HW9/toy/prepared_graph_input_fixed s3://cerc-w261/HW9/toy/prepared_graph_input --recursive --quiet\n",
    "!aws s3 rm s3://cerc-w261/HW9/toy/prepared_graph_output --recursive --quiet\n",
    "!aws s3 rm s3://cerc-w261/HW9/toy/prepared_graph_temp_output --recursive --quiet\n",
    "!aws s3 rm s3://cerc-w261/HW9/toy/prepared_graph_output_intermediate --recursive --quiet\n",
    "\n",
    "i = 0\n",
    "TEN_BILLION = 10000000000\n",
    "while(1):\n",
    "    if i == 0:\n",
    "        first_run = 1\n",
    "    else:\n",
    "        first_run = 0\n",
    "    mr_job = MRpageRank3(args=[\"-r\",\"emr\",\n",
    "                               \"s3://cerc-w261/HW9/toy/prepared_graph_input\",\n",
    "                               \"--alpha\",str(0.15),\n",
    "                               \"--num-nodes\", str(num_nodes),\n",
    "                               \"--first-run\", str(first_run),\n",
    "                               \"--cluster-id=j-1MCQ877VHZCQ7\",\n",
    "                                \"--aws-region=us-west-2\",\n",
    "                               \"--output-dir\",\n",
    "                               \"s3://cerc-w261/HW9/toy/prepared_graph_temp_output\"])\n",
    "    \n",
    "    print \"iteration \"+str(i)+\" of Pagerank algorithm\"\n",
    "\n",
    "    with mr_job.make_runner() as runner: \n",
    "        runner.run()\n",
    "        counters = runner.counters()[0]\n",
    "        dangling_nodes_mass = float(counters[\"dangling_nodes\"][\"mass\"]) / float(TEN_BILLION)\n",
    "        \n",
    "    mr_job = MRpageRank35(args=[\"-r\",\"emr\",\n",
    "                                \"s3://cerc-w261/HW9/toy/prepared_graph_temp_output\",\n",
    "                               \"--alpha\",str(0.15),\n",
    "                               \"--num-nodes\", str(num_nodes),\n",
    "                               \"--dangling-mass\",str(dangling_nodes_mass),\n",
    "                                \"--cluster-id=j-1MCQ877VHZCQ7\",\n",
    "                                \"--aws-region=us-west-2\",\n",
    "                                \"--output-dir\",\n",
    "                               \"s3://cerc-w261/HW9/toy/prepared_graph_output\"])\n",
    "    \n",
    "    with mr_job.make_runner() as runner: \n",
    "        runner.run()\n",
    "    \n",
    "    i = i + 1\n",
    "\n",
    "    !aws s3 rm s3://cerc-w261/HW9/toy/prepared_graph_input/ --recursive --quiet\n",
    "    !aws s3 cp s3://cerc-w261/HW9/toy/prepared_graph_output s3://cerc-w261/HW9/toy/prepared_graph_input --recursive --quiet\n",
    "    !aws s3 rm s3://cerc-w261/HW9/toy/prepared_graph_temp_output --recursive --quiet\n",
    "    !aws s3 rm s3://cerc-w261/HW9/toy/prepared_graph_output --recursive --quiet\n",
    "\n",
    "    if i >=5:\n",
    "        break"
   ]
  },
  {
   "cell_type": "markdown",
   "metadata": {},
   "source": [
    "<h2 style=\"color:darkgreen\">  HW 9.1 Analysis </h2>\n",
    "\n",
    "\n",
    "\n",
    "\n",
    "<br><br>\n",
    "\n",
    "The main things to point out about our implementation is that we make strong use of counters to pass critical information (e.g. number of nodes and accumulated danling mass) from mrjob to mrjob thorughout the process. Additionally, we are very deliberate about space, time and network optimization, as is exemplified by the fact that the final job in the iterative algorithmic step uses only mappers such that we may skip the shufle and sort phase of the job, saving precious time and network bandwidth in the process."
   ]
  },
  {
   "cell_type": "markdown",
   "metadata": {},
   "source": [
    "<h2 style=\"color:red\"> HW 9.2: Exploring PageRank teleportation and network plots </h2>\n",
    "\n",
    "* In order to overcome  problems such as disconnected components, the damping factor (a typical value for d is 0.85) can be varied. \n",
    "* Using the graph in HW9.1, plot the test graph (using networkx, https://networkx.github.io/) for several values of the damping parameter alpha, so that each nodes radius is proportional to its PageRank score. \n",
    "* In particular you should do this for the following damping factors: [0,0.25,0.5,0.75, 0.85, 1]. \n",
    "* Note your plots should look like the following: https://en.wikipedia.org/wiki/PageRank#/media/File:PageRanks-Example.svg"
   ]
  },
  {
   "cell_type": "markdown",
   "metadata": {},
   "source": [
    "<h2 style=\"color:darkgreen\"> HW 9.2 Implementation </h2>"
   ]
  },
  {
   "cell_type": "code",
   "execution_count": 705,
   "metadata": {
    "collapsed": false
   },
   "outputs": [
    {
     "name": "stdout",
     "output_type": "stream",
     "text": [
      "rm: cannot remove `/home/cloudera/w261/HW9/data/toy_prepared_graph_output_intermediate': No such file or directory\n",
      "rm: cannot remove `/home/cloudera/w261/HW9/data/toy_prepared_graph_input_fixed': No such file or directory\n",
      "cp: omitting directory `/home/cloudera/w261/HW9/data/toy_prepared_graph_input'\n",
      "rm: cannot remove `/home/cloudera/w261/HW9/data/toy_prepared_graph_output': No such file or directory\n",
      "rm: cannot remove `/home/cloudera/w261/HW9/data/toy_prepared_graph_output_intermediate': No such file or directory\n",
      "cp: cannot stat `/home/cloudera/w261/HW9/data/toy_prepared_graph_input_fixed': No such file or directory\n",
      "rm: cannot remove `/home/cloudera/w261/HW9/data/toy_prepared_graph_output_intermediate': No such file or directory\n",
      "cp: cannot stat `/home/cloudera/w261/HW9/data/toy_prepared_graph_input_fixed': No such file or directory\n",
      "rm: cannot remove `/home/cloudera/w261/HW9/data/toy_prepared_graph_output_intermediate': No such file or directory\n",
      "cp: cannot stat `/home/cloudera/w261/HW9/data/toy_prepared_graph_input_fixed': No such file or directory\n",
      "rm: cannot remove `/home/cloudera/w261/HW9/data/toy_prepared_graph_output_intermediate': No such file or directory\n",
      "cp: cannot stat `/home/cloudera/w261/HW9/data/toy_prepared_graph_input_fixed': No such file or directory\n",
      "rm: cannot remove `/home/cloudera/w261/HW9/data/toy_prepared_graph_output_intermediate': No such file or directory\n",
      "cp: cannot stat `/home/cloudera/w261/HW9/data/toy_prepared_graph_input_fixed': No such file or directory\n",
      "rm: cannot remove `/home/cloudera/w261/HW9/data/toy_prepared_graph_output_intermediate': No such file or directory\n",
      "cp: cannot stat `/home/cloudera/w261/HW9/data/toy_prepared_graph_input_fixed': No such file or directory\n"
     ]
    }
   ],
   "source": [
    "%reload_ext autoreload\n",
    "%autoreload 2\n",
    "\n",
    "from numpy import random,array\n",
    "from PageRank_graph_prep_2 import MRpageRankGraphPrep\n",
    "from PageRank_step3 import MRpageRank3\n",
    "from PageRank_step35 import MRpageRank35\n",
    "import ast\n",
    "import os\n",
    "\n",
    "!rm -r /home/cloudera/w261/HW9/data/toy_prepared_graph_input\n",
    "!rm -r /home/cloudera/w261/HW9/data/toy_prepared_graph_output\n",
    "!mkdir /home/cloudera/w261/HW9/data/toy_prepared_graph_input\n",
    "!rm -r /home/cloudera/w261/HW9/data/toy_prepared_graph_output_intermediate\n",
    "!rm -r /home/cloudera/w261/HW9/data/toy_prepared_graph_input_fixed\n",
    "\n",
    "\n",
    "mr_job = MRpageRankGraphPrep(args=[\"/home/cloudera/w261/HW9/data/toy/example_1.txt\",\n",
    "                                    \"--output-dir\",\n",
    "                                    \"/home/cloudera/w261/HW9/data/toy_prepared_graph_input\"])\n",
    "\n",
    "with mr_job.make_runner() as runner: \n",
    "        runner.run()\n",
    "        counters = runner.counters()[0]\n",
    "        num_nodes = counters['Nodes']['Num_nodes']\n",
    "        \n",
    "!cp /home/cloudera/w261/HW9/data/toy_prepared_graph_input /home/cloudera/w261/HW9/data/toy_prepared_graph_input_fixed\n",
    "        \n",
    "alphas = [0.0, 0.25, 0.5, 0.75, 0.85, 1.0]\n",
    "\n",
    "for alpha in alphas:\n",
    "    \n",
    "    !rm -r /home/cloudera/w261/HW9/data/toy_prepared_graph_output\n",
    "    !rm -r /home/cloudera/w261/HW9/data/toy_prepared_graph_output_intermediate\n",
    "    !cp /home/cloudera/w261/HW9/data/toy_prepared_graph_input_fixed /home/cloudera/w261/HW9/data/toy_prepared_graph_input\n",
    "    \n",
    "    i = 0\n",
    "    TEN_BILLION = 10000000000\n",
    "    while(1):\n",
    "        if i == 0:\n",
    "            first_run = 1\n",
    "        else:\n",
    "            first_run = 0\n",
    "        mr_job = MRpageRank3(args=[\"/home/cloudera/w261/HW9/data/toy_prepared_graph_input\",\n",
    "                                   \"--alpha\", str(alpha),\n",
    "                                   \"--num-nodes\", str(num_nodes),\n",
    "                                   \"--first-run\", str(first_run),\n",
    "                                   \"--output-dir\",\n",
    "                                   \"/home/cloudera/w261/HW9/data/toy_prepared_graph_output_intermediate\"])\n",
    "\n",
    "        with mr_job.make_runner() as runner: \n",
    "            runner.run()\n",
    "            counters = runner.counters()[0]\n",
    "            dangling_nodes_mass = float(counters[\"dangling_nodes\"][\"mass\"]) / float(TEN_BILLION)\n",
    "\n",
    "        mr_job = MRpageRank35(args=[\"/home/cloudera/w261/HW9/data/toy_prepared_graph_output_intermediate\",\n",
    "                                   \"--alpha\", str(alpha),\n",
    "                                   \"--num-nodes\", str(num_nodes),\n",
    "                                   \"--dangling-mass\",str(dangling_nodes_mass),\n",
    "                                    \"--output-dir\",\n",
    "                                   \"/home/cloudera/w261/HW9/data/toy_prepared_graph_output\"])\n",
    "\n",
    "        with mr_job.make_runner() as runner: \n",
    "            runner.run()\n",
    "\n",
    "        i = i + 1\n",
    "\n",
    "        !rm -r /home/cloudera/w261/HW9/data/toy_prepared_graph_input\n",
    "        !rm -r /home/cloudera/w261/HW9/data/toy_prepared_graph_output_intermediate\n",
    "        !cp -rT /home/cloudera/w261/HW9/data/toy_prepared_graph_output /home/cloudera/w261/HW9/data/toy_prepared_graph_input\n",
    "\n",
    "        if i >=40:\n",
    "            break\n",
    "    !cat /home/cloudera/w261/HW9/data/toy_prepared_graph_output/* > \"/home/cloudera/w261/HW9/data/draw/input_graph_alpha_\"$alpha\".txt\""
   ]
  },
  {
   "cell_type": "code",
   "execution_count": 724,
   "metadata": {
    "collapsed": false
   },
   "outputs": [
    {
     "data": {
      "image/png": "[encoded data removed]",
      "text/plain": [
       "<matplotlib.figure.Figure at 0x7f895e5e9810>"
      ]
     },
     "metadata": {},
     "output_type": "display_data"
    },
    {
     "data": {
      "image/png": "[encoded data removed]",
      "text/plain": [
       "<matplotlib.figure.Figure at 0x7f895e827190>"
      ]
     },
     "metadata": {},
     "output_type": "display_data"
    },
    {
     "data": {
      "image/png": "[encoded data removed]",
      "text/plain": [
       "<matplotlib.figure.Figure at 0x7f895e57e450>"
      ]
     },
     "metadata": {},
     "output_type": "display_data"
    },
    {
     "data": {
      "image/png": "[encoded data removed]",
      "text/plain": [
       "<matplotlib.figure.Figure at 0x7f895e466150>"
      ]
     },
     "metadata": {},
     "output_type": "display_data"
    },
    {
     "data": {
      "image/png": "[encoded data removed]",
      "text/plain": [
       "<matplotlib.figure.Figure at 0x7f895e40f690>"
      ]
     },
     "metadata": {},
     "output_type": "display_data"
    },
    {
     "data": {
      "image/png": "[encoded data removed]",
      "text/plain": [
       "<matplotlib.figure.Figure at 0x7f895e622550>"
      ]
     },
     "metadata": {},
     "output_type": "display_data"
    }
   ],
   "source": [
    "%matplotlib inline\n",
    "import pandas as pd\n",
    "import matplotlib.pyplot as plt\n",
    "import os\n",
    "import ast\n",
    "import networkx as nx\n",
    "\n",
    "\"\"\"\n",
    "Python script to visualize pageRank graphs.\n",
    "\"\"\"\n",
    "\n",
    "def pagerank_graph():\n",
    "\n",
    "    \n",
    "    G = nx.Graph()\n",
    "    G = G.to_directed()\n",
    "    G.pageRank={}\n",
    "    \n",
    "    input_dir = \"/home/cloudera/w261/HW9/data/draw_input/\"\n",
    "    \n",
    "    for name in os.listdir(input_dir):\n",
    "        with open(input_dir+name) as f:\n",
    "            for line in f:\n",
    "                line = line.strip(\"\\n\")\n",
    "                node, payload = line.split(\"\\t\")\n",
    "                node = node.strip('\"')\n",
    "                if node not in G:\n",
    "                    G.add_node(node)\n",
    "                payload = ast.literal_eval(payload)\n",
    "                neighbors = payload[0]\n",
    "                pageRank = payload[1]\n",
    "                G.pageRank[node] = pageRank\n",
    "                for n in neighbors:\n",
    "                    if n not in G:\n",
    "                        G.add_node(n)\n",
    "                    if not G.has_edge(node,n):\n",
    "                        G.add_edge(node,n)\n",
    "\n",
    "        plt.figure(figsize=(8,8))\n",
    "        node_color = [G.pageRank[n]*1000000 for n in G]\n",
    "        nx.draw(G,\n",
    "             node_size = [G.pageRank[n]*5000 for n in G],\n",
    "             node_color = node_color,\n",
    "             with_labels = False)\n",
    "        nx.circular_layout(G)\n",
    "        name_components = name.split(\"_\")\n",
    "        alpha = name_components[-1].strip(\".txt\")\n",
    "        plt.title(\"Toy Graph - Alpha = %s\"%alpha)\n",
    "        file_name = \"/home/cloudera/w261/HW9/data/draw_output/graph_alpha_%s.png\"%alpha\n",
    "        plt.savefig(file_name)\n",
    "\n",
    "pagerank_graph()"
   ]
  },
  {
   "cell_type": "markdown",
   "metadata": {},
   "source": [
    "<h2 style=\"color:darkgreen\">  HW 9.2 Analysis </h2>\n",
    "\n",
    "\n",
    "\n",
    "\n",
    "<br><br>\n",
    "As one might expect, the dampening factor has a dramatic effect on the end pagerank values for the nodes in the graph. THe graphs above show that, as alpha aproaches 1 the mass of the nodes approaches a uniform distribution of pagerank across all nodes. As alpha approaches 0 we see that the pagerank mass tends to concentrate on the dangling nodes and the nodes directly linked to the dangling nodes."
   ]
  },
  {
   "cell_type": "markdown",
   "metadata": {},
   "source": [
    "<h2 style=\"color:red\"> HW 9.3: Applying PageRank to the Wikipedia hyperlinks network </h2>\n",
    "\n",
    "* Run your PageRank implementation on the Wikipedia dataset for 5 iterations, and display the top 100 ranked nodes (with alpha = 0.85).\n",
    "* Run your PageRank implementation on the Wikipedia dataset for 10 iterations, and display the top 100 ranked nodes (with teleportation factor of 0.15).\n",
    "* Have the top 100 ranked pages changed? Comment on your findings. \n",
    "* Plot the pagerank values for the top 100 pages resulting from the 5 iterations run. Then plot the pagerank values for the same 100 pages that resulted from the 10 iterations run.  \n"
   ]
  },
  {
   "cell_type": "markdown",
   "metadata": {},
   "source": [
    "<h2 style=\"color:darkgreen\"> HW 9.3 Implementation </h2>"
   ]
  },
  {
   "cell_type": "markdown",
   "metadata": {},
   "source": [
    "#### Wikipedia Graph Pagerank implementation\n",
    "\n",
    "It is important to note that, to optimize for time and resources, I decided to run the iterative step from iterations one through five once, and then use the results from the fifth iteration to compute iterations six through ten.\n",
    "\n",
    "##### Wikipedia Graph preparation step"
   ]
  },
  {
   "cell_type": "code",
   "execution_count": 7,
   "metadata": {
    "collapsed": false
   },
   "outputs": [],
   "source": [
    "%reload_ext autoreload\n",
    "%autoreload 2\n",
    "\n",
    "from PageRank_graph_prep_2 import MRpageRankGraphPrep\n",
    "\n",
    "!aws s3 rm s3://cerc-w261/HW9/wiki/prepared_graph_input_fixed --recursive --quiet\n",
    "!aws s3 rm s3://cerc-w261/HW9/wiki/prepared_graph_input --recursive --quiet\n",
    "\n",
    "mr_job = MRpageRankGraphPrep(args=[\"-r\",\"emr\",\n",
    "                                   \"s3://ucb-mids-mls-networks/wikipedia/all-pages-indexed-out.txt\",\n",
    "                                   \"--cluster-id=j-3CTQF8OV4ICKJ\",\n",
    "                                   \"--aws-region=us-west-2\",\n",
    "                                    \"--output-dir\",\n",
    "                                    \"s3://cerc-w261/HW9/wiki/prepared_graph_input_fixed\"])\n",
    "\n",
    "with mr_job.make_runner() as runner: \n",
    "        runner.run()\n",
    "        counters = runner.counters()[0]\n",
    "        num_nodes = counters['Nodes']['Num_nodes']\n",
    "        \n",
    "!aws s3 cp s3://cerc-w261/HW9/wiki/prepared_graph_input_fixed s3://cerc-w261/HW9/wiki/prepared_graph_input --recursive --quiet"
   ]
  },
  {
   "cell_type": "markdown",
   "metadata": {},
   "source": [
    "##### Wikipedia Graph Iterative Steps (1 through 5)"
   ]
  },
  {
   "cell_type": "code",
   "execution_count": 580,
   "metadata": {
    "collapsed": false
   },
   "outputs": [
    {
     "name": "stdout",
     "output_type": "stream",
     "text": [
      "iteration 0 of Pagerank algorithm\n",
      "{'Map-Reduce Framework': {'Spilled Records': 333434642, 'Total committed heap usage (bytes)': 74138517504, 'Reduce output records': 15192277, 'GC time elapsed (ms)': 62008, 'Reduce input records': 166717321, 'Combine input records': 0, 'Reduce input groups': 15192278, 'Map output bytes': 7948998441, 'CPU time spent (ms)': 10489630, 'Combine output records': 0, 'Input split bytes': 7490, 'Map input records': 15192277, 'Map output materialized bytes': 3151167797, 'Physical memory (bytes) snapshot': 69121142784, 'Shuffled Maps ': 2450, 'Map output records': 166717321, 'Reduce shuffle bytes': 3151167797, 'Virtual memory (bytes) snapshot': 251055091712, 'Failed Shuffles': 0, 'Merged Map outputs': 2450}, 'dangling_nodes': {'mass': 6194586235}, 'File Output Format Counters ': {'Bytes Written': 2168168666}, 'Job Counters ': {'Total time spent by all maps in occupied slots (ms)': 679398930, 'Total vcore-seconds taken by all map tasks': 15097754, 'Launched map tasks': 70, 'Launched reduce tasks': 35, 'Total vcore-seconds taken by all reduce tasks': 4696476, 'Total megabyte-seconds taken by all reduce tasks': 13525850880, 'Total megabyte-seconds taken by all map tasks': 21740765760, 'Total time spent by all reduce tasks (ms)': 4696476, 'Total time spent by all map tasks (ms)': 15097754, 'Data-local map tasks': 70, 'Total time spent by all reduces in occupied slots (ms)': 422682840}, 'File System Counters': {'S3: Number of read operations': 0, 'FILE: Number of write operations': 0, 'S3: Number of large read operations': 0, 'HDFS: Number of write operations': 0, 'FILE: Number of read operations': 0, 'HDFS: Number of bytes read': 7490, 'S3: Number of write operations': 0, 'S3: Number of bytes read': 1907100528, 'HDFS: Number of read operations': 70, 'FILE: Number of bytes written': 6127593434, 'HDFS: Number of large read operations': 0, 'HDFS: Number of bytes written': 0, 'FILE: Number of large read operations': 0, 'FILE: Number of bytes read': 2965479640, 'S3: Number of bytes written': 2168168666}, 'File Input Format Counters ': {'Bytes Read': 1907100528}, 'Shuffle Errors': {'WRONG_MAP': 0, 'WRONG_LENGTH': 0, 'BAD_ID': 0, 'IO_ERROR': 0, 'WRONG_REDUCE': 0, 'CONNECTION': 0}}\n",
      "iteration 1 of Pagerank algorithm\n",
      "{'Map-Reduce Framework': {'Spilled Records': 333434642, 'Total committed heap usage (bytes)': 71917109248, 'Reduce output records': 15192277, 'GC time elapsed (ms)': 62582, 'Reduce input records': 166717321, 'Combine input records': 0, 'Reduce input groups': 15192278, 'Map output bytes': 7945313965, 'CPU time spent (ms)': 10567260, 'Combine output records': 0, 'Input split bytes': 7490, 'Map input records': 15192277, 'Map output materialized bytes': 4489511477, 'Physical memory (bytes) snapshot': 68930969600, 'Shuffled Maps ': 2450, 'Map output records': 166717321, 'Reduce shuffle bytes': 4489511477, 'Virtual memory (bytes) snapshot': 251172237312, 'Failed Shuffles': 0, 'Merged Map outputs': 2450}, 'dangling_nodes': {'mass': 5008445417}, 'File Output Format Counters ': {'Bytes Written': 2167899884}, 'Job Counters ': {'Total time spent by all maps in occupied slots (ms)': 683630415, 'Total vcore-seconds taken by all map tasks': 15191787, 'Launched map tasks': 70, 'Launched reduce tasks': 35, 'Total vcore-seconds taken by all reduce tasks': 4746079, 'Total megabyte-seconds taken by all reduce tasks': 13668707520, 'Total megabyte-seconds taken by all map tasks': 21876173280, 'Total time spent by all reduce tasks (ms)': 4746079, 'Total time spent by all map tasks (ms)': 15191787, 'Data-local map tasks': 70, 'Total time spent by all reduces in occupied slots (ms)': 427147110}, 'File System Counters': {'S3: Number of read operations': 0, 'FILE: Number of write operations': 0, 'S3: Number of large read operations': 0, 'HDFS: Number of write operations': 0, 'FILE: Number of read operations': 0, 'HDFS: Number of bytes read': 7490, 'S3: Number of write operations': 0, 'S3: Number of bytes read': 2183980244, 'HDFS: Number of read operations': 70, 'FILE: Number of bytes written': 8767079141, 'HDFS: Number of large read operations': 0, 'HDFS: Number of bytes written': 0, 'FILE: Number of large read operations': 0, 'FILE: Number of bytes read': 4266621575, 'S3: Number of bytes written': 2167899884}, 'File Input Format Counters ': {'Bytes Read': 2183980244}, 'Shuffle Errors': {'WRONG_MAP': 0, 'WRONG_LENGTH': 0, 'BAD_ID': 0, 'IO_ERROR': 0, 'WRONG_REDUCE': 0, 'CONNECTION': 0}}\n",
      "iteration 2 of Pagerank algorithm\n",
      "{'Map-Reduce Framework': {'Spilled Records': 333434642, 'Total committed heap usage (bytes)': 72817836032, 'Reduce output records': 15192277, 'GC time elapsed (ms)': 62387, 'Reduce input records': 166717321, 'Combine input records': 0, 'Reduce input groups': 15192278, 'Map output bytes': 7945491896, 'CPU time spent (ms)': 10551570, 'Combine output records': 0, 'Input split bytes': 7490, 'Map input records': 15192277, 'Map output materialized bytes': 4527694374, 'Physical memory (bytes) snapshot': 69333086208, 'Shuffled Maps ': 2450, 'Map output records': 166717321, 'Reduce shuffle bytes': 4527694374, 'Virtual memory (bytes) snapshot': 251105452032, 'Failed Shuffles': 0, 'Merged Map outputs': 2450}, 'dangling_nodes': {'mass': 4675425746}, 'File Output Format Counters ': {'Bytes Written': 2167889958}, 'Job Counters ': {'Total time spent by all maps in occupied slots (ms)': 681334740, 'Total vcore-seconds taken by all map tasks': 15140772, 'Launched map tasks': 70, 'Launched reduce tasks': 35, 'Total vcore-seconds taken by all reduce tasks': 4719364, 'Total megabyte-seconds taken by all reduce tasks': 13591768320, 'Total megabyte-seconds taken by all map tasks': 21802711680, 'Total time spent by all reduce tasks (ms)': 4719364, 'Total time spent by all map tasks (ms)': 15140772, 'Data-local map tasks': 70, 'Total time spent by all reduces in occupied slots (ms)': 424742760}, 'File System Counters': {'S3: Number of read operations': 0, 'FILE: Number of write operations': 0, 'S3: Number of large read operations': 0, 'HDFS: Number of write operations': 0, 'FILE: Number of read operations': 0, 'HDFS: Number of bytes read': 7490, 'S3: Number of write operations': 0, 'S3: Number of bytes read': 2184550003, 'HDFS: Number of read operations': 70, 'FILE: Number of bytes written': 8844450818, 'HDFS: Number of large read operations': 0, 'HDFS: Number of bytes written': 0, 'FILE: Number of large read operations': 0, 'FILE: Number of bytes read': 4305810349, 'S3: Number of bytes written': 2167889958}, 'File Input Format Counters ': {'Bytes Read': 2184550003}, 'Shuffle Errors': {'WRONG_MAP': 0, 'WRONG_LENGTH': 0, 'BAD_ID': 0, 'IO_ERROR': 0, 'WRONG_REDUCE': 0, 'CONNECTION': 0}}\n",
      "iteration 3 of Pagerank algorithm\n",
      "{'Map-Reduce Framework': {'Spilled Records': 333434642, 'Total committed heap usage (bytes)': 70660390912, 'Reduce output records': 15192277, 'GC time elapsed (ms)': 63099, 'Reduce input records': 166717321, 'Combine input records': 0, 'Reduce input groups': 15192278, 'Map output bytes': 7942987171, 'CPU time spent (ms)': 10530350, 'Combine output records': 0, 'Input split bytes': 7490, 'Map input records': 15192277, 'Map output materialized bytes': 4529629228, 'Physical memory (bytes) snapshot': 68139028480, 'Shuffled Maps ': 2450, 'Map output records': 166717321, 'Reduce shuffle bytes': 4529629228, 'Virtual memory (bytes) snapshot': 251238932480, 'Failed Shuffles': 0, 'Merged Map outputs': 2450}, 'dangling_nodes': {'mass': 4568631906}, 'File Output Format Counters ': {'Bytes Written': 2167679471}, 'Job Counters ': {'Total time spent by all maps in occupied slots (ms)': 676061865, 'Total vcore-seconds taken by all map tasks': 15023597, 'Launched map tasks': 70, 'Launched reduce tasks': 35, 'Total vcore-seconds taken by all reduce tasks': 4723475, 'Total megabyte-seconds taken by all reduce tasks': 13603608000, 'Total megabyte-seconds taken by all map tasks': 21633979680, 'Total time spent by all reduce tasks (ms)': 4723475, 'Total time spent by all map tasks (ms)': 15023597, 'Data-local map tasks': 70, 'Total time spent by all reduces in occupied slots (ms)': 425112750}, 'File System Counters': {'S3: Number of read operations': 0, 'FILE: Number of write operations': 0, 'S3: Number of large read operations': 0, 'HDFS: Number of write operations': 0, 'FILE: Number of read operations': 0, 'HDFS: Number of bytes read': 7490, 'S3: Number of write operations': 0, 'S3: Number of bytes read': 2182686060, 'HDFS: Number of read operations': 70, 'FILE: Number of bytes written': 8848234205, 'HDFS: Number of large read operations': 0, 'HDFS: Number of bytes written': 0, 'FILE: Number of large read operations': 0, 'FILE: Number of bytes read': 4307658887, 'S3: Number of bytes written': 2167679471}, 'File Input Format Counters ': {'Bytes Read': 2182686060}, 'Shuffle Errors': {'WRONG_MAP': 0, 'WRONG_LENGTH': 0, 'BAD_ID': 0, 'IO_ERROR': 0, 'WRONG_REDUCE': 0, 'CONNECTION': 0}}\n",
      "iteration 4 of Pagerank algorithm\n",
      "{'Map-Reduce Framework': {'Spilled Records': 333434642, 'Total committed heap usage (bytes)': 72466563072, 'Reduce output records': 15192277, 'GC time elapsed (ms)': 63513, 'Reduce input records': 166717321, 'Combine input records': 0, 'Reduce input groups': 15192278, 'Map output bytes': 7946644329, 'CPU time spent (ms)': 10555260, 'Combine output records': 0, 'Input split bytes': 7490, 'Map input records': 15192277, 'Map output materialized bytes': 4528603922, 'Physical memory (bytes) snapshot': 68712030208, 'Shuffled Maps ': 2450, 'Map output records': 166717321, 'Reduce shuffle bytes': 4528603922, 'Virtual memory (bytes) snapshot': 251152093184, 'Failed Shuffles': 0, 'Merged Map outputs': 2450}, 'dangling_nodes': {'mass': 4531618612}, 'File Output Format Counters ': {'Bytes Written': 2168006904}, 'Job Counters ': {'Total time spent by all maps in occupied slots (ms)': 677166075, 'Total vcore-seconds taken by all map tasks': 15048135, 'Launched map tasks': 70, 'Launched reduce tasks': 35, 'Total vcore-seconds taken by all reduce tasks': 4730111, 'Total megabyte-seconds taken by all reduce tasks': 13622719680, 'Total megabyte-seconds taken by all map tasks': 21669314400, 'Total time spent by all reduce tasks (ms)': 4730111, 'Total time spent by all map tasks (ms)': 15048135, 'Data-local map tasks': 70, 'Total time spent by all reduces in occupied slots (ms)': 425709990}, 'File System Counters': {'S3: Number of read operations': 0, 'FILE: Number of write operations': 0, 'S3: Number of large read operations': 0, 'HDFS: Number of write operations': 0, 'FILE: Number of read operations': 0, 'HDFS: Number of bytes read': 7490, 'S3: Number of write operations': 0, 'S3: Number of bytes read': 2184607258, 'HDFS: Number of read operations': 70, 'FILE: Number of bytes written': 8846612315, 'HDFS: Number of large read operations': 0, 'HDFS: Number of bytes written': 0, 'FILE: Number of large read operations': 0, 'FILE: Number of bytes read': 4307062305, 'S3: Number of bytes written': 2168006904}, 'File Input Format Counters ': {'Bytes Read': 2184607258}, 'Shuffle Errors': {'WRONG_MAP': 0, 'WRONG_LENGTH': 0, 'BAD_ID': 0, 'IO_ERROR': 0, 'WRONG_REDUCE': 0, 'CONNECTION': 0}}\n"
     ]
    }
   ],
   "source": [
    "from numpy import random,array\n",
    "from PageRank_graph_prep_2 import MRpageRankGraphPrep\n",
    "from PageRank_step3 import MRpageRank3\n",
    "from PageRank_step35 import MRpageRank35\n",
    "import ast\n",
    "import os\n",
    "\n",
    "!aws s3 cp s3://cerc-w261/HW9/wiki/prepared_graph_input_fixed s3://cerc-w261/HW9/wiki/prepared_graph_input --recursive --quiet\n",
    "# !aws s3 rm s3://cerc-w261/HW9/toy/prepared_graph_input --recursive --quiet\n",
    "!aws s3 rm s3://cerc-w261/HW9/wiki/prepared_graph_output --recursive --quiet\n",
    "!aws s3 rm s3://cerc-w261/HW9/wiki/prepared_graph_temp_output --recursive --quiet\n",
    "#!aws s3 rm s3://cerc-w261/HW9/wiki/prepared_graph_output_intermediate --recursive --quiet\n",
    "\n",
    "i = 0\n",
    "TEN_BILLION = 10000000000\n",
    "while(1):\n",
    "    if i == 0:\n",
    "        first_run = 1\n",
    "    else:\n",
    "        first_run = 0\n",
    "    mr_job = MRpageRank3(args=[\"-r\",\"emr\",\n",
    "                               \"s3://cerc-w261/HW9/wiki/prepared_graph_input\",\n",
    "                               \"--alpha\",str(0.15),\n",
    "                               \"--num-nodes\", str(num_nodes),\n",
    "                               \"--first-run\", str(first_run),\n",
    "                               \"--cluster-id=j-1MCQ877VHZCQ7\",\n",
    "                                \"--aws-region=us-west-2\",\n",
    "                               \"--output-dir\",\n",
    "                               \"s3://cerc-w261/HW9/wiki/prepared_graph_temp_output\"])\n",
    "    \n",
    "    print \"iteration \"+str(i)+\" of Pagerank algorithm\"\n",
    "\n",
    "    with mr_job.make_runner() as runner: \n",
    "        runner.run()\n",
    "        counters = runner.counters()[0]\n",
    "        print counters\n",
    "        dangling_nodes_mass = float(counters[\"dangling_nodes\"][\"mass\"]) / float(TEN_BILLION)\n",
    "        \n",
    "    mr_job = MRpageRank35(args=[\"-r\",\"emr\",\n",
    "                                \"s3://cerc-w261/HW9/wiki/prepared_graph_temp_output\",\n",
    "                               \"--alpha\",str(0.15),\n",
    "                               \"--num-nodes\", str(num_nodes),\n",
    "                               \"--dangling-mass\",str(dangling_nodes_mass),\n",
    "                                \"--cluster-id=j-1MCQ877VHZCQ7\",\n",
    "                                \"--aws-region=us-west-2\",\n",
    "                                \"--output-dir\",\n",
    "                               \"s3://cerc-w261/HW9/wiki/prepared_graph_output\"])\n",
    "    \n",
    "    with mr_job.make_runner() as runner: \n",
    "        runner.run()\n",
    "    \n",
    "    i = i + 1\n",
    "\n",
    "    !aws s3 rm s3://cerc-w261/HW9/wiki/prepared_graph_input/ --recursive --quiet\n",
    "    !aws s3 cp s3://cerc-w261/HW9/wiki/prepared_graph_output s3://cerc-w261/HW9/wiki/prepared_graph_input --recursive --quiet\n",
    "    !aws s3 rm s3://cerc-w261/HW9/wiki/prepared_graph_temp_output --recursive --quiet\n",
    "    !aws s3 rm s3://cerc-w261/HW9/wiki/prepared_graph_output --recursive --quiet\n",
    "\n",
    "    if i >= 5:\n",
    "        break\n",
    "!aws s3 cp s3://cerc-w261/HW9/wiki/prepared_graph_input s3://cerc-w261/HW9/wiki/output_five_iterations --recursive --quiet\n",
    "!aws s3 rm s3://cerc-w261/HW9/wiki/prepared_graph_input --recursive --quiet"
   ]
  },
  {
   "cell_type": "markdown",
   "metadata": {},
   "source": [
    "##### Wikipedia Graph Iterative Steps (6 through 10)"
   ]
  },
  {
   "cell_type": "code",
   "execution_count": 9,
   "metadata": {
    "collapsed": false
   },
   "outputs": [
    {
     "name": "stdout",
     "output_type": "stream",
     "text": [
      "iteration 0 of Pagerank algorithm\n",
      "iteration 1 of Pagerank algorithm\n",
      "iteration 2 of Pagerank algorithm\n",
      "iteration 3 of Pagerank algorithm\n",
      "iteration 4 of Pagerank algorithm\n"
     ]
    }
   ],
   "source": [
    "from numpy import random,array\n",
    "from PageRank_graph_prep_2 import MRpageRankGraphPrep\n",
    "from PageRank_step3 import MRpageRank3\n",
    "from PageRank_step35 import MRpageRank35\n",
    "import ast\n",
    "import os\n",
    "\n",
    "# !aws s3 rm s3://cerc-w261/HW9/toy/prepared_graph_input --recursive --quiet\n",
    "!aws s3 cp s3://cerc-w261/HW9/wiki/output_five_iterations s3://cerc-w261/HW9/wiki/prepared_graph_input --recursive --quiet\n",
    "!aws s3 rm s3://cerc-w261/HW9/wiki/prepared_graph_output --recursive --quiet\n",
    "!aws s3 rm s3://cerc-w261/HW9/wiki/prepared_graph_temp_output --recursive --quiet\n",
    "#!aws s3 rm s3://cerc-w261/HW9/wiki/prepared_graph_output_intermediate --recursive --quiet\n",
    "\n",
    "i = 0\n",
    "TEN_BILLION = 10000000000\n",
    "while(1):\n",
    "    if i == 0:\n",
    "        first_run = 1\n",
    "    else:\n",
    "        first_run = 0\n",
    "    mr_job = MRpageRank3(args=[\"-r\",\"emr\",\n",
    "                               \"s3://cerc-w261/HW9/wiki/prepared_graph_input\",\n",
    "                               \"--alpha\",str(0.15),\n",
    "                               \"--num-nodes\", str(num_nodes),\n",
    "                               \"--first-run\", str(first_run),\n",
    "                               \"--cluster-id=j-3CTQF8OV4ICKJ\",\n",
    "                                \"--aws-region=us-west-2\",\n",
    "                               \"--output-dir\",\n",
    "                               \"s3://cerc-w261/HW9/wiki/prepared_graph_temp_output\"])\n",
    "    \n",
    "    print \"iteration \"+str(i)+\" of Pagerank algorithm\"\n",
    "\n",
    "    with mr_job.make_runner() as runner: \n",
    "        runner.run()\n",
    "        counters = runner.counters()[0]\n",
    "        dangling_nodes_mass = float(counters[\"dangling_nodes\"][\"mass\"]) / float(TEN_BILLION)\n",
    "        \n",
    "    mr_job = MRpageRank35(args=[\"-r\",\"emr\",\n",
    "                                \"s3://cerc-w261/HW9/wiki/prepared_graph_temp_output\",\n",
    "                               \"--alpha\",str(0.15),\n",
    "                               \"--num-nodes\", str(num_nodes),\n",
    "                               \"--dangling-mass\",str(dangling_nodes_mass),\n",
    "                                \"--cluster-id=j-3CTQF8OV4ICKJ\",\n",
    "                                \"--aws-region=us-west-2\",\n",
    "                                \"--output-dir\",\n",
    "                               \"s3://cerc-w261/HW9/wiki/prepared_graph_output\"])\n",
    "    \n",
    "    with mr_job.make_runner() as runner: \n",
    "        runner.run()\n",
    "    \n",
    "    i = i + 1\n",
    "\n",
    "    !aws s3 rm s3://cerc-w261/HW9/wiki/prepared_graph_input/ --recursive --quiet\n",
    "    !aws s3 cp s3://cerc-w261/HW9/wiki/prepared_graph_output s3://cerc-w261/HW9/wiki/prepared_graph_input --recursive --quiet\n",
    "    !aws s3 rm s3://cerc-w261/HW9/wiki/prepared_graph_temp_output --recursive --quiet\n",
    "    !aws s3 rm s3://cerc-w261/HW9/wiki/prepared_graph_output --recursive --quiet\n",
    "\n",
    "    if i >= 5:\n",
    "        break\n",
    "!aws s3 cp s3://cerc-w261/HW9/wiki/prepared_graph_input s3://cerc-w261/HW9/wiki/output_ten_iterations --recursive --quiet"
   ]
  },
  {
   "cell_type": "markdown",
   "metadata": {},
   "source": [
    "#### Obtaining top nodes"
   ]
  },
  {
   "cell_type": "code",
   "execution_count": 688,
   "metadata": {
    "collapsed": false
   },
   "outputs": [
    {
     "name": "stdout",
     "output_type": "stream",
     "text": [
      "Writing top100_final.py\n"
     ]
    }
   ],
   "source": [
    "%%writefile top100_final.py\n",
    "#!/usr/bin/env python\n",
    "\n",
    "from mrjob.job import MRJob\n",
    "from mrjob.step import MRStep\n",
    "import sys\n",
    "import os\n",
    "import ast\n",
    "from mrjob.protocol import RawValueProtocol\n",
    "from mrjob.protocol import RawProtocol\n",
    "\n",
    "class MRtop100_final(MRJob):\n",
    "    \n",
    "    # Settings for sorting\n",
    "    MRJob.SORT_VALUES = True \n",
    "    INTERNAL_PROTOCOL = RawProtocol\n",
    "    OUTPUT_PROTOCOL = RawProtocol\n",
    "    \n",
    "    def steps(self):\n",
    "        ## Note that we are explicitly setting \n",
    "        ## multiple reducers, we are considering the \n",
    "        ## full output of the mappers as a key for the\n",
    "        ## shuffle phase, setting partitioners based on \n",
    "        ## artificial partition keys and we are sorting\n",
    "        ## based on the oagerank values\n",
    "        JOB_CONF_STEP = {\n",
    "            'mapreduce.job.output.key.comparator.class': 'org.apache.hadoop.mapred.lib.KeyFieldBasedComparator',\n",
    "            'stream.num.map.output.key.field': 4,\n",
    "            'stream.map.output.field.separator':'/t',\n",
    "            'mapreduce.partition.keypartitioner.options':'-k1,1',\n",
    "            'mapreduce.partition.keycomparator.options': '-k4,4nr',\n",
    "             'mapreduce.job.reduces': 10,\n",
    "            'partitioner':'org.apache.hadoop.mapred.lib.KeyFieldBasedPartitioner'\n",
    "        }\n",
    "        \n",
    "        JOB_CONF_STEP_2 = {\n",
    "            'mapreduce.job.output.key.comparator.class': 'org.apache.hadoop.mapred.lib.KeyFieldBasedComparator',\n",
    "            'stream.num.map.output.key.field': 3,\n",
    "            'stream.map.output.field.separator':'/t',\n",
    "            'mapreduce.partition.keycomparator.options': '-k3,3nr',\n",
    "             'mapreduce.job.reduces': 1,\n",
    "            'partitioner':'org.apache.hadoop.mapred.lib.KeyFieldBasedPartitioner'\n",
    "        }\n",
    "        \n",
    "        return [\n",
    "            MRStep(jobconf=JOB_CONF_STEP,\n",
    "                   mapper=self.mapper,\n",
    "                   reducer_init=self.reducer_init,\n",
    "                   reducer=self.reducer\n",
    "            ),\n",
    "            MRStep(jobconf=JOB_CONF_STEP_2,\n",
    "                   mapper=self.mapper2,\n",
    "                   reducer_init=self.reducer_init2,\n",
    "                   reducer=self.reducer2\n",
    "            )\n",
    "        ]\n",
    "    \n",
    "    ## Notice that we are emmitting artificial \n",
    "    ## keys to ensure that the partitioners can \n",
    "    ## key off of them and guarantee sorted output\n",
    "    \n",
    "    def mapper(self, _, line):\n",
    "        TEN_BILLION = 10000000000\n",
    "        line = line.strip()\n",
    "        key, value = line.split(\"\\t\")\n",
    "        key = key.strip('\"')\n",
    "        value = ast.literal_eval(value)\n",
    "        neighbors = value[0]\n",
    "        PR = float(value[1])\n",
    "        ## transforming the pagerank values to integers\n",
    "        ## to ensure appropriate decreasing sort\n",
    "        PR = int(PR*TEN_BILLION)\n",
    "        if PR >= int(0.0001*TEN_BILLION):\n",
    "            yield 'a', key+\"\\t\"+str(neighbors)+\"\\t\"+str(PR)\n",
    "        elif PR >= int(0.00001*TEN_BILLION):\n",
    "            yield 'b', key+\"\\t\"+str(neighbors)+\"\\t\"+str(PR)\n",
    "        elif PR >= int(0.000001*TEN_BILLION):\n",
    "            yield 'c', key+\"\\t\"+str(neighbors)+\"\\t\"+str(PR)\n",
    "        elif PR >= int(0.0000001*TEN_BILLION):\n",
    "            yield 'd', key+\"\\t\"+str(neighbors)+\"\\t\"+str(PR)\n",
    "        elif PR >= int(0.00000001*TEN_BILLION):\n",
    "            yield 'e', key+\"\\t\"+str(neighbors)+\"\\t\"+str(PR)\n",
    "        elif PR >= int(0.000000001*TEN_BILLION):\n",
    "            yield 'f', key+\"\\t\"+str(neighbors)+\"\\t\"+str(PR)\n",
    "        elif PR >= int(0.0000000001*TEN_BILLION):\n",
    "            yield 'g', key+\"\\t\"+str(neighbors)+\"\\t\"+str(PR)\n",
    "        elif PR >= int(0.00000000001*TEN_BILLION):\n",
    "            yield 'h', key+\"\\t\"+str(neighbors)+\"\\t\"+str(PR)\n",
    "        elif PR >= int(0.000000000001*TEN_BILLION):\n",
    "            yield 'i', key+\"\\t\"+str(neighbors)+\"\\t\"+str(PR)\n",
    "        else:\n",
    "            yield 'j', key+\"\\t\"+str(neighbors)+\"\\t\"+str(PR)\n",
    "            \n",
    "    def reducer_init(self):\n",
    "        self.top100_counter = 0\n",
    "        \n",
    "    def reducer_init2(self):\n",
    "        self.top100_counter = 0\n",
    "            \n",
    "    def reducer(self,key,value):\n",
    "        ## Here we only emit the top 100 entries for each reducer\n",
    "        for v in value:\n",
    "            v = v.strip()\n",
    "            if self.top100_counter < 100:\n",
    "                self.top100_counter += 1\n",
    "                yield None, v\n",
    "                \n",
    "    def reducer2(self, key, value):\n",
    "        key = key.strip()\n",
    "        key = key.strip('\"')\n",
    "        TEN_BILLION = 10000000000\n",
    "        for v in value:\n",
    "            v = v.strip()\n",
    "            neighbors, PR = v.split(\"\\t\")\n",
    "            ## transforming the pagerank values \n",
    "            ## back to floats for the final emission\n",
    "            PR = float(PR) / float(TEN_BILLION)\n",
    "            if self.top100_counter < 100:\n",
    "                self.top100_counter += 1\n",
    "                yield key, str(neighbors)+\"\\t\"+str(PR)\n",
    "                \n",
    "    def mapper2(self, key, value):\n",
    "        ## We are simply emitting the jey and value fed\n",
    "        ## to the mapper as our goal is to engage the \n",
    "        ## sorting mechanism in the shuffle and sort phase\n",
    "        key = key.strip()\n",
    "        value = value.strip()\n",
    "        neighbors, PR = value.split(\"\\t\")\n",
    "        key = key.strip('\"')\n",
    "        yield key, str(neighbors)+\"\\t\"+str(PR)\n",
    "        \n",
    "if __name__ == \"__main__\":\n",
    "    MRtop100_final().run()"
   ]
  },
  {
   "cell_type": "code",
   "execution_count": 689,
   "metadata": {
    "collapsed": true
   },
   "outputs": [],
   "source": [
    "!chmod a+x top100_final.py"
   ]
  },
  {
   "cell_type": "markdown",
   "metadata": {},
   "source": [
    "########################################\n",
    "########################################\n",
    "\n",
    "#### Top PR nodes -EMR Implementation - Toy graph\n",
    "\n",
    "A critical reason that the toy graph needed to be tested in EMR is that sorting functionality in mrjob only works with the EMR framework (known bug).\n",
    "\n",
    "########################################\n",
    "########################################"
   ]
  },
  {
   "cell_type": "code",
   "execution_count": 690,
   "metadata": {
    "collapsed": true
   },
   "outputs": [],
   "source": [
    "%reload_ext autoreload\n",
    "%autoreload 2\n",
    "\n",
    "from top100_final import MRtop100_final\n",
    "\n",
    "!aws s3 rm s3://cerc-w261/HW9/toy/top_sorted_prepared_graph_input_2 --recursive --quiet\n",
    "\n",
    "mr_job = MRtop100_final(args=[\"-r\",\"emr\",\n",
    "                               \"s3://cerc-w261/HW9/toy/prepared_graph_input\",\n",
    "                               \"--cluster-id=j-2PTTXE3HM6RV9\",\n",
    "                                \"--aws-region=us-west-2\",\n",
    "                               \"--output-dir\",\n",
    "                               \"s3://cerc-w261/HW9/toy/top_sorted_prepared_graph_input_2\"])\n",
    "\n",
    "with mr_job.make_runner() as runner: \n",
    "        runner.run()"
   ]
  },
  {
   "cell_type": "markdown",
   "metadata": {},
   "source": [
    "#### Top PR nodes -EMR Implementation - Wikipedia graph (5 iterations in)"
   ]
  },
  {
   "cell_type": "code",
   "execution_count": 691,
   "metadata": {
    "collapsed": true
   },
   "outputs": [],
   "source": [
    "from top100_final import MRtop100_final\n",
    "\n",
    "!aws s3 rm s3://cerc-w261/HW9/wiki/top100_sorted_output_five_iterations --recursive --quiet\n",
    "\n",
    "mr_job = MRtop100_final(args=[\"-r\",\"emr\",\n",
    "                               \"s3://cerc-w261/HW9/wiki/output_five_iterations\",\n",
    "                               \"--cluster-id=j-2PTTXE3HM6RV9\",\n",
    "                                \"--aws-region=us-west-2\",\n",
    "                               \"--output-dir\",\n",
    "                               \"s3://cerc-w261/HW9/wiki/top100_sorted_output_five_iterations\"])\n",
    "\n",
    "with mr_job.make_runner() as runner: \n",
    "        runner.run()"
   ]
  },
  {
   "cell_type": "markdown",
   "metadata": {},
   "source": [
    "#### Top PR nodes - EMR Implementation - Wikipedia graph (10 iterations out)"
   ]
  },
  {
   "cell_type": "code",
   "execution_count": 11,
   "metadata": {
    "collapsed": true
   },
   "outputs": [],
   "source": [
    "from top100_final import MRtop100_final\n",
    "\n",
    "!aws s3 rm s3://cerc-w261/HW9/wiki/top100_sorted_output_ten_iterations --recursive --quiet\n",
    "\n",
    "mr_job = MRtop100_final(args=[\"-r\",\"emr\",\n",
    "                               \"s3://cerc-w261/HW9/wiki/output_ten_iterations\",\n",
    "                               \"--cluster-id=j-2ZSBEO9D9SSLU\",\n",
    "                                \"--aws-region=us-west-2\",\n",
    "                               \"--output-dir\",\n",
    "                               \"s3://cerc-w261/HW9/wiki/top100_sorted_output_ten_iterations\"])\n",
    "\n",
    "with mr_job.make_runner() as runner: \n",
    "        runner.run()"
   ]
  },
  {
   "cell_type": "markdown",
   "metadata": {},
   "source": [
    "#### Plotting our results!"
   ]
  },
  {
   "cell_type": "code",
   "execution_count": 76,
   "metadata": {
    "collapsed": true
   },
   "outputs": [],
   "source": [
    "!cat /home/cloudera/w261/HW9/data/wiki/top100_sorted_output_five_iterations/* | cut -f 1,3 > \\\n",
    "/home/cloudera/w261/HW9/data/wiki/five_iterations_plot.txt\n",
    "!cat /home/cloudera/w261/HW9/data/wiki/top100_sorted_output_ten_iterations/* | cut -f 1,3 > \\\n",
    "/home/cloudera/w261/HW9/data/wiki/ten_iterations_plot.txt"
   ]
  },
  {
   "cell_type": "code",
   "execution_count": 88,
   "metadata": {
    "collapsed": false
   },
   "outputs": [
    {
     "data": {
      "image/png": "[encoded data removed]",
      "text/plain": [
       "<matplotlib.figure.Figure at 0x7fe055543350>"
      ]
     },
     "metadata": {},
     "output_type": "display_data"
    }
   ],
   "source": [
    "%matplotlib inline\n",
    "import numpy as np\n",
    "import matplotlib.pyplot as plt\n",
    "\n",
    "N = 100\n",
    "nodes_ten_iterations = []\n",
    "nodes_five_iterations = []\n",
    "pagerank_five_iterations = []\n",
    "pagerank_ten_iterations = []\n",
    "\n",
    "ind = np.arange(N)  # the x locations for the groups\n",
    "width = 0.2       # the width of the bars\n",
    "\n",
    "with open(\"/home/cloudera/w261/HW9/data/wiki/five_iterations_plot.txt\",\"r\") as f:\n",
    "    for line in f:\n",
    "        line = line.strip()\n",
    "        node, pagerank = line.split(\"\\t\")\n",
    "        pagerank = float(pagerank)\n",
    "        nodes_five_iterations.append(node)\n",
    "        pagerank_five_iterations.append(pagerank)\n",
    "    \n",
    "with open(\"/home/cloudera/w261/HW9/data/wiki/ten_iterations_plot.txt\",\"r\") as f:\n",
    "    for line in f:\n",
    "        line = line.strip()\n",
    "        node, pagerank = line.split(\"\\t\")\n",
    "        pagerank = float(pagerank)\n",
    "        nodes_ten_iterations.append(node)\n",
    "        pagerank_ten_iterations.append(pagerank)\n",
    "    \n",
    "fig, ax = plt.subplots(figsize=(20, 10))\n",
    "rects1 = ax.bar(ind, pagerank_five_iterations, width, color='r')\n",
    "\n",
    "rects2 = ax.bar(ind + width, pagerank_ten_iterations, width, color='b')\n",
    "\n",
    "ax.set_ylabel('Pagerank score')\n",
    "\n",
    "ax.set_title('Pagerank Scores - Wikipedia Graph - Five and Ten iterations')\n",
    "ax.set_xticks(ind + width)\n",
    "ax.set_xticklabels(nodes_ten_iterations, rotation='vertical')\n",
    "\n",
    "ax.legend((rects1[0], rects2[0]), ('Iteration five', 'Iteration ten'))\n",
    "\n",
    "plt.show()"
   ]
  },
  {
   "cell_type": "markdown",
   "metadata": {},
   "source": [
    " <h2 style=\"color:darkgreen\">  HW 9.3 Analysis </h2>\n",
    "\n",
    "\n",
    "\n",
    "\n",
    "<br><br>\n",
    "\n",
    "__From the results shown below we can see that the ranking of the pages between iterations five and ten does not significantly change!__ This leads me to believe that, while the algorithm may take many more than ten iterations to converge, since in the case of pagerank what we care about is the relative ordering of the nodes, an appropriate stopping criteria may simply be to stop when the ranking has not changed for the past X iterations."
   ]
  },
  {
   "cell_type": "markdown",
   "metadata": {},
   "source": [
    "#### Top 100 nodes by pagerank - Wikipedia graph (fifth iteration)"
   ]
  },
  {
   "cell_type": "code",
   "execution_count": 69,
   "metadata": {
    "collapsed": true
   },
   "outputs": [],
   "source": [
    "!aws s3 cp s3://cerc-w261/HW9/wiki/top100_sorted_output_five_iterations \\\n",
    "    /home/cloudera/w261/HW9/data/wiki/top100_sorted_output_five_iterations --recursive --quiet"
   ]
  },
  {
   "cell_type": "code",
   "execution_count": 74,
   "metadata": {
    "collapsed": false
   },
   "outputs": [
    {
     "name": "stdout",
     "output_type": "stream",
     "text": [
      "13455888\t0.0014607248\r\n",
      "1184351\t0.000682828\r\n",
      "4695850\t0.0006429807\r\n",
      "5051368\t0.0005763793\r\n",
      "1384888\t0.0004600329\r\n",
      "7902219\t0.0004581331\r\n",
      "6113490\t0.0004547314\r\n",
      "2437837\t0.000445625\r\n",
      "6076759\t0.0004304041\r\n",
      "13425865\t0.0004286518\r\n",
      "4196067\t0.0004220348\r\n",
      "6172466\t0.0004085202\r\n",
      "14112583\t0.0003820633\r\n",
      "10390714\t0.0003685343\r\n",
      "15164193\t0.0003501337\r\n",
      "3191491\t0.0003449499\r\n",
      "7835160\t0.0003320829\r\n",
      "6416278\t0.0003310909\r\n",
      "6237129\t0.0003280171\r\n",
      "1516699\t0.0003248582\r\n",
      "13725487\t0.0003211215\r\n",
      "7576704\t0.0003144368\r\n",
      "9276255\t0.0003126595\r\n",
      "10469541\t0.0003110539\r\n",
      "5154210\t0.0003052921\r\n",
      "7990491\t0.0002798165\r\n",
      "12836211\t0.0002772498\r\n",
      "4198751\t0.0002676499\r\n",
      "2797855\t0.0002630145\r\n",
      "11253108\t0.0002612684\r\n",
      "3603527\t0.0002600149\r\n",
      "3069099\t0.0002535106\r\n",
      "9386580\t0.0002533372\r\n",
      "12074312\t0.0002510714\r\n",
      "14881689\t0.0002504393\r\n",
      "2155467\t0.0002476649\r\n",
      "1441065\t0.000240663\r\n",
      "14503460\t0.0002349039\r\n",
      "3191268\t0.0002208673\r\n",
      "10566120\t0.0002204521\r\n",
      "2396749\t0.0002201284\r\n",
      "11147327\t0.0002149031\r\n",
      "2614581\t0.0002148857\r\n",
      "1637982\t0.000212444\r\n",
      "11245362\t0.0002070061\r\n",
      "12430985\t0.0002043623\r\n",
      "9355455\t0.0001963702\r\n",
      "10527224\t0.0001932775\r\n",
      "6172167\t0.0001915416\r\n",
      "2614578\t0.0001914618\r\n",
      "981395\t0.0001898713\r\n",
      "14112408\t0.000188627\r\n",
      "8697871\t0.0001885162\r\n",
      "9391762\t0.0001860544\r\n",
      "6171937\t0.0001828818\r\n",
      "5490435\t0.0001801085\r\n",
      "14725161\t0.0001734423\r\n",
      "11582765\t0.0001719257\r\n",
      "9562547\t0.0001688263\r\n",
      "994890\t0.0001677306\r\n",
      "12067030\t0.0001655683\r\n",
      "10345830\t0.0001634053\r\n",
      "9394907\t0.0001606955\r\n",
      "13280859\t0.0001596068\r\n",
      "9997298\t0.0001589917\r\n",
      "4978429\t0.0001575036\r\n",
      "12447593\t0.0001545943\r\n",
      "8019937\t0.0001515861\r\n",
      "11148415\t0.0001512708\r\n",
      "13432150\t0.000149646\r\n",
      "4344962\t0.000146418\r\n",
      "1175360\t0.0001451456\r\n",
      "4624519\t0.000144029\r\n",
      "12038331\t0.0001417367\r\n",
      "14565507\t0.0001406079\r\n",
      "14981725\t0.0001380862\r\n",
      "1523975\t0.0001360403\r\n",
      "13328060\t0.000135453\r\n",
      "2826544\t0.0001329559\r\n",
      "10399499\t0.0001321295\r\n",
      "1332806\t0.000131598\r\n",
      "14963657\t0.000131041\r\n",
      "1813634\t0.0001262363\r\n",
      "2578813\t0.0001258975\r\n",
      "1575979\t0.0001246426\r\n",
      "2778099\t0.0001224998\r\n",
      "9924814\t0.0001207867\r\n",
      "13853369\t0.0001174086\r\n",
      "4568647\t0.0001163898\r\n",
      "14727077\t0.0001159215\r\n",
      "3328327\t0.0001147401\r\n",
      "15070394\t0.0001145176\r\n",
      "3973000\t0.0001143235\r\n",
      "9742161\t0.0001137904\r\n",
      "14709489\t0.0001136846\r\n",
      "3591832\t0.0001133151\r\n",
      "10246542\t0.0001133151\r\n",
      "4320007\t0.0001132038\r\n",
      "5908108\t0.0001128815\r\n",
      "5274313\t0.0001128607\r\n"
     ]
    }
   ],
   "source": [
    "!cat /home/cloudera/w261/HW9/data/wiki/top100_sorted_output_five_iterations/* | cut -f 1,3"
   ]
  },
  {
   "cell_type": "markdown",
   "metadata": {},
   "source": [
    "#### Top 100 nodes by pagerank - Wikipedia graph (tenth iteration)"
   ]
  },
  {
   "cell_type": "code",
   "execution_count": 70,
   "metadata": {
    "collapsed": true
   },
   "outputs": [],
   "source": [
    "!aws s3 cp s3://cerc-w261/HW9/wiki/top100_sorted_output_ten_iterations \\\n",
    "    /home/cloudera/w261/HW9/data/wiki/top100_sorted_output_ten_iterations --recursive --quiet"
   ]
  },
  {
   "cell_type": "code",
   "execution_count": 75,
   "metadata": {
    "collapsed": false
   },
   "outputs": [
    {
     "name": "stdout",
     "output_type": "stream",
     "text": [
      "13455888\t0.0006700373\r\n",
      "1184351\t0.0003700194\r\n",
      "4695850\t0.0003040226\r\n",
      "5051368\t0.0002717002\r\n",
      "1384888\t0.0002572959\r\n",
      "6113490\t0.0002531746\r\n",
      "6076759\t0.0002107936\r\n",
      "2437837\t0.0002055312\r\n",
      "7902219\t0.0002041113\r\n",
      "4196067\t0.0002002535\r\n",
      "6172466\t0.0001970803\r\n",
      "15164193\t0.0001839921\r\n",
      "13425865\t0.0001821293\r\n",
      "7835160\t0.0001772567\r\n",
      "7576704\t0.0001766931\r\n",
      "3191491\t0.0001765933\r\n",
      "9276255\t0.0001692917\r\n",
      "10390714\t0.000166226\r\n",
      "14112583\t0.0001630573\r\n",
      "6416278\t0.0001561166\r\n",
      "13725487\t0.0001557708\r\n",
      "10469541\t0.0001526507\r\n",
      "6237129\t0.0001513093\r\n",
      "5154210\t0.0001506014\r\n",
      "1516699\t0.0001503039\r\n",
      "14881689\t0.0001409856\r\n",
      "3603527\t0.0001310335\r\n",
      "3069099\t0.0001286248\r\n",
      "7990491\t0.0001222571\r\n",
      "11253108\t0.0001207053\r\n",
      "2155467\t0.0001193775\r\n",
      "3191268\t0.0001180683\r\n",
      "10566120\t0.0001177986\r\n",
      "12074312\t0.0001167419\r\n",
      "1441065\t0.0001159875\r\n",
      "4198751\t0.0001159809\r\n",
      "10527224\t0.0001151489\r\n",
      "2797855\t0.0001145955\r\n",
      "1637982\t0.0001145794\r\n",
      "14503460\t0.0001144498\r\n",
      "11245362\t0.0001143317\r\n",
      "9386580\t0.0001057415\r\n",
      "5490435\t0.0001056147\r\n",
      "11147327\t0.0001042031\r\n",
      "12836211\t0.0001037417\r\n",
      "6172167\t0.0001035124\r\n",
      "2396749\t0.0001019222\r\n",
      "2614581\t0.0001013217\r\n",
      "6171937\t0.0001004862\r\n",
      "12430985\t9.45369e-05\r\n",
      "14725161\t9.33849e-05\r\n",
      "2614578\t9.02489e-05\r\n",
      "8697871\t8.82865e-05\r\n",
      "9355455\t8.75952e-05\r\n",
      "11148415\t8.6241e-05\r\n",
      "994890\t8.51314e-05\r\n",
      "9391762\t8.14148e-05\r\n",
      "14112408\t7.92383e-05\r\n",
      "981395\t7.9109e-05\r\n",
      "9562547\t7.81112e-05\r\n",
      "11582765\t7.78408e-05\r\n",
      "10345830\t7.69356e-05\r\n",
      "1175360\t7.64931e-05\r\n",
      "9394907\t7.50894e-05\r\n",
      "4978429\t7.48988e-05\r\n",
      "14981725\t7.4043e-05\r\n",
      "13280859\t7.38761e-05\r\n",
      "12447593\t6.88027e-05\r\n",
      "9997298\t6.86372e-05\r\n",
      "12038331\t6.73234e-05\r\n",
      "12067030\t6.7174e-05\r\n",
      "10399499\t6.60602e-05\r\n",
      "14565507\t6.49522e-05\r\n",
      "2826544\t6.36162e-05\r\n",
      "13432150\t6.28043e-05\r\n",
      "8019937\t6.24793e-05\r\n",
      "4624519\t6.23364e-05\r\n",
      "1332806\t6.18024e-05\r\n",
      "1523975\t6.17401e-05\r\n",
      "4344962\t6.08116e-05\r\n",
      "14727077\t6.05558e-05\r\n",
      "15070394\t6.00734e-05\r\n",
      "13328060\t5.98679e-05\r\n",
      "4320007\t5.88595e-05\r\n",
      "3973000\t5.76705e-05\r\n",
      "9924814\t5.7665e-05\r\n",
      "14963657\t5.69596e-05\r\n",
      "3972999\t5.57962e-05\r\n",
      "1797655\t5.56492e-05\r\n",
      "1813634\t5.54426e-05\r\n",
      "14709489\t5.46704e-05\r\n",
      "1561395\t5.43377e-05\r\n",
      "4568647\t5.32284e-05\r\n",
      "10345922\t5.27121e-05\r\n",
      "1184441\t5.24109e-05\r\n",
      "9742161\t5.19686e-05\r\n",
      "5908108\t5.17111e-05\r\n",
      "10246542\t5.16905e-05\r\n",
      "13433669\t5.16111e-05\r\n",
      "14523062\t5.10915e-05\r\n"
     ]
    }
   ],
   "source": [
    "!cat /home/cloudera/w261/HW9/data/wiki/top100_sorted_output_ten_iterations/* | cut -f 1,3"
   ]
  },
  {
   "cell_type": "markdown",
   "metadata": {},
   "source": [
    "<h2 style=\"color:red\"> HW 9.4: Topic-specific PageRank implementation using MRJob </h2>\n",
    "\n",
    "Modify your PageRank implementation to produce a topic specific PageRank implementation, as described in:\n",
    "\n",
    "http://www-cs-students.stanford.edu/~taherh/papers/topic-sensitive-pagerank.pdf\n",
    "\n",
    "Note in this article that there is a special caveat to ensure that the transition matrix is irreducible.   \n",
    "This caveat lies in footnote 3 on page 3:\n",
    "```\n",
    "\tA minor caveat: to ensure that M is irreducible when p\n",
    "\tcontains any 0 entries, nodes not reachable from nonzero\n",
    "\tnodes in p should be removed. In practice this is not problematic.\n",
    "```\n",
    "and must be adhered to for convergence to be guaranteed.   \n",
    "\n",
    "Run topic specific PageRank on the following randomly generated network of 100 nodes:\n",
    "\n",
    "> s3://ucb-mids-mls-networks/randNet.txt (also available on Dropbox)\n",
    "\n",
    "which are organized into ten topics, as described in the file:\n",
    "\n",
    "> s3://ucb-mids-mls-networks/randNet_topics.txt  (also available on Dropbox)\n",
    "\n",
    "Since there are 10 topics, your result should be 11 PageRank vectors (one for the vanilla PageRank implementation in 9.1, and one for each topic with the topic specific implementation). Print out the top ten ranking nodes and their topics for each of the 11 versions, and comment on your result. Assume a teleportation factor of 0.15 in all your analyses.\n",
    "\n",
    "One final and important comment here:  please consider the requirements for irreducibility with topic-specific PageRank. In particular, the literature ensures irreducibility by requiring that nodes not reachable from in-topic nodes be removed from the network.\n",
    "\n",
    "This is not a small task, especially as it it must be performed separately for each of the (10) topics.\n",
    "\n",
    "So, instead of using this method for irreducibility, please comment on why the literature's method is difficult to implement, and what what extra computation it will require.   \n",
    "\n",
    "Then for your code, please use the alternative, non-uniform damping vector:\n",
    "\n",
    "```\n",
    "vji = beta*(1/|Tj|); if node i lies in topic Tj\n",
    "\n",
    "vji = (1-beta)*(1/(N - |Tj|)); if node i lies outside of topic Tj\n",
    "```\n",
    "for beta in (0,1) close to 1. \n",
    "\n",
    "With this approach, you will not have to delete any nodes. If beta > 0.5, PageRank is topic-sensitive, and if beta < 0.5, the PageRank is anti-topic-sensitive. For any value of beta irreducibility should hold, so please try beta=0.99, and perhaps some other values locally, on the smaller networks."
   ]
  },
  {
   "cell_type": "markdown",
   "metadata": {},
   "source": [
    "<h2 style=\"color:darkgreen\"> HW 9.4 Implementation </h2>"
   ]
  },
  {
   "cell_type": "markdown",
   "metadata": {},
   "source": [
    "#### Join Topics with Graph"
   ]
  },
  {
   "cell_type": "code",
   "execution_count": 36,
   "metadata": {
    "collapsed": false
   },
   "outputs": [
    {
     "name": "stdout",
     "output_type": "stream",
     "text": [
      "Overwriting TopicPageRankPrep_1.py\n"
     ]
    }
   ],
   "source": [
    "%%writefile TopicPageRankPrep_1.py\n",
    "#!/usr/bin/env python\n",
    "\n",
    "from mrjob.job import MRJob\n",
    "from mrjob.step import MRStep\n",
    "import sys\n",
    "import os\n",
    "import ast\n",
    "\n",
    "class TopicPageRankPrep_1MR(MRJob):\n",
    "    \n",
    "    def steps(self):\n",
    "        return [\n",
    "            MRStep(mapper_init=self.mapper_init,\n",
    "                   mapper=self.mapper\n",
    "            )\n",
    "        ]\n",
    "    in_memory_hash = {}\n",
    "    def mapper_init(self):\n",
    "        ## Here we initialize the in-memory hash that\n",
    "        ## stores nodes and their respective topics\n",
    "        temp = [s.split(\"\\t\") for s in open(\"node_topics.txt\", \"r\").readlines()]\n",
    "        for row in temp:\n",
    "            node = row[0]\n",
    "            topic = row[1].strip()\n",
    "            self.in_memory_hash[node] = topic\n",
    "    \n",
    "    def mapper(self, _, line):\n",
    "        ## Map-side memory backed join\n",
    "        line = line.strip()\n",
    "        node, payload = line.split(\"\\t\")\n",
    "        node = node.strip('\"')\n",
    "        topic = self.in_memory_hash.get(node)\n",
    "        if topic:\n",
    "            yield node, (topic, payload)\n",
    "        \n",
    "    \n",
    "if __name__ == '__main__':\n",
    "    TopicPageRankPrep_1MR().run()"
   ]
  },
  {
   "cell_type": "code",
   "execution_count": 37,
   "metadata": {
    "collapsed": true
   },
   "outputs": [],
   "source": [
    "!chmod a+x TopicPageRankPrep_1.py"
   ]
  },
  {
   "cell_type": "code",
   "execution_count": 31,
   "metadata": {
    "collapsed": false
   },
   "outputs": [
    {
     "name": "stdout",
     "output_type": "stream",
     "text": [
      "Overwriting PageRank_graph_prep_TS.py\n"
     ]
    }
   ],
   "source": [
    "%%writefile PageRank_graph_prep_TS.py\n",
    "#!/usr/bin/env python\n",
    "\n",
    "from mrjob.job import MRJob\n",
    "from mrjob.step import MRStep\n",
    "import sys\n",
    "import os\n",
    "import ast\n",
    "from mrjob.protocol import RawValueProtocol\n",
    "from mrjob.protocol import RawProtocol\n",
    "\n",
    "class MRpageRankGraphPrepTS(MRJob):\n",
    "    \n",
    "    num_nodes = 0\n",
    "    \n",
    "    def step(self):\n",
    "        \n",
    "        return [\n",
    "            MRStep(\n",
    "                   mapper=self.mapper,\n",
    "                   reducer=self.reducer)\n",
    "        ]\n",
    "    \n",
    "    def mapper(self, _, line):\n",
    "        line = line.strip()\n",
    "        key, value = line.split(\"\\t\")\n",
    "        key = key.strip('\"')\n",
    "        value = ast.literal_eval(value)\n",
    "        topic, neighbors = value[0], value[1]\n",
    "        neighbors = ast.literal_eval(neighbors)\n",
    "        neighbors_array = []\n",
    "        ## we have counters for the total nodes\n",
    "        ## as well as the topic-specific node counts\n",
    "        self.increment_counter(\"numNodes\", topic, 1)\n",
    "        self.increment_counter(\"numNodes\",\"vanilla\",1)\n",
    "        for n in neighbors.keys():\n",
    "            neighbors_array.append(n)\n",
    "            yield n, \"-\"\n",
    "        yield key, (topic, neighbors_array)\n",
    "        \n",
    "    def reducer(self, key, values):\n",
    "        neighbors = []\n",
    "        for v in values:\n",
    "            topic = v[0]\n",
    "            if neighbors == \"\":\n",
    "                if v != \"-\":\n",
    "                    neighbors = v[1]\n",
    "            else:\n",
    "                if v != \"-\":\n",
    "                    neighbors.extend(v[1])\n",
    "        yield key, (topic, neighbors, 1.0)\n",
    "        \n",
    "if __name__ == \"__main__\":\n",
    "    MRpageRankGraphPrepTS.run()"
   ]
  },
  {
   "cell_type": "code",
   "execution_count": 32,
   "metadata": {
    "collapsed": true
   },
   "outputs": [],
   "source": [
    "!chmod a+x PageRank_graph_prep_TS.py"
   ]
  },
  {
   "cell_type": "code",
   "execution_count": 2,
   "metadata": {
    "collapsed": false
   },
   "outputs": [
    {
     "name": "stdout",
     "output_type": "stream",
     "text": [
      "Overwriting TopicPageRank_step1.py\n"
     ]
    }
   ],
   "source": [
    "%%writefile TopicPageRank_step1.py\n",
    "#!/usr/bin/env python\n",
    "\n",
    "from mrjob.job import MRJob\n",
    "from mrjob.step import MRStep\n",
    "import sys\n",
    "import os\n",
    "import ast\n",
    "from mrjob.protocol import RawValueProtocol\n",
    "from mrjob.protocol import RawProtocol\n",
    "\n",
    "class TopicMRpageRank_step1MR(MRJob):\n",
    "    \n",
    "    ## Hardcoding the job parameters;\n",
    "    ## these are substituted with runtime parameters\n",
    "    N = 1\n",
    "    alpha = 0.0\n",
    "    first_run = 0\n",
    "    dangling_mass = 0.0\n",
    "    \n",
    "    ## function permits us to pass a binary first run indicator as well as \n",
    "    ## the number of nodes in the graph to our mrjob\n",
    "    def configure_options(self):\n",
    "        super(TopicMRpageRank_step1MR, self).configure_options()\n",
    "        self.add_passthrough_option('--first-run', type='int', default=0, help='Indicates whether we are dealing with the first run of algo')\n",
    "        self.add_passthrough_option('--num-nodes', type='int', default=1, help='The number of nodes in the graph; must be an int!')\n",
    "    \n",
    "    def steps(self):\n",
    "        return [\n",
    "            MRStep(\n",
    "            mapper_init=self.mapper_init,\n",
    "            mapper=self.mapper,\n",
    "            reducer_init=self.reducer_init,\n",
    "            reducer=self.reducer)\n",
    "        ]\n",
    "    \n",
    "    def mapper_init(self):\n",
    "        self.N = self.options.num_nodes\n",
    "        self.first_run = self.options.first_run\n",
    "    \n",
    "    def mapper(self, _, line):\n",
    "        line = line.strip()\n",
    "        key, value = line.split(\"\\t\")\n",
    "        key = key.strip('\"')\n",
    "        value = ast.literal_eval(value)\n",
    "        topic = value[0]\n",
    "        neighbors = value[1]\n",
    "        ## If this is the first run we must initialize\n",
    "        ## the pagerank value for each node,\n",
    "        ## alternatively we simply set it\n",
    "        if self.first_run == 1:\n",
    "            PR = float(value[2]) / float(self.N)\n",
    "        else:\n",
    "            PR = float(value[2])\n",
    "        ## we emit a special key with the dangling mass when\n",
    "        ## we encounter a node with no outlinks\n",
    "        if neighbors == []:\n",
    "            yield \"*dangling\", (\"-\",\"-\", float(PR))\n",
    "            yield key, (topic, neighbors, 0.0)\n",
    "        else:\n",
    "            num_nieghbors = len(neighbors)\n",
    "            for n in neighbors:\n",
    "                yield n, (\"-\",\"-\",float(PR)/float(num_nieghbors))\n",
    "            yield key, (topic, neighbors, 0.0)\n",
    "    \n",
    "    def reducer_init(self):\n",
    "        self.N = self.options.num_nodes\n",
    "    \n",
    "    def reducer(self, key, values):\n",
    "        dangling_mass = 0.0\n",
    "        ## When dangling nodes are encountered, their\n",
    "        ## mass is accumulated in a counter\n",
    "        if key == \"*dangling\":\n",
    "            for v in values:\n",
    "                dangling_mass += v[2]\n",
    "            TEN_BILLION = 10000000000\n",
    "            self.increment_counter(\"dangling_nodes\",\"mass\", int(dangling_mass*TEN_BILLION))\n",
    "        else:\n",
    "            new_PR = 0.0\n",
    "            neighbors = \"\"\n",
    "            for v in values:\n",
    "                new_PR += v[2]\n",
    "                if v[1] != \"-\":\n",
    "                    topic = v[0]\n",
    "                    neighbors = v[1]\n",
    "            yield key, (topic, neighbors, new_PR)\n",
    "        \n",
    "if __name__ == \"__main__\":\n",
    "    TopicMRpageRank_step1MR.run()"
   ]
  },
  {
   "cell_type": "code",
   "execution_count": 3,
   "metadata": {
    "collapsed": false
   },
   "outputs": [],
   "source": [
    "!chmod a+x TopicPageRank_step1.py"
   ]
  },
  {
   "cell_type": "markdown",
   "metadata": {},
   "source": [
    "########################################\n",
    "########################################\n",
    "\n",
    "An important thing to note in the below processing MR job is that the job could have been executed just with reducers, with both mappers and reducers as well as just with mappers. __I explicitly choose to execute the task with just mappers as a time and resources optimization: by only using mappers the MapReduce job does not engage in the shuffle and sort phase which saves us both time and network bandwidth costs.__\n",
    "\n",
    "########################################\n",
    "########################################"
   ]
  },
  {
   "cell_type": "code",
   "execution_count": 31,
   "metadata": {
    "collapsed": false
   },
   "outputs": [
    {
     "name": "stdout",
     "output_type": "stream",
     "text": [
      "Overwriting TopicPageRank_step2.py\n"
     ]
    }
   ],
   "source": [
    "%%writefile TopicPageRank_step2.py\n",
    "#!/usr/bin/env python\n",
    "\n",
    "from mrjob.job import MRJob\n",
    "from mrjob.step import MRStep\n",
    "import sys\n",
    "import os\n",
    "import ast\n",
    "from mrjob.protocol import RawValueProtocol\n",
    "from mrjob.protocol import RawProtocol\n",
    "\n",
    "class TopicPageRank_step2MR(MRJob):\n",
    "    \n",
    "    ## Hardcoding the job parameters;\n",
    "    ## these are substituted with runtime parameters\n",
    "    N = 1\n",
    "    alpha = 0.0\n",
    "    first_run = 0\n",
    "    dangling_mass = 0.0\n",
    "    beta = 0.0\n",
    "    topic = \"vanilla\"\n",
    "    \n",
    "    ## function permits us to pass an arbitrary alpha, beta, number of nodes,\n",
    "    ## dangling mass and/or topic to our mrjob\n",
    "    def configure_options(self):\n",
    "        super(TopicPageRank_step2MR, self).configure_options()\n",
    "        self.add_passthrough_option('--beta', type='float', default=0.0, help='The beta factor; must be a float!')\n",
    "        self.add_passthrough_option('--alpha', type='float', default=0.1, help='The damping factor; must be a float!')\n",
    "        self.add_passthrough_option('--num-nodes', type='int', default=1, help='The number of nodes in the graph; must be an int!')\n",
    "        self.add_passthrough_option('--dangling-mass', type='float', default=0.0, help='The dangling mass for iteration; must be a float!')\n",
    "        self.add_passthrough_option('--topic', type='str', default=\"vanilla\", help='The topic; must be a string!')\n",
    "        \n",
    "    def steps(self):\n",
    "        return [\n",
    "            MRStep(\n",
    "            mapper_init=self.mapper_init,\n",
    "            mapper=self.mapper)\n",
    "        ]\n",
    "    \n",
    "    def mapper_init(self):\n",
    "        self.alpha = self.options.alpha\n",
    "        self.N = self.options.num_nodes\n",
    "        self.dangling_mass = self.options.dangling_mass\n",
    "        self.beta = self.options.beta\n",
    "        self.topic = self.options.topic\n",
    "        self.numNodes = {}\n",
    "        with open(\"numNodes.txt\",\"r\") as f:\n",
    "            for line in f:\n",
    "                line = line.strip()\n",
    "                topic, number_of_nodes = line.split(\"\\t\")\n",
    "                self.numNodes[topic] = number_of_nodes\n",
    "    \n",
    "    def mapper(self, _, line):\n",
    "        line = line.strip()\n",
    "        key, value = line.split(\"\\t\")\n",
    "        key = key.strip('\"')\n",
    "        value = ast.literal_eval(value)\n",
    "        topic = value[0]\n",
    "        neighbors = value[1]\n",
    "        PR = float(value[2])\n",
    "        ## Depending on the topic of the node and the topic being analyzed\n",
    "        ## we compute the final pagerank differently\n",
    "        if topic == self.topic:\n",
    "            dampening_component = float(self.beta) * (1.0 / float(self.numNodes[topic]))\n",
    "        elif self.topic == \"vanilla\":\n",
    "            dampening_component = 1.00/float(self.N)\n",
    "        else:\n",
    "            dampening_component = (1.0 - float(self.beta)) * (1.0 /(float(self.N) - float(self.numNodes[topic])))\n",
    "        PR = self.alpha * dampening_component + (1.0 - self.alpha) * (PR  + (self.dangling_mass / float(self.N)))\n",
    "        yield key, (topic, neighbors, PR)\n",
    "        \n",
    "if __name__ == \"__main__\":\n",
    "    TopicPageRank_step2MR.run()"
   ]
  },
  {
   "cell_type": "code",
   "execution_count": 32,
   "metadata": {
    "collapsed": false
   },
   "outputs": [],
   "source": [
    "!chmod a+x TopicPageRank_step2.py"
   ]
  },
  {
   "cell_type": "code",
   "execution_count": 38,
   "metadata": {
    "collapsed": false
   },
   "outputs": [
    {
     "name": "stdout",
     "output_type": "stream",
     "text": [
      "Writing top10_final.py\n"
     ]
    }
   ],
   "source": [
    "%%writefile top10_final.py\n",
    "#!/usr/bin/env python\n",
    "\n",
    "from mrjob.job import MRJob\n",
    "from mrjob.step import MRStep\n",
    "import sys\n",
    "import os\n",
    "import ast\n",
    "from mrjob.protocol import RawValueProtocol\n",
    "from mrjob.protocol import RawProtocol\n",
    "\n",
    "class MRtop10_final(MRJob):\n",
    "    \n",
    "    # Settings for sorting\n",
    "    MRJob.SORT_VALUES = True \n",
    "    INTERNAL_PROTOCOL = RawProtocol\n",
    "    OUTPUT_PROTOCOL = RawProtocol\n",
    "    \n",
    "    def steps(self):\n",
    "        ## Note that we are explicitly setting \n",
    "        ## multiple reducers in the first step, we are considering the \n",
    "        ## full output of the mappers as a key for the\n",
    "        ## shuffle phase, setting partitioners based on \n",
    "        ## artificial partition keys and we are sorting\n",
    "        ## based on the transformed pagerank values\n",
    "        JOB_CONF_STEP = {\n",
    "            'mapreduce.job.output.key.comparator.class': 'org.apache.hadoop.mapred.lib.KeyFieldBasedComparator',\n",
    "            'stream.num.map.output.key.field': 4,\n",
    "            'stream.map.output.field.separator':'/t',\n",
    "            'mapreduce.partition.keypartitioner.options':'-k1,1',\n",
    "            'mapreduce.partition.keycomparator.options': '-k4,4nr',\n",
    "             'mapreduce.job.reduces': 10,\n",
    "            'partitioner':'org.apache.hadoop.mapred.lib.KeyFieldBasedPartitioner'\n",
    "        }\n",
    "        \n",
    "        JOB_CONF_STEP_2 = {\n",
    "            'mapreduce.job.output.key.comparator.class': 'org.apache.hadoop.mapred.lib.KeyFieldBasedComparator',\n",
    "            'stream.num.map.output.key.field': 3,\n",
    "            'stream.map.output.field.separator':'/t',\n",
    "            'mapreduce.partition.keycomparator.options': '-k3,3nr',\n",
    "             'mapreduce.job.reduces': 1,\n",
    "            'partitioner':'org.apache.hadoop.mapred.lib.KeyFieldBasedPartitioner'\n",
    "        }\n",
    "        \n",
    "        return [\n",
    "            MRStep(jobconf=JOB_CONF_STEP,\n",
    "                   mapper=self.mapper,\n",
    "                   reducer_init=self.reducer_init,\n",
    "                   reducer=self.reducer\n",
    "            ),\n",
    "            MRStep(jobconf=JOB_CONF_STEP_2,\n",
    "                   mapper=self.mapper2,\n",
    "                   reducer_init=self.reducer_init2,\n",
    "                   reducer=self.reducer2\n",
    "            )\n",
    "        ]\n",
    "    \n",
    "    ## Notice that we are emmitting artificial \n",
    "    ## keys to ensure that the partitioners can \n",
    "    ## key off of them and guarantee sorted output\n",
    "    \n",
    "    def mapper(self, _, line):\n",
    "        TEN_BILLION = 10000000000\n",
    "        line = line.strip()\n",
    "        key, value = line.split(\"\\t\")\n",
    "        key = key.strip('\"')\n",
    "        value = ast.literal_eval(value)\n",
    "        neighbors = value[1]\n",
    "        PR = float(value[2])\n",
    "        ## for the purposes of properly sorting I transform the \n",
    "        ## pageranks into integers\n",
    "        PR = int(PR*TEN_BILLION)\n",
    "        if PR >= int(0.0001*TEN_BILLION):\n",
    "            yield 'a', key+\"\\t\"+str(neighbors)+\"\\t\"+str(PR)\n",
    "        elif PR >= int(0.00001*TEN_BILLION):\n",
    "            yield 'b', key+\"\\t\"+str(neighbors)+\"\\t\"+str(PR)\n",
    "        elif PR >= int(0.000001*TEN_BILLION):\n",
    "            yield 'c', key+\"\\t\"+str(neighbors)+\"\\t\"+str(PR)\n",
    "        elif PR >= int(0.0000001*TEN_BILLION):\n",
    "            yield 'd', key+\"\\t\"+str(neighbors)+\"\\t\"+str(PR)\n",
    "        elif PR >= int(0.00000001*TEN_BILLION):\n",
    "            yield 'e', key+\"\\t\"+str(neighbors)+\"\\t\"+str(PR)\n",
    "        elif PR >= int(0.000000001*TEN_BILLION):\n",
    "            yield 'f', key+\"\\t\"+str(neighbors)+\"\\t\"+str(PR)\n",
    "        elif PR >= int(0.0000000001*TEN_BILLION):\n",
    "            yield 'g', key+\"\\t\"+str(neighbors)+\"\\t\"+str(PR)\n",
    "        elif PR >= int(0.00000000001*TEN_BILLION):\n",
    "            yield 'h', key+\"\\t\"+str(neighbors)+\"\\t\"+str(PR)\n",
    "        elif PR >= int(0.000000000001*TEN_BILLION):\n",
    "            yield 'i', key+\"\\t\"+str(neighbors)+\"\\t\"+str(PR)\n",
    "        else:\n",
    "            yield 'j', key+\"\\t\"+str(neighbors)+\"\\t\"+str(PR)\n",
    "            \n",
    "    def reducer_init(self):\n",
    "        self.top10_counter = 0\n",
    "        \n",
    "    def reducer_init2(self):\n",
    "        self.top10_counter = 0\n",
    "            \n",
    "    def reducer(self,key,value):\n",
    "        ## Here we only emit the top 10 entries for each reducer\n",
    "        for v in value:\n",
    "            v = v.strip()\n",
    "            if self.top10_counter < 10:\n",
    "                self.top10_counter += 1\n",
    "                yield None, v\n",
    "                \n",
    "    def reducer2(self, key, value):\n",
    "        key = key.strip()\n",
    "        key = key.strip('\"')\n",
    "        TEN_BILLION = 10000000000\n",
    "        for v in value:\n",
    "            v = v.strip()\n",
    "            neighbors, PR = v.split(\"\\t\")\n",
    "            ## Transform pagerank back to float for final emission\n",
    "            PR = float(PR) / float(TEN_BILLION)\n",
    "            if self.top10_counter < 10:\n",
    "                self.top10_counter += 1\n",
    "                yield key, str(neighbors)+\"\\t\"+str(PR)\n",
    "                \n",
    "    def mapper2(self, key, value):\n",
    "        ## The mapper simply sends the node and the payload\n",
    "        ## as our objective is to use sorting in the shuffle\n",
    "        ## and sort phase\n",
    "        key = key.strip()\n",
    "        value = value.strip()\n",
    "        neighbors, PR = value.split(\"\\t\")\n",
    "        key = key.strip('\"')\n",
    "        yield key, str(neighbors)+\"\\t\"+str(PR)\n",
    "        \n",
    "if __name__ == \"__main__\":\n",
    "    MRtop10_final().run()"
   ]
  },
  {
   "cell_type": "code",
   "execution_count": 44,
   "metadata": {
    "collapsed": true
   },
   "outputs": [],
   "source": [
    "!chmod a+x top10_final.py"
   ]
  },
  {
   "cell_type": "markdown",
   "metadata": {},
   "source": [
    "#### Topic-specific PageRank Implementation\n",
    "\n",
    "##### Input Preprocessing Step\n",
    "\n",
    "The step below enhances the graph with the node topics."
   ]
  },
  {
   "cell_type": "code",
   "execution_count": 1,
   "metadata": {
    "collapsed": false,
    "scrolled": true
   },
   "outputs": [
    {
     "name": "stdout",
     "output_type": "stream",
     "text": [
      "Using configs in /home/cloudera/.mrjob.conf\n",
      "Running step 1 of 1...\n",
      "Creating temp directory /tmp/TopicPageRankPrep_1.cloudera.20160720.162229.647374\n",
      "Removing temp directory /tmp/TopicPageRankPrep_1.cloudera.20160720.162229.647374...\n"
     ]
    }
   ],
   "source": [
    "!python TopicPageRankPrep_1.py /home/cloudera/w261/HW9/data/random/randNet/randNet.txt \\\n",
    "--file=\"/home/cloudera/w261/HW9/data/random/randNet_topics/randNet_topics.txt#node_topics.txt\" \\\n",
    "--output-dir=/home/cloudera/w261/HW9/data/random/preinput --no-output"
   ]
  },
  {
   "cell_type": "markdown",
   "metadata": {},
   "source": [
    "########################################\n",
    "########################################\n",
    "##### Iterative Processing Steps\n",
    "\n",
    "For each of the topics (as well as the vanilla case) I run the iterative pagerank algorithm for ten iterations. Much like the implementations in the earlier sections, there is first a preprocessing step that fleshes out the dangling nodes and also counts the number of nodes (In this case the job counts the number of nodes in each of the topics). Then, each iteration has two MR jobs, the first where dangling mass is accumulated and pagerank is spread from nodes through thier edges. The second MR job spreads the dangling mass evernly across all nodes and then calculates the final pagerank for the iteration, which I modified to comply with the irreducibility in the topic-specific pagerank case by changing the dampening vector into one that is dependent on the topic being analyzed, the topic of the node being processed and a sensitivity parameter, beta.\n",
    "\n",
    "########################################\n",
    "########################################"
   ]
  },
  {
   "cell_type": "code",
   "execution_count": 57,
   "metadata": {
    "collapsed": false
   },
   "outputs": [
    {
     "name": "stdout",
     "output_type": "stream",
     "text": [
      "rm: cannot remove `/home/cloudera/w261/HW9/data/random/intermediate_input': No such file or directory\n",
      "iteration 0 of Pagerank algorithm\n",
      "iteration 1 of Pagerank algorithm\n",
      "iteration 2 of Pagerank algorithm\n",
      "iteration 3 of Pagerank algorithm\n",
      "iteration 4 of Pagerank algorithm\n",
      "iteration 5 of Pagerank algorithm\n",
      "iteration 6 of Pagerank algorithm\n",
      "iteration 7 of Pagerank algorithm\n",
      "iteration 8 of Pagerank algorithm\n",
      "iteration 9 of Pagerank algorithm\n",
      "iteration 0 of Pagerank algorithm\n",
      "iteration 1 of Pagerank algorithm\n",
      "iteration 2 of Pagerank algorithm\n",
      "iteration 3 of Pagerank algorithm\n",
      "iteration 4 of Pagerank algorithm\n",
      "iteration 5 of Pagerank algorithm\n",
      "iteration 6 of Pagerank algorithm\n",
      "iteration 7 of Pagerank algorithm\n",
      "iteration 8 of Pagerank algorithm\n",
      "iteration 9 of Pagerank algorithm\n",
      "iteration 0 of Pagerank algorithm\n",
      "iteration 1 of Pagerank algorithm\n",
      "iteration 2 of Pagerank algorithm\n",
      "iteration 3 of Pagerank algorithm\n",
      "iteration 4 of Pagerank algorithm\n",
      "iteration 5 of Pagerank algorithm\n",
      "iteration 6 of Pagerank algorithm\n",
      "iteration 7 of Pagerank algorithm\n",
      "iteration 8 of Pagerank algorithm\n",
      "iteration 9 of Pagerank algorithm\n",
      "iteration 0 of Pagerank algorithm\n",
      "iteration 1 of Pagerank algorithm\n",
      "iteration 2 of Pagerank algorithm\n",
      "iteration 3 of Pagerank algorithm\n",
      "iteration 4 of Pagerank algorithm\n",
      "iteration 5 of Pagerank algorithm\n",
      "iteration 6 of Pagerank algorithm\n",
      "iteration 7 of Pagerank algorithm\n",
      "iteration 8 of Pagerank algorithm\n",
      "iteration 9 of Pagerank algorithm\n",
      "iteration 0 of Pagerank algorithm\n",
      "iteration 1 of Pagerank algorithm\n",
      "iteration 2 of Pagerank algorithm\n",
      "iteration 3 of Pagerank algorithm\n",
      "iteration 4 of Pagerank algorithm\n",
      "iteration 5 of Pagerank algorithm\n",
      "iteration 6 of Pagerank algorithm\n",
      "iteration 7 of Pagerank algorithm\n",
      "iteration 8 of Pagerank algorithm\n",
      "iteration 9 of Pagerank algorithm\n",
      "iteration 0 of Pagerank algorithm\n",
      "iteration 1 of Pagerank algorithm\n",
      "iteration 2 of Pagerank algorithm\n",
      "iteration 3 of Pagerank algorithm\n",
      "iteration 4 of Pagerank algorithm\n",
      "iteration 5 of Pagerank algorithm\n",
      "iteration 6 of Pagerank algorithm\n",
      "iteration 7 of Pagerank algorithm\n",
      "iteration 8 of Pagerank algorithm\n",
      "iteration 9 of Pagerank algorithm\n",
      "iteration 0 of Pagerank algorithm\n",
      "iteration 1 of Pagerank algorithm\n",
      "iteration 2 of Pagerank algorithm\n",
      "iteration 3 of Pagerank algorithm\n",
      "iteration 4 of Pagerank algorithm\n",
      "iteration 5 of Pagerank algorithm\n",
      "iteration 6 of Pagerank algorithm\n",
      "iteration 7 of Pagerank algorithm\n",
      "iteration 8 of Pagerank algorithm\n",
      "iteration 9 of Pagerank algorithm\n",
      "iteration 0 of Pagerank algorithm\n",
      "iteration 1 of Pagerank algorithm\n",
      "iteration 2 of Pagerank algorithm\n",
      "iteration 3 of Pagerank algorithm\n",
      "iteration 4 of Pagerank algorithm\n",
      "iteration 5 of Pagerank algorithm\n",
      "iteration 6 of Pagerank algorithm\n",
      "iteration 7 of Pagerank algorithm\n",
      "iteration 8 of Pagerank algorithm\n",
      "iteration 9 of Pagerank algorithm\n",
      "iteration 0 of Pagerank algorithm\n",
      "iteration 1 of Pagerank algorithm\n",
      "iteration 2 of Pagerank algorithm\n",
      "iteration 3 of Pagerank algorithm\n",
      "iteration 4 of Pagerank algorithm\n",
      "iteration 5 of Pagerank algorithm\n",
      "iteration 6 of Pagerank algorithm\n",
      "iteration 7 of Pagerank algorithm\n",
      "iteration 8 of Pagerank algorithm\n",
      "iteration 9 of Pagerank algorithm\n",
      "iteration 0 of Pagerank algorithm\n",
      "iteration 1 of Pagerank algorithm\n",
      "iteration 2 of Pagerank algorithm\n",
      "iteration 3 of Pagerank algorithm\n",
      "iteration 4 of Pagerank algorithm\n",
      "iteration 5 of Pagerank algorithm\n",
      "iteration 6 of Pagerank algorithm\n",
      "iteration 7 of Pagerank algorithm\n",
      "iteration 8 of Pagerank algorithm\n",
      "iteration 9 of Pagerank algorithm\n",
      "iteration 0 of Pagerank algorithm\n",
      "iteration 1 of Pagerank algorithm\n",
      "iteration 2 of Pagerank algorithm\n",
      "iteration 3 of Pagerank algorithm\n",
      "iteration 4 of Pagerank algorithm\n",
      "iteration 5 of Pagerank algorithm\n",
      "iteration 6 of Pagerank algorithm\n",
      "iteration 7 of Pagerank algorithm\n",
      "iteration 8 of Pagerank algorithm\n",
      "iteration 9 of Pagerank algorithm\n"
     ]
    }
   ],
   "source": [
    "%reload_ext autoreload\n",
    "%autoreload 2\n",
    "\n",
    "from PageRank_graph_prep_TS import MRpageRankGraphPrepTS\n",
    "from TopicPageRank_step1 import TopicMRpageRank_step1MR\n",
    "from TopicPageRank_step2 import TopicPageRank_step2MR\n",
    "import ast\n",
    "import os\n",
    "from numpy import random,array\n",
    "\n",
    "!rm -r /home/cloudera/w261/HW9/data/random/input\n",
    "!rm -r /home/cloudera/w261/HW9/data/random/intermediate_input\n",
    "!mkdir -p /home/cloudera/w261/HW9/data/random/input\n",
    "!mkdir -p /home/cloudera/w261/HW9/data/random/intermediate_input\n",
    "\n",
    "mr_job = MRpageRankGraphPrepTS(args=[\n",
    "        \"-r\",\"local\",\n",
    "        \"/home/cloudera/w261/HW9/data/random/preinput\",\n",
    "        \"--output-dir\",\"/home/cloudera/w261/HW9/data/random/input\"\n",
    "    ])\n",
    "\n",
    "numNodes = {}\n",
    "\n",
    "with mr_job.make_runner() as runner: \n",
    "        runner.run()\n",
    "        counters = runner.counters()[0]\n",
    "        ## Here we collect the number of nodes for each of the topics\n",
    "        ## and for the vanilla case to be passed on to the second MR Job\n",
    "        ## for the iteration\n",
    "        numNodes[\"vanilla\"] = counters['numNodes']['vanilla']\n",
    "        for topic in range(1,11):\n",
    "            topic = str(topic)\n",
    "            numNodes[topic] = counters['numNodes'][topic]\n",
    "\n",
    "with open(\"/home/cloudera/w261/HW9/data/random/numNodes/numNodes.txt\", \"w\") as f:\n",
    "    for topic in range(1,11):\n",
    "        topic = str(topic)\n",
    "        f.write(\"%s\\t%s\\n\"%(topic, numNodes[topic]))\n",
    "    f.write(\"vanilla\\t%s\\n\"%numNodes[\"vanilla\"])\n",
    "\n",
    "for topic in numNodes.keys():\n",
    "\n",
    "    i = 0\n",
    "    TEN_BILLION = 10000000000\n",
    "    while(1):\n",
    "        if i == 0:\n",
    "            first_run = 1\n",
    "        else:\n",
    "            first_run = 0\n",
    "        mr_job = TopicMRpageRank_step1MR(args=[\n",
    "                \"-r\",\"local\",\n",
    "                \"/home/cloudera/w261/HW9/data/random/input\",\n",
    "                \"--num-nodes\", str(numNodes[\"vanilla\"]),\n",
    "                \"--first-run\", str(first_run),\n",
    "                \"--output-dir\",\"/home/cloudera/w261/HW9/data/random/intermediate_input\"\n",
    "            ])\n",
    "\n",
    "        print \"iteration \"+str(i)+\" of Pagerank algorithm\"\n",
    "\n",
    "        with mr_job.make_runner() as runner: \n",
    "                runner.run()\n",
    "                counters = runner.counters()[0]\n",
    "                if not counters.get(\"dangling_nodes\"):\n",
    "                    dangling_nodes_mass = 0.0\n",
    "                else:\n",
    "                    dangling_nodes_mass = float(counters[\"dangling_nodes\"][\"mass\"]) / float(TEN_BILLION)\n",
    "\n",
    "        mr_job = TopicPageRank_step2MR(args=[\"/home/cloudera/w261/HW9/data/random/intermediate_input\",\n",
    "                                   \"--alpha\",0.15,\n",
    "                                    \"--beta\",0.01,\n",
    "                                   \"--num-nodes\", str(numNodes[\"vanilla\"]),\n",
    "                                   \"--dangling-mass\",str(dangling_nodes_mass),\n",
    "                                    \"topic\", topic,\n",
    "                                    \"--file\", \"/home/cloudera/w261/HW9/data/random/numNodes/numNodes.txt#numNodes.txt\",\n",
    "                                    \"--output-dir\",\n",
    "                                   \"/home/cloudera/w261/HW9/data/random/output\"])\n",
    "\n",
    "        with mr_job.make_runner() as runner: \n",
    "            runner.run()\n",
    "\n",
    "        i = i + 1\n",
    "\n",
    "        !rm -r /home/cloudera/w261/HW9/data/random/input\n",
    "        !rm -r /home/cloudera/w261/HW9/data/random/intermediate_input\n",
    "        !cp -rT /home/cloudera/w261/HW9/data/random/output /home/cloudera/w261/HW9/data/random/input\n",
    "        !rm -r /home/cloudera/w261/HW9/data/random/output\n",
    "\n",
    "        if i >=10:\n",
    "            break\n",
    "    !cp -rT /home/cloudera/w261/HW9/data/random/input /home/cloudera/w261/HW9/data/random/final_output/topic_$topic"
   ]
  },
  {
   "cell_type": "markdown",
   "metadata": {},
   "source": [
    "########################################\n",
    "########################################\n",
    "\n",
    "##### Top 10 count per topic\n",
    "\n",
    "Next I made use of an EMR cluster to sort and filter the top ten nodes by pagerank for each of the pagerank vectors calculated above. Finally I brought those sorted top ten vectors back down locally and displayed them below.\n",
    "\n",
    "########################################\n",
    "########################################"
   ]
  },
  {
   "cell_type": "code",
   "execution_count": 61,
   "metadata": {
    "collapsed": true
   },
   "outputs": [],
   "source": [
    "%reload_ext autoreload\n",
    "%autoreload 2\n",
    "\n",
    "from top10_final import MRtop10_final\n",
    "\n",
    "with open(\"/home/cloudera/w261/HW9/data/random/numNodes/numNodes.txt\", \"r\") as f:\n",
    "    for line in f:\n",
    "        line = line.strip()\n",
    "        topic, numNodes = line.split(\"\\t\")\n",
    "        topic = topic.strip('\"')\n",
    "\n",
    "        !aws s3 rm s3://cerc-w261/HW9/random/final_output/topic_$topic --recursive --quiet\n",
    "\n",
    "        mr_job = MRtop10_final(args=[\"-r\",\"emr\",\n",
    "                                       \"s3://cerc-w261/HW9/random/output/topic_%s\"%topic,\n",
    "                                       \"--cluster-id=j-B9BK45Z0SIAU\",\n",
    "                                        \"--aws-region=us-west-2\",\n",
    "                                       \"--output-dir\",\n",
    "                                       \"s3://cerc-w261/HW9/random/final_output/topic_%s\"%topic])\n",
    "\n",
    "        with mr_job.make_runner() as runner: \n",
    "                runner.run()"
   ]
  },
  {
   "cell_type": "code",
   "execution_count": 64,
   "metadata": {
    "collapsed": false
   },
   "outputs": [],
   "source": [
    "with open(\"/home/cloudera/w261/HW9/data/random/numNodes/numNodes.txt\", \"r\") as f:\n",
    "    for line in f:\n",
    "        line = line.strip()\n",
    "        topic, numNodes = line.split(\"\\t\")\n",
    "        topic = topic.strip('\"')\n",
    "        !aws s3 cp s3://cerc-w261/HW9/random/final_output/topic_$topic \\\n",
    "            /home/cloudera/w261/HW9/data/random/top10_final_output/topic_$topic \\\n",
    "            --recursive --quiet"
   ]
  },
  {
   "cell_type": "code",
   "execution_count": 68,
   "metadata": {
    "collapsed": false
   },
   "outputs": [
    {
     "name": "stdout",
     "output_type": "stream",
     "text": [
      "###################################################\n",
      "Top 10 nodes by topic-specific Pagerank (Topic 1)\n",
      "###################################################\n",
      "15\t0.0129027274\n",
      "74\t0.012583424\n",
      "63\t0.0125174428\n",
      "100\t0.0122208097\n",
      "85\t0.0119959521\n",
      "9\t0.0119503857\n",
      "58\t0.0117280627\n",
      "71\t0.011482683\n",
      "61\t0.0114258042\n",
      "52\t0.0113191821\n",
      "###################################################\n",
      "###################################################\n",
      "Top 10 nodes by topic-specific Pagerank (Topic 2)\n",
      "###################################################\n",
      "15\t0.012902714\n",
      "74\t0.0125834108\n",
      "63\t0.0125174302\n",
      "100\t0.0122207975\n",
      "85\t0.0119959398\n",
      "9\t0.0119503738\n",
      "58\t0.0117280507\n",
      "71\t0.0114826713\n",
      "61\t0.0114257926\n",
      "52\t0.0113191705\n",
      "###################################################\n",
      "###################################################\n",
      "Top 10 nodes by topic-specific Pagerank (Topic 3)\n",
      "###################################################\n",
      "15\t0.0129027141\n",
      "74\t0.0125834109\n",
      "63\t0.0125174302\n",
      "100\t0.0122207975\n",
      "85\t0.0119959398\n",
      "9\t0.0119503738\n",
      "58\t0.0117280507\n",
      "71\t0.0114826713\n",
      "61\t0.0114257927\n",
      "52\t0.0113191706\n",
      "###################################################\n",
      "###################################################\n",
      "Top 10 nodes by topic-specific Pagerank (Topic 4)\n",
      "###################################################\n",
      "15\t0.012902714\n",
      "74\t0.0125834108\n",
      "63\t0.0125174302\n",
      "100\t0.0122207975\n",
      "85\t0.0119959398\n",
      "9\t0.0119503738\n",
      "58\t0.0117280507\n",
      "71\t0.0114826713\n",
      "61\t0.0114257926\n",
      "52\t0.0113191705\n",
      "###################################################\n",
      "###################################################\n",
      "Top 10 nodes by topic-specific Pagerank (Topic 5)\n",
      "###################################################\n",
      "15\t0.012902714\n",
      "74\t0.0125834108\n",
      "63\t0.0125174302\n",
      "100\t0.0122207975\n",
      "85\t0.0119959398\n",
      "9\t0.0119503738\n",
      "58\t0.0117280507\n",
      "71\t0.0114826713\n",
      "61\t0.0114257926\n",
      "52\t0.0113191705\n",
      "###################################################\n",
      "###################################################\n",
      "Top 10 nodes by topic-specific Pagerank (Topic 6)\n",
      "###################################################\n",
      "15\t0.012902714\n",
      "74\t0.0125834108\n",
      "63\t0.0125174302\n",
      "100\t0.0122207975\n",
      "85\t0.0119959398\n",
      "9\t0.0119503738\n",
      "58\t0.0117280507\n",
      "71\t0.0114826713\n",
      "61\t0.0114257926\n",
      "52\t0.0113191705\n",
      "###################################################\n",
      "###################################################\n",
      "Top 10 nodes by topic-specific Pagerank (Topic 7)\n",
      "###################################################\n",
      "15\t0.012902714\n",
      "74\t0.0125834108\n",
      "63\t0.0125174302\n",
      "100\t0.0122207975\n",
      "85\t0.0119959398\n",
      "9\t0.0119503738\n",
      "58\t0.0117280507\n",
      "71\t0.0114826713\n",
      "61\t0.0114257926\n",
      "52\t0.0113191705\n",
      "###################################################\n",
      "###################################################\n",
      "Top 10 nodes by topic-specific Pagerank (Topic 8)\n",
      "###################################################\n",
      "15\t0.012902714\n",
      "74\t0.0125834108\n",
      "63\t0.0125174302\n",
      "100\t0.0122207975\n",
      "85\t0.0119959398\n",
      "9\t0.0119503738\n",
      "58\t0.0117280507\n",
      "71\t0.0114826713\n",
      "61\t0.0114257926\n",
      "52\t0.0113191705\n",
      "###################################################\n",
      "###################################################\n",
      "Top 10 nodes by topic-specific Pagerank (Topic 9)\n",
      "###################################################\n",
      "15\t0.012902714\n",
      "74\t0.0125834108\n",
      "63\t0.0125174302\n",
      "100\t0.0122207975\n",
      "85\t0.0119959398\n",
      "9\t0.0119503738\n",
      "58\t0.0117280507\n",
      "71\t0.0114826713\n",
      "61\t0.0114257926\n",
      "52\t0.0113191705\n",
      "###################################################\n",
      "###################################################\n",
      "Top 10 nodes by topic-specific Pagerank (Topic 10)\n",
      "###################################################\n",
      "15\t0.0163563228\n",
      "74\t0.0159691856\n",
      "63\t0.0157709419\n",
      "100\t0.015376508\n",
      "85\t0.0151785201\n",
      "9\t0.0150325147\n",
      "58\t0.0148281573\n",
      "71\t0.0144908647\n",
      "61\t0.0144070461\n",
      "52\t0.0143110402\n",
      "###################################################\n",
      "###################################################\n",
      "Top 10 nodes by non-topic-specific Pagerank\n",
      "###################################################\n",
      "15\t0.0129095133\n",
      "74\t0.0125900766\n",
      "63\t0.0125238355\n",
      "100\t0.0122270103\n",
      "85\t0.0120022055\n",
      "9\t0.0119564417\n",
      "58\t0.011734154\n",
      "71\t0.0114885937\n",
      "61\t0.011431662\n",
      "52\t0.0113250608\n",
      "###################################################\n"
     ]
    }
   ],
   "source": [
    "with open(\"/home/cloudera/w261/HW9/data/random/numNodes/numNodes.txt\", \"r\") as f:\n",
    "    for line in f:\n",
    "        line = line.strip()\n",
    "        topic, numNodes = line.split(\"\\t\")\n",
    "        topic = topic.strip('\"')\n",
    "        if topic != \"vanilla\":\n",
    "            print \"###################################################\"\n",
    "            print \"Top 10 nodes by topic-specific Pagerank (Topic %s)\"%topic\n",
    "            print \"###################################################\"\n",
    "            !cat /home/cloudera/w261/HW9/data/random/top10_final_output/topic_$topic/* | cut -f 1,3\n",
    "            print \"###################################################\"\n",
    "        else:\n",
    "            print \"###################################################\"\n",
    "            print \"Top 10 nodes by non-topic-specific Pagerank\"\n",
    "            print \"###################################################\"\n",
    "            !cat /home/cloudera/w261/HW9/data/random/top10_final_output/topic_$topic/* | cut -f 1,3\n",
    "            print \"###################################################\""
   ]
  },
  {
   "cell_type": "code",
   "execution_count": 60,
   "metadata": {
    "collapsed": false
   },
   "outputs": [
    {
     "name": "stdout",
     "output_type": "stream",
     "text": [
      "Using s3://mrjob-4b78edd1b5baad75/tmp/ as our temp dir on S3\n",
      "Creating persistent cluster to run several jobs in...\n",
      "Creating temp directory /tmp/no_script.cloudera.20160721.121023.884455\n",
      "Copying local files to s3://mrjob-4b78edd1b5baad75/tmp/no_script.cloudera.20160721.121023.884455/files/...\n",
      "j-B9BK45Z0SIAU\n"
     ]
    }
   ],
   "source": [
    "## first we spool up a cluster\n",
    "!mrjob create-cluster \\\n",
    "--max-hours-idle 1 \\\n",
    "--aws-region=us-west-2 -c ~/.mrjob.conf"
   ]
  },
  {
   "cell_type": "markdown",
   "metadata": {},
   "source": [
    "<h2 style=\"color:darkgreen\">  HW 9.4 Analysis </h2>\n",
    "\n",
    "\n",
    "Above you can see the printed out top ten nodes by topic-specific pagerank for each of the ten topics as well as the top ten nodes by non-topic-specific pagerank.\n",
    "\n",
    "For the parameters defined in the job (specifically the beta coefficient close to zero) I expected to see that the topic-specific pagerank results would not be sensitive to the non-uniform dampening vector. This is clear from the results above as the results while some may have slightly different pagerank values across the topics, the ordering of the nodes does not change.\n",
    "\n",
    "Finally, it is important to highlight why the literature's recommended approach of constructing topic-specific pagerank may not be such a good idea. To comply with the irreducibility requirement, the literature suggests an implementation where nodes not reachable from in-topic nodes be removed from the network. Since the graph structure needs to be passed across all MapReduce jobs that are processing the pagerank iterations, and each of the topic-specific pagerank algorithms would require its own specific version of the graph, we would need to run a preprocessing MapReduce job for each of the topics that would output the topic-specif graph to go through the iterative algorithm. As such, as the number of topics grows, so does the preprocessing number of MapReduce jobs (linearly) grow with it.\n",
    "\n",
    "__As future work, I would like to consolidate the construction of the topic-specific pagerank vectors into a single iterative process as opposed to having one for each of the topics. This should dramiatically cut down on the time to execute of the algorithm at the time of running at scale. This approach was not taken to optimize for time.__"
   ]
  },
  {
   "cell_type": "markdown",
   "metadata": {},
   "source": [
    "<center><div class='jumbotron'><h3 style='color:darkblue'>---------  OPTIONAL QUESTIONS SECTION --------</h3></div></center>"
   ]
  },
  {
   "cell_type": "markdown",
   "metadata": {},
   "source": [
    "<h2 style=\"color:red\"> HW 9.5: (OPTIONAL) Applying topic-specific PageRank to Wikipedia</h2>\n",
    "\n",
    "Here you will apply your topic-specific PageRank implementation to Wikipedia, defining topics (very arbitrarily) for each page by the length (number of characters) of the name of the article mod 10, so that there are 10 topics. \n",
    "\n",
    "* Once again, print out the top ten ranking nodes and their topics for each of the 11 versions, and comment on your result. Assume a teleportation factor of 0.15 in all your analyses. Run for 10 iterations.\n",
    "* Plot the pagerank values for the top 100 pages resulting from the 5 iterations run in HW 9.3. \n",
    "* Then plot the pagerank values for the same 100 pages that result from the topic specific pagerank after 10 iterations run. \n",
    "* Comment on your findings. "
   ]
  },
  {
   "cell_type": "markdown",
   "metadata": {},
   "source": [
    "<h2 style=\"color:darkgreen\"> HW 9.5 Implementation </h2>"
   ]
  },
  {
   "cell_type": "code",
   "execution_count": 1,
   "metadata": {
    "collapsed": true
   },
   "outputs": [],
   "source": [
    "## Code goes here"
   ]
  },
  {
   "cell_type": "code",
   "execution_count": 2,
   "metadata": {
    "collapsed": true
   },
   "outputs": [],
   "source": [
    "## Drivers & Runners"
   ]
  },
  {
   "cell_type": "code",
   "execution_count": 3,
   "metadata": {
    "collapsed": true
   },
   "outputs": [],
   "source": [
    "## Run Scripts, S3 Sync"
   ]
  },
  {
   "cell_type": "markdown",
   "metadata": {},
   "source": [
    "<h2 style=\"color:darkgreen\">  HW 9.5 Analysis </h2>\n",
    "\n",
    "\n",
    "\n",
    "\n",
    "<br><br>"
   ]
  },
  {
   "cell_type": "markdown",
   "metadata": {},
   "source": [
    "<h2 style=\"color:red\"> HW 9.6:  (OPTIONAL) TextRank</h2>\n",
    "\n",
    "* What is TextRank? Describe the main steps in the algorithm. Why does TextRank work?\n",
    "* Implement TextRank in MrJob for keyword phrases (not just unigrams) extraction using co-occurrence based similarity measure with with sizes of N = 2 and 3. And evaluate your code using the following example using precision, recall, and FBeta (Beta=1):\n",
    "```\n",
    "\"Compatibility of systems of linear constraints over the set of natural numbers\n",
    "Criteria of compatibility of a system of linear Diophantine equations, strict \n",
    "inequations, and nonstrict inequations are considered. Upper bounds for\n",
    "components of a minimal set of solutions and algorithms of construction of \n",
    "minimal generating sets of solutions for all types of systems are given. \n",
    "These criteria and the corresponding algorithms for constructing a minimal \n",
    "supporting set of solutions can be used in solving all the considered types of \n",
    "systems and systems of mixed types.\" \n",
    "```\n",
    "* The extracted keywords should in the following set:\n",
    "```\n",
    "linear constraints, linear diophantine equations, natural numbers, non-strict inequations, strict inequations, upper bounds\n",
    "```"
   ]
  },
  {
   "cell_type": "markdown",
   "metadata": {},
   "source": [
    "<h2 style=\"color:darkgreen\"> HW 9.6 Implementation </h2>"
   ]
  },
  {
   "cell_type": "code",
   "execution_count": 1,
   "metadata": {
    "collapsed": true
   },
   "outputs": [],
   "source": [
    "## Code goes here"
   ]
  },
  {
   "cell_type": "code",
   "execution_count": 2,
   "metadata": {
    "collapsed": true
   },
   "outputs": [],
   "source": [
    "## Drivers & Runners"
   ]
  },
  {
   "cell_type": "code",
   "execution_count": 3,
   "metadata": {
    "collapsed": true
   },
   "outputs": [],
   "source": [
    "## Run Scripts, S3 Sync"
   ]
  },
  {
   "cell_type": "markdown",
   "metadata": {},
   "source": [
    "<h2 style=\"color:darkgreen\">  HW 9.6 Analysis </h2>\n",
    "\n",
    "\n",
    "\n",
    "\n",
    "<br><br>"
   ]
  },
  {
   "cell_type": "markdown",
   "metadata": {},
   "source": [
    "<center><div class='jumbotron'><h2 style='color:green'>-------  END OF HWK 9 --------</h2></div></center>"
   ]
  }
 ],
 "metadata": {
  "kernelspec": {
   "display_name": "Python 2",
   "language": "python",
   "name": "python2"
  },
  "language_info": {
   "codemirror_mode": {
    "name": "ipython",
    "version": 2
   },
   "file_extension": ".py",
   "mimetype": "text/x-python",
   "name": "python",
   "nbconvert_exporter": "python",
   "pygments_lexer": "ipython2",
   "version": "2.7.11"
  }
 },
 "nbformat": 4,
 "nbformat_minor": 0
}
