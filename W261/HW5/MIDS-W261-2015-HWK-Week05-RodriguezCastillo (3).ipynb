{
 "cells": [
  {
   "cell_type": "markdown",
   "metadata": {},
   "source": [
    "# DATASCI W261: Machine Learning at Scale \n",
    "\n",
    "**Name: Carlos Eduardo Rodriguez Castillo**\n",
    "\n",
    "**email: cerodriguez@berkeley.edu**\n",
    "\n",
    "**Week 5**\n",
    "\n",
    "**Section 2**"
   ]
  },
  {
   "cell_type": "markdown",
   "metadata": {},
   "source": [
    "## HW 5.0\n",
    "- What is a data warehouse? What is a Star schema? When is it used?"
   ]
  },
  {
   "cell_type": "code",
   "execution_count": null,
   "metadata": {
    "collapsed": true
   },
   "outputs": [],
   "source": []
  },
  {
   "cell_type": "markdown",
   "metadata": {},
   "source": [
    "## HW 5.1\n",
    "- In the database world what is 3NF? Does machine learning use data in 3NF? If so why? \n",
    "- In what form does ML consume data?\n",
    "- Why would one use log files that are denormalized?"
   ]
  },
  {
   "cell_type": "markdown",
   "metadata": {},
   "source": [
    "##### ANSWER:\n",
    "\n",
    "* In the database world, 3NF is a format of ...\n",
    "* ML consumes data in a de-normalized format...\n",
    "* One would use log files that are denormalized..."
   ]
  },
  {
   "cell_type": "markdown",
   "metadata": {},
   "source": [
    "## HW 5.2\n",
    "Using MRJob, implement a hashside join (memory-backed map-side) for left, right and inner joins. Run your code on the  data used in HW 4.4: (Recall HW 4.4: Find the most frequent visitor of each page using mrjob and the output of 4.2  (i.e., transfromed log file). In this output please include the webpage URL, webpageID and Visitor ID.)\n",
    "\n",
    "Justify which table you chose as the Left table in this hashside join.\n",
    "\n",
    "Please report the number of rows resulting from:\n",
    "\n",
    "- (1) Left joining Table Left with Table Right\n",
    "- (2) Right joining Table Left with Table Right\n",
    "- (3) Inner joining Table Left with Table Right\n"
   ]
  },
  {
   "cell_type": "markdown",
   "metadata": {},
   "source": [
    "##### ANSWER:\n",
    "\n",
    "I choose the table with the URLs (URL ID and URL name) as the Left table in the hashside join because it is considerably smaller than the URL ID and USER ID visits; by definition we wish to store the smallest of the tables being merged as the in-memory stored table.\n",
    "\n",
    "| |Inner Join|Left Outer Join|Right Outer Join|\n",
    "|---|---|---|---|\n",
    "|Number of rows|98654|98663|98654| |\n"
   ]
  },
  {
   "cell_type": "code",
   "execution_count": 10,
   "metadata": {
    "collapsed": false
   },
   "outputs": [],
   "source": [
    "#####################################\n",
    "## Preprocessing/housekeeping\n",
    "#####################################\n",
    "#!mkdir data\n",
    "#!mkdir src\n",
    "#!wget \"https://www.dropbox.com/sh/m0nxsf4vs5cyrp2/AADCHtrJ4CBCDO1po_OAWg0ia/anonymous-msweb.data?dl=0#\"\n",
    "#!ls\n",
    "#!mv \"anonymous-msweb.data?dl=0\" data/anonymous-msweb.data\n",
    "#!ls data\n",
    "\n",
    "!egrep \"^A,\" data/anonymous-msweb.data > data/URL_table.txt\n",
    "#!head data/URL_table.txt\n",
    "#!wc -l data/URL_table.txt"
   ]
  },
  {
   "cell_type": "code",
   "execution_count": 6,
   "metadata": {
    "collapsed": false
   },
   "outputs": [
    {
     "name": "stdout",
     "output_type": "stream",
     "text": [
      "Writing src/preprocess.py\n"
     ]
    }
   ],
   "source": [
    "%%writefile src/preprocess.py\n",
    "#!/usr/bin/python\n",
    "\"\"\"\n",
    "Single node data preprocessing for HW4.2\n",
    "\"\"\"\n",
    "__author__ = \"Carlos Eduardo Rodriguez Castillo\"\n",
    "__email__ = \"cerodriguez@berkeley.edu\"\n",
    "\n",
    "import sys\n",
    "import re\n",
    "\n",
    "url_dict = {}\n",
    "\n",
    "for line in sys.stdin:\n",
    "    line = line.strip()\n",
    "    elements = line.split(\",\")\n",
    "    ## Given the design of the raw data file, \n",
    "    ## the script will first populate the url_dict\n",
    "    if elements[0] == 'C':\n",
    "        visitor_data = elements[0] + ',' + elements[2]\n",
    "        continue\n",
    "    elif elements[0] == 'V':\n",
    "        ## this is formatted as 'V,[URL_ID],[URL]\n",
    "        visit_data = elements[0] + ',' + elements[1]\n",
    "        ## this is formatted as 'V,[URL_ID],[URL],C,[USER_ID]\n",
    "        processed_line = visit_data + ',' + visitor_data\n",
    "        print processed_line"
   ]
  },
  {
   "cell_type": "code",
   "execution_count": 7,
   "metadata": {
    "collapsed": false
   },
   "outputs": [],
   "source": [
    "!chmod a+x src/preprocess.py\n",
    "!./src/preprocess.py < data/anonymous-msweb.data \\\n",
    "> data/preprocessed_anonymous-msweb.data"
   ]
  },
  {
   "cell_type": "code",
   "execution_count": 3,
   "metadata": {
    "collapsed": false
   },
   "outputs": [
    {
     "name": "stdout",
     "output_type": "stream",
     "text": [
      "Overwriting src/InnerJoinMRjob.py\n"
     ]
    }
   ],
   "source": [
    "%%writefile src/InnerJoinMRjob.py\n",
    "#!/usr/bin/env python\n",
    "\n",
    "from mrjob.job import MRJob\n",
    "from mrjob.step import MRStep\n",
    "import sys\n",
    "import os\n",
    "\n",
    "class InnerJoinMRjob(MRJob):\n",
    "    \n",
    "    def steps(self):\n",
    "        return [\n",
    "            MRStep(mapper_init=self.mapper_init,\n",
    "                   mapper=self.mapper\n",
    "            )\n",
    "        ]\n",
    "    COUNTER = 0\n",
    "    in_memory_hash = {}\n",
    "    def mapper_init(self):\n",
    "#         print \"Current path:\", os.path.dirname(os.path.realpath(__file__))\n",
    "        temp = [s.split('\\n')[0].split(',') for s in open(\"/home/cloudera/w261/HW5/data/URL_table.txt\", \"r\").readlines()]\n",
    "        for row in temp:\n",
    "            self.in_memory_hash[row[1]] = 'http://www.microsoft.com' + row[4].strip('\"')\n",
    "    \n",
    "    def identity_mapper(self, _, line):\n",
    "        yield _,line\n",
    "    \n",
    "    def mapper(self, _, line):\n",
    "        line = line.strip()\n",
    "        elements = line.split(',')\n",
    "        url_id = elements[1]\n",
    "        user_id = elements[3]\n",
    "        url = self.in_memory_hash[url_id]\n",
    "        yield url_id, (url, user_id)\n",
    "    \n",
    "if __name__ == '__main__':\n",
    "    InnerJoinMRjob().run()"
   ]
  },
  {
   "cell_type": "code",
   "execution_count": 2,
   "metadata": {
    "collapsed": false
   },
   "outputs": [],
   "source": [
    "!chmod a+x src/InnerJoinMRjob.py\n",
    "!./src/InnerJoinMRjob.py data/preprocessed_anonymous-msweb.data > output_InnerJoin"
   ]
  },
  {
   "cell_type": "code",
   "execution_count": 3,
   "metadata": {
    "collapsed": false
   },
   "outputs": [
    {
     "name": "stdout",
     "output_type": "stream",
     "text": [
      "Overwriting src/RightOuterJoinMRjob.py\n"
     ]
    }
   ],
   "source": [
    "%%writefile src/RightOuterJoinMRjob.py\n",
    "#!/usr/bin/env python\n",
    "\n",
    "from mrjob.job import MRJob\n",
    "from mrjob.step import MRStep\n",
    "import sys\n",
    "import os\n",
    "\n",
    "class RightOuterJoinMRjob(MRJob):\n",
    "    \n",
    "    def steps(self):\n",
    "        return [\n",
    "            MRStep(mapper_init=self.mapper_init,\n",
    "                   mapper=self.mapper\n",
    "            )\n",
    "        ]\n",
    "    COUNTER = 0\n",
    "    in_memory_hash = {}\n",
    "    def mapper_init(self):\n",
    "#         print \"Current path:\", os.path.dirname(os.path.realpath(__file__))\n",
    "        temp = [s.split('\\n')[0].split(',') for s in open(\"/home/cloudera/w261/HW5/data/URL_table.txt\", \"r\").readlines()]\n",
    "        for row in temp:\n",
    "            self.in_memory_hash[row[1]] = 'http://www.microsoft.com' + row[4].strip('\"')\n",
    "    \n",
    "    def identity_mapper(self, _, line):\n",
    "        yield _,line\n",
    "    \n",
    "    def mapper(self, _, line):\n",
    "        line = line.strip()\n",
    "        elements = line.split(',')\n",
    "        url_id = elements[1]\n",
    "        user_id = elements[3]\n",
    "        try:\n",
    "            url = self.in_memory_hash[url_id]\n",
    "        except KeyError:\n",
    "            sys.stderr.write(\"Did not find a URL for URL ID: %s\"%url_id)\n",
    "            url = \"NULL\"\n",
    "        yield url_id, (url, user_id)\n",
    "    \n",
    "if __name__ == '__main__':\n",
    "    RightOuterJoinMRjob().run()"
   ]
  },
  {
   "cell_type": "code",
   "execution_count": 4,
   "metadata": {
    "collapsed": false
   },
   "outputs": [
    {
     "name": "stdout",
     "output_type": "stream",
     "text": [
      "No configs found; falling back on auto-configuration\n",
      "Creating temp directory /tmp/RightOuterJoinMRjob.cloudera.20160615.211408.396808\n",
      "Running step 1 of 1...\n",
      "Streaming final output from /tmp/RightOuterJoinMRjob.cloudera.20160615.211408.396808/output...\n",
      "Removing temp directory /tmp/RightOuterJoinMRjob.cloudera.20160615.211408.396808...\n"
     ]
    }
   ],
   "source": [
    "!chmod a+x src/RightOuterJoinMRjob.py\n",
    "!./src/RightOuterJoinMRjob.py data/preprocessed_anonymous-msweb.data > output_RightOuterJoin"
   ]
  },
  {
   "cell_type": "code",
   "execution_count": 5,
   "metadata": {
    "collapsed": false
   },
   "outputs": [
    {
     "name": "stdout",
     "output_type": "stream",
     "text": [
      "Overwriting src/LeftOuterJoinMRjob.py\n"
     ]
    }
   ],
   "source": [
    "%%writefile src/LeftOuterJoinMRjob.py\n",
    "#!/usr/bin/env python\n",
    "\n",
    "from mrjob.job import MRJob\n",
    "from mrjob.step import MRStep\n",
    "import sys\n",
    "import os\n",
    "\n",
    "class LeftOuterJoinMRjob(MRJob):\n",
    "    \n",
    "    def steps(self):\n",
    "        JOB_CONF_STEP = {\n",
    "            'mapreduce.job.output.key.comparator.class': 'org.apache.hadoop.mapred.lib.KeyFieldBasedComparator',\n",
    "            'stream.num.map.output.key.field': 2,\n",
    "            'stream.map.output.field.separator':',',\n",
    "            'mapreduce.partition.keycomparator.options': \"-k1,1 -k2,2r\", # sort pages by count and then by ID\n",
    "             'mapreduce.job.reduces': 1,\n",
    "            'mapreduce.job.maps': 1\n",
    "            \n",
    "        }\n",
    "        return [\n",
    "            MRStep(jobconf=JOB_CONF_STEP,\n",
    "                mapper_init=self.mapper_init,\n",
    "                   mapper=self.mapper,\n",
    "                   mapper_final=self.mapper_final,\n",
    "                   reducer=self.reducer\n",
    "            )\n",
    "        ]\n",
    "    COUNTER = 0\n",
    "    in_memory_hash = {}\n",
    "    visited_hash = {}\n",
    "    def mapper_init(self):\n",
    "        temp = [s.split('\\n')[0].split(',') for s in open(\"/home/cloudera/w261/HW5/data/URL_table.txt\", \"r\").readlines()]\n",
    "        for row in temp:\n",
    "            self.in_memory_hash[row[1]] = {\"url\":'http://www.microsoft.com' + row[4].strip('\"'),\"visited\":0}\n",
    "            \n",
    "    def identity_mapper(self, _, line):\n",
    "        yield _,line\n",
    "    \n",
    "    def mapper(self, _, line):\n",
    "        line = line.strip()\n",
    "        elements = line.split(',')\n",
    "        url_id = elements[1]\n",
    "        user_id = elements[3]\n",
    "        self.in_memory_hash[url_id][\"visited\"] = 1\n",
    "        try:\n",
    "            url = self.in_memory_hash[url_id][\"url\"]\n",
    "        except KeyError:\n",
    "            sys.stderr.write(\"Did not find a URL for URL ID: %s\\n\"%url_id)\n",
    "            url = \"NULL\"\n",
    "        yield (1, (url_id, url, user_id))\n",
    "        \n",
    "    def mapper_final(self):\n",
    "        #non_visited_pages = []\n",
    "        for key in self.in_memory_hash.keys():\n",
    "            if self.in_memory_hash[key][\"visited\"] == 0:\n",
    "                #print (key, (key, self.in_memory_hash[key][\"url\"], \"NULL\"))\n",
    "                yield (99, (key, self.in_memory_hash[key][\"url\"], \"NULL\"))\n",
    "#         non_visited_pages = [print (key, (key, self.visited_hash[key][\"url\"], \"NULL\")) if self.visited_hash[key][\"visited\"] == 0 for key in self.visited_hash.keys()]\n",
    "#         for key in self.visited_hash.keys():\n",
    "#             if self.visited_hash[key][\"visited\"] == 0:\n",
    "#                 non_visited_pages.\n",
    "#                 yield key, (url_id, url, \"NULL\") \n",
    "#         yield non_visited_pages\n",
    "    def identity_reducer(self, visited, visit_tuples):\n",
    "        prev_url_id = \"\"\n",
    "        if int(visited) == 99:\n",
    "            for vt in visit_tuples:\n",
    "                url_id = vt[0]\n",
    "                url = vt[1]\n",
    "                uid = vt[2]\n",
    "                yield visited, (url_id, url, uid)\n",
    "        \n",
    "    def reducer(self, visited, visit_tuples):\n",
    "        prev_url_id = \"\"\n",
    "        if int(visited) == 99:\n",
    "            for vt in visit_tuples:\n",
    "                url_id = vt[0]\n",
    "                url = vt[1]\n",
    "                if prev_url_id != url_id:\n",
    "                    prev_url_id = url_id\n",
    "                    yield url_id, (url,\"NULL\")\n",
    "        else:\n",
    "            for vt in visit_tuples:\n",
    "                url_id = vt[0]\n",
    "                url = vt[1]\n",
    "                uid = vt[2]\n",
    "                yield url_id, (url, uid)\n",
    "    \n",
    "if __name__ == '__main__':\n",
    "    LeftOuterJoinMRjob().run()"
   ]
  },
  {
   "cell_type": "code",
   "execution_count": 6,
   "metadata": {
    "collapsed": false
   },
   "outputs": [
    {
     "name": "stdout",
     "output_type": "stream",
     "text": [
      "No configs found; falling back on auto-configuration\n",
      "Creating temp directory /tmp/LeftOuterJoinMRjob.cloudera.20160615.211419.631194\n",
      "Running step 1 of 1...\n",
      "Streaming final output from /tmp/LeftOuterJoinMRjob.cloudera.20160615.211419.631194/output...\n",
      "Removing temp directory /tmp/LeftOuterJoinMRjob.cloudera.20160615.211419.631194...\n"
     ]
    }
   ],
   "source": [
    "!chmod a+x src/LeftOuterJoinMRjob.py\n",
    "!./src/LeftOuterJoinMRjob.py data/preprocessed_anonymous-msweb.data > output_LeftOuterJoin\n",
    "# !wc -l output_LeftOuterJoin\n",
    "# !tail output_LeftOuterJoin\n",
    "#!grep \"99\\t\" output_LeftOuterJoin"
   ]
  },
  {
   "cell_type": "code",
   "execution_count": 7,
   "metadata": {
    "collapsed": false,
    "scrolled": true
   },
   "outputs": [
    {
     "name": "stdout",
     "output_type": "stream",
     "text": [
      "############################\n",
      "##     INNER JOIN ROWS    ##\n",
      "############################\n",
      "98654 output_InnerJoin\n",
      "############################\n",
      "##  LEFT OUTER JOIN ROWS  ##\n",
      "############################\n",
      "98663 output_LeftOuterJoin\n",
      "############################\n",
      "## RIGHT OUTER JOIN ROWS  ##\n",
      "############################\n",
      "98654 output_RightOuterJoin\n"
     ]
    }
   ],
   "source": [
    "!echo \"############################\"\n",
    "!echo \"##     INNER JOIN ROWS    ##\"\n",
    "!echo \"############################\"\n",
    "!wc -l output_InnerJoin\n",
    "!echo \"############################\"\n",
    "!echo \"##  LEFT OUTER JOIN ROWS  ##\"\n",
    "!echo \"############################\"\n",
    "!wc -l output_LeftOuterJoin\n",
    "!echo \"############################\"\n",
    "!echo \"## RIGHT OUTER JOIN ROWS  ##\"\n",
    "!echo \"############################\"\n",
    "!wc -l output_RightOuterJoin"
   ]
  },
  {
   "cell_type": "markdown",
   "metadata": {},
   "source": [
    "## HW 5.3  EDA of Google n-grams dataset\n",
    "A large subset of the Google n-grams dataset\n",
    "\n",
    "https://aws.amazon.com/datasets/google-books-ngrams/\n",
    "\n",
    "which we have placed in a bucket/folder on Dropbox on s3:\n",
    "\n",
    "https://www.dropbox.com/sh/tmqpc4o0xswhkvz/AACUifrl6wrMrlK6a3X3lZ9Ea?dl=0 \n",
    "\n",
    "s3://filtered-5grams/\n",
    "\n",
    "In particular, this bucket contains (~200) files (10Meg each) in the format:\n",
    "\n",
    "\t(ngram) \\t (count) \\t (pages_count) \\t (books_count)\n",
    "\n",
    "For HW 5.3-5.5, for the Google n-grams dataset unit test and regression test your code using the \n",
    "first 10 lines of the following file:\n",
    "\n",
    "googlebooks-eng-all-5gram-20090715-0-filtered.txt\n",
    "\n",
    "Once you are happy with your test results proceed to generating  your results on the Google n-grams dataset. \n",
    "\n",
    "Do some EDA on this dataset using mrjob, e.g., \n",
    "\n",
    "- Longest 5-gram (number of characters)\n",
    "- Top 10 most frequent words (please use the count information), i.e., unigrams\n",
    "- 20 Most/Least densely appearing words (count/pages_count) sorted in decreasing order of relative frequency \n",
    "- Distribution of 5-gram sizes (character length).  E.g., count (using the count field) up how many times a 5-gram of 50 characters shows up. Plot the data graphically using a histogram."
   ]
  },
  {
   "cell_type": "code",
   "execution_count": 23,
   "metadata": {
    "collapsed": false
   },
   "outputs": [
    {
     "name": "stdout",
     "output_type": "stream",
     "text": [
      "--2016-06-14 14:43:25--  https://www.dropbox.com/sh/tmqpc4o0xswhkvz/AACr50woxiBWoaiiLmnwduX8a/googlebooks-eng-all-5gram-20090715-0-filtered.txt?dl=0\n",
      "Resolving www.dropbox.com... 162.125.4.1\n",
      "Connecting to www.dropbox.com|162.125.4.1|:443... connected.\n",
      "HTTP request sent, awaiting response... 302 Found\n",
      "Location: https://dl.dropboxusercontent.com/content_link/aybBJ8bbWLshGuChgsiQMLPmaJmMg2M7ijhsm3e9Oo8qVqoII6V5JnvQ6sHMPlAV/file [following]\n",
      "--2016-06-14 14:43:27--  https://dl.dropboxusercontent.com/content_link/aybBJ8bbWLshGuChgsiQMLPmaJmMg2M7ijhsm3e9Oo8qVqoII6V5JnvQ6sHMPlAV/file\n",
      "Resolving dl.dropboxusercontent.com... 45.58.74.165\n",
      "Connecting to dl.dropboxusercontent.com|45.58.74.165|:443... connected.\n",
      "HTTP request sent, awaiting response... 200 OK\n",
      "Length: 11444614 (11M) [text/plain]\n",
      "Saving to: “googlebooks-eng-all-5gram-20090715-0-filtered.txt?dl=0”\n",
      "\n",
      "100%[======================================>] 11,444,614  9.19M/s   in 1.2s    \n",
      "\n",
      "2016-06-14 14:43:29 (9.19 MB/s) - “googlebooks-eng-all-5gram-20090715-0-filtered.txt?dl=0” saved [11444614/11444614]\n",
      "\n",
      "A BILL FOR ESTABLISHING RELIGIOUS\t59\t59\t54\n",
      "A Biography of General George\t92\t90\t74\n",
      "A Case Study in Government\t102\t102\t78\n",
      "A Case Study of Female\t447\t447\t327\n",
      "A Case Study of Limited\t55\t55\t43\n",
      "A Child's Christmas in Wales\t1099\t1061\t866\n",
      "A Circumstantial Narrative of the\t62\t62\t50\n",
      "A City by the Sea\t62\t60\t49\n",
      "A Collection of Fairy Tales\t123\t117\t80\n",
      "A Collection of Forms of\t116\t103\t82\n"
     ]
    }
   ],
   "source": [
    "!wget \"https://www.dropbox.com/sh/tmqpc4o0xswhkvz/AACr50woxiBWoaiiLmnwduX8a/googlebooks-eng-all-5gram-20090715-0-filtered.txt?dl=0#\"\n",
    "#!ls data\n",
    "!mv \"googlebooks-eng-all-5gram-20090715-0-filtered.txt?dl=0\" data/googlebooks-eng-all-5gram-20090715-0-filtered.txt\n",
    "!head -n 10 data/googlebooks-eng-all-5gram-20090715-0-filtered.txt > data/mini-googlebooks-eng-all-5gram-20090715-0-filtered.txt\n",
    "!cat data/mini-googlebooks-eng-all-5gram-20090715-0-filtered.txt"
   ]
  },
  {
   "cell_type": "code",
   "execution_count": 24,
   "metadata": {
    "collapsed": false
   },
   "outputs": [
    {
     "name": "stdout",
     "output_type": "stream",
     "text": [
      "Writing src/eda_1.py\n"
     ]
    }
   ],
   "source": [
    "%%writefile src/eda_1.py\n",
    "#!/usr/bin/env python\n",
    "\n",
    "from mrjob.job import MRJob\n",
    "from mrjob.step import MRStep\n",
    "import sys\n",
    "import os\n",
    "\n",
    "class Longest5ngramJob(MRJob):\n",
    "    \n",
    "    def steps(self):\n",
    "        JOB_CONF_STEP = {\n",
    "            'mapreduce.job.output.key.comparator.class': 'org.apache.hadoop.mapred.lib.KeyFieldBasedComparator',\n",
    "            'stream.num.map.output.key.field': 2,\n",
    "            'stream.map.output.field.separator':'/t',\n",
    "            'mapreduce.partition.keycomparator.options': \"-k2,2nr\", # sort pages by count and then by ID\n",
    "             'mapreduce.job.reduces': 1            \n",
    "        }\n",
    "        return [\n",
    "            MRStep(jobconf=JOB_CONF_STEP,\n",
    "                   mapper=self.mapper,\n",
    "                   reducer=self.reducer\n",
    "            )\n",
    "        ]\n",
    "    \n",
    "    def mapper(self, _, line):\n",
    "        ngram = line.split(\"\\t\")[0]\n",
    "        yield ngram, len(ngram)\n",
    "\n",
    "    def reducer(self,key,value):\n",
    "        yield key, sum(value)\n",
    "\n",
    "if __name__ == \"__main__\":\n",
    "    Longest5ngramJob().run()"
   ]
  },
  {
   "cell_type": "code",
   "execution_count": 64,
   "metadata": {
    "collapsed": false,
    "scrolled": true
   },
   "outputs": [
    {
     "name": "stdout",
     "output_type": "stream",
     "text": [
      "\"A Circumstantial Narrative of the\"\t33\r\n",
      "\"A BILL FOR ESTABLISHING RELIGIOUS\"\t33\r\n",
      "\"A Biography of General George\"\t29\r\n",
      "\"A Child's Christmas in Wales\"\t28\r\n",
      "\"A Collection of Fairy Tales\"\t27\r\n",
      "\"A Case Study in Government\"\t26\r\n",
      "\"A Collection of Forms of\"\t24\r\n",
      "\"A Case Study of Limited\"\t23\r\n",
      "\"A Case Study of Female\"\t22\r\n",
      "\"A City by the Sea\"\t17\r\n"
     ]
    }
   ],
   "source": [
    "# !chmod a+x src/eda_1.py\n",
    "# !./src/eda_1.py -r hadoop \\\n",
    "#  data/mini-googlebooks-eng-all-5gram-20090715-0-filtered.txt \\\n",
    "# > output_eda1\n",
    "!head output_eda1"
   ]
  },
  {
   "cell_type": "code",
   "execution_count": 74,
   "metadata": {
    "collapsed": false
   },
   "outputs": [
    {
     "name": "stdout",
     "output_type": "stream",
     "text": [
      "Overwriting src/eda_2.py\n"
     ]
    }
   ],
   "source": [
    "%%writefile src/eda_2.py\n",
    "#!/usr/bin/env python\n",
    "\n",
    "from mrjob.job import MRJob\n",
    "from mrjob.step import MRStep\n",
    "import mrjob\n",
    "import sys\n",
    "import os\n",
    "\n",
    "class UnigramCounterJob(MRJob):\n",
    "    \n",
    "    def steps(self):\n",
    "        JOB_CONF_STEP = {\n",
    "            'mapreduce.job.output.key.comparator.class': 'org.apache.hadoop.mapred.lib.KeyFieldBasedComparator',\n",
    "            'stream.num.map.output.key.field': 2,\n",
    "            'stream.map.output.field.separator':'/t',\n",
    "            'mapreduce.partition.keycomparator.options': \"-k2,2nr\",\n",
    "            'mapreduce.job.reduces': 1            \n",
    "        }\n",
    "        return [\n",
    "            MRStep(\n",
    "                   mapper=self.mapper,\n",
    "                   combiner=self.combiner,\n",
    "                   reducer=self.reducer\n",
    "            ),\n",
    "            MRStep(jobconf=JOB_CONF_STEP,\n",
    "                   reducer=self.sortReducer\n",
    "            )\n",
    "        ]\n",
    "    \n",
    "    def mapper(self, _, line):\n",
    "        line = line.strip()\n",
    "        ngram_elements = line.split(\"\\t\")\n",
    "        ngram = ngram_elements[0]\n",
    "        count = int(ngram_elements[1])\n",
    "        unigrams = ngram.split()\n",
    "        for unigram in unigrams:\n",
    "            yield (unigram.lower(), count)\n",
    "\n",
    "    def combiner(self, key, value):\n",
    "        yield (key, sum(value))\n",
    "    \n",
    "    def reducer(self, key, value):\n",
    "        yield (key, sum(value))\n",
    "        \n",
    "    def sortReducer(self, key, value):\n",
    "        yield (key, sum(value))\n",
    "\n",
    "if __name__ == \"__main__\":\n",
    "    UnigramCounterJob().run()"
   ]
  },
  {
   "cell_type": "code",
   "execution_count": 106,
   "metadata": {
    "collapsed": false
   },
   "outputs": [],
   "source": [
    "# !head -n 10  data/mini-googlebooks-eng-all-5gram-20090715-0-filtered.txt\n",
    "# !./src/eda_2.py -r hadoop \\\n",
    "#  data/mini-googlebooks-eng-all-5gram-20090715-0-filtered.txt \\\n",
    "#     > output_eda2\n",
    "# !head -n 10 output_eda2\n",
    "# !tail -n 10 output_eda2\n",
    "# !wc output_eda2\n",
    "# !head -n 100000 output_eda2 > data/top10000words.txt\n",
    "# !head -n 1000 output_eda2 > data/ranked9001-10000words.txt\n",
    "\n",
    "# !head data/top10000words.txt\n",
    "# !head data/ranked9001-10000words.txt\n",
    "\n",
    "!diff data/top10000words.txt data/ranked9001-10000words.txt"
   ]
  },
  {
   "cell_type": "code",
   "execution_count": 48,
   "metadata": {
    "collapsed": false
   },
   "outputs": [
    {
     "name": "stdout",
     "output_type": "stream",
     "text": [
      "Overwriting test.py\n"
     ]
    }
   ],
   "source": [
    "%%writefile test.py\n",
    "#!/usr/bin/env python\n",
    "\n",
    "from mrjob import conf\n",
    "print conf.find_mrjob_conf()\n",
    "print conf.load_opts_from_mrjob_conf('hadoop')"
   ]
  },
  {
   "cell_type": "code",
   "execution_count": 67,
   "metadata": {
    "collapsed": false
   },
   "outputs": [
    {
     "name": "stdout",
     "output_type": "stream",
     "text": [
      "Overwriting src/eda_3.py\n"
     ]
    }
   ],
   "source": [
    "%%writefile src/eda_3.py\n",
    "#!/usr/bin/env python\n",
    "\n",
    "from mrjob.job import MRJob\n",
    "from mrjob.step import MRStep\n",
    "import mrjob\n",
    "import sys\n",
    "import os\n",
    "\n",
    "class WordFrequencyJob(MRJob):\n",
    "    \n",
    "    def steps(self):\n",
    "        JOB_CONF_STEP = {\n",
    "            'mapreduce.job.output.key.comparator.class': 'org.apache.hadoop.mapred.lib.KeyFieldBasedComparator',\n",
    "            'stream.num.map.output.key.field': 2,\n",
    "            'stream.map.output.field.separator':'/t',\n",
    "            'mapreduce.partition.keycomparator.options': \"-k2,2nr -k1,1\",\n",
    "            'mapreduce.job.reduces': 1\n",
    "        }\n",
    "        return [\n",
    "            MRStep(\n",
    "                   mapper=self.mapper,\n",
    "#                    combiner=self.combiner,\n",
    "                   reducer=self.reducer\n",
    "            ),\n",
    "            MRStep(jobconf=JOB_CONF_STEP,\n",
    "                   reducer=self.sortReducer\n",
    "            )\n",
    "        ]\n",
    "    \n",
    "    def mapper(self, _, line):\n",
    "        line = line.strip()\n",
    "        ngram_elements = line.split(\"\\t\")\n",
    "        ngram = ngram_elements[0]\n",
    "        count = int(ngram_elements[1])\n",
    "        page_count = int(ngram_elements[2])\n",
    "        unigrams = ngram.split()\n",
    "        for unigram in unigrams:\n",
    "            yield (unigram.lower(), (count, page_count))\n",
    "    \n",
    "    def reducer (self, key, value):\n",
    "        total_count, total_page_count = 0, 0\n",
    "        for val in value:\n",
    "            total_count += int(val[0])\n",
    "            total_page_count += int(val[1])\n",
    "        yield (key, (float(total_count)/float(total_page_count)))\n",
    "\n",
    "#     def combiner(self, key, value):\n",
    "#         for count, page_count in value:\n",
    "#             yield (key, sum(value))\n",
    "    \n",
    "#     def reducer(self, key, value):\n",
    "#         yield (key, sum(value))\n",
    "        \n",
    "    def sortReducer(self, key, value):\n",
    "        yield (key, sum(value))\n",
    "\n",
    "if __name__ == \"__main__\":\n",
    "    WordFrequencyJob().run()"
   ]
  },
  {
   "cell_type": "code",
   "execution_count": 70,
   "metadata": {
    "collapsed": false
   },
   "outputs": [
    {
     "name": "stdout",
     "output_type": "stream",
     "text": [
      "\"not\"\t1.3333333333333333\n",
      "\"need\"\t1.3333333333333333\n",
      "\"be\"\t1.3333333333333333\n",
      "\"banker\"\t1.3333333333333333\n",
      "\"funny\"\t1.1688311688311688\n",
      "\"dirty\"\t1.1688311688311688\n",
      "\"war\"\t1.1688311688311688\n",
      "\"little\"\t1.1688311688311688\n",
      "\"projected\"\t1.1614906832298137\n",
      "\"is\"\t1.1614906832298137\n",
      "\"body\"\t1.1614906832298137\n",
      "\"mathematical\"\t1.1486486486486487\n",
      "\"forms\"\t1.1262135922330097\n",
      "\"addressed\"\t1.1219512195121952\n",
      "\"sermon\"\t1.1219512195121952\n",
      "\"at\"\t1.0985401459854014\n",
      "\"collection\"\t1.0863636363636364\n",
      "\"did\"\t1.0814757878554957\n",
      "\"my\"\t1.0814757878554957\n",
      "\"spirit\"\t1.0814757878554957\n",
      "\"bit\"\t1.0\n",
      "\"bill\"\t1.0\n",
      "\"bibliographical\"\t1.0\n",
      "\"better\"\t1.0\n",
      "\"battle\"\t1.0\n",
      "\"basing\"\t1.0\n",
      "\"basin\"\t1.0\n",
      "\"based\"\t1.0\n",
      "\"ball\"\t1.0\n",
      "\"b\"\t1.0\n",
      "\"assessment\"\t1.0\n",
      "\"aspiration\"\t1.0\n",
      "\"arithmetic\"\t1.0\n",
      "\"are\"\t1.0\n",
      "\"approximation\"\t1.0\n",
      "\"apology\"\t1.0\n",
      "\"analysis\"\t1.0\n",
      "\"america's\"\t1.0\n",
      "\"aerial\"\t1.0\n",
      "\"cradle\"\t1.0\n"
     ]
    }
   ],
   "source": [
    "# !chmod a+x src/eda_3.py\n",
    "# !./src/eda_3.py -r hadoop \\\n",
    "#  data/mini-googlebooks-eng-all-5gram-20090715-0-filtered.txt \\\n",
    "#     > output_eda3_1\n",
    "!head -n 20 output_eda3_1\n",
    "!tail -n 20 output_eda3_1"
   ]
  },
  {
   "cell_type": "code",
   "execution_count": 8,
   "metadata": {
    "collapsed": false
   },
   "outputs": [
    {
     "name": "stdout",
     "output_type": "stream",
     "text": [
      "\"a\"\t1.0282931354359925\r\n",
      "\"bill\"\t1.0\r\n",
      "\"biography\"\t1.0222222222222221\r\n",
      "\"by\"\t1.0333333333333334\r\n",
      "\"case\"\t1.0\r\n",
      "\"child's\"\t1.0358152686145146\r\n",
      "\"christmas\"\t1.0358152686145146\r\n",
      "\"circumstantial\"\t1.0\r\n",
      "\"city\"\t1.0333333333333334\r\n",
      "\"collection\"\t1.0863636363636364\r\n"
     ]
    }
   ],
   "source": [
    "# !chmod a+x src/eda_3.py\n",
    "# !./src/eda_3.py -r hadoop \\\n",
    "#  data/mini-googlebooks-eng-all-5gram-20090715-0-filtered.txt \\\n",
    "#     > output_eda3\n",
    "!head -n 10 output_eda3"
   ]
  },
  {
   "cell_type": "code",
   "execution_count": 89,
   "metadata": {
    "collapsed": false
   },
   "outputs": [
    {
     "name": "stdout",
     "output_type": "stream",
     "text": [
      "0    33\n",
      "1    33\n",
      "2    29\n",
      "3    28\n",
      "4    27\n",
      "5    26\n",
      "6    24\n",
      "7    23\n",
      "8    22\n",
      "9    17\n",
      "Name: 1, dtype: int64\n"
     ]
    },
    {
     "data": {
      "text/plain": [
       "<matplotlib.axes._subplots.AxesSubplot at 0x7fd37a871850>"
      ]
     },
     "execution_count": 89,
     "metadata": {},
     "output_type": "execute_result"
    },
    {
     "data": {
      "image/png": "[encoded data removed]",
      "text/plain": [
       "<matplotlib.figure.Figure at 0x7fd37ae9e350>"
      ]
     },
     "metadata": {},
     "output_type": "display_data"
    }
   ],
   "source": [
    "%matplotlib inline\n",
    "import pandas as pd\n",
    "\n",
    "\n",
    "df = pd.read_csv(\"output_eda1\",\n",
    "                 sep='\\t',\n",
    "                header=None)\n",
    "\n",
    "counts = pd.Series(df[1])\n",
    "print counts\n",
    "counts.hist(bins=20)"
   ]
  },
  {
   "cell_type": "markdown",
   "metadata": {},
   "source": [
    "## HW 5.3.1 OPTIONAL Question:\n",
    "Plot the log-log plot of the frequency distributuion of unigrams. Does it follow power law distribution?\n",
    "\n",
    "For more background see:\n",
    "- https://en.wikipedia.org/wiki/Log%E2%80%93log_plot\n",
    "- https://en.wikipedia.org/wiki/Power_law"
   ]
  },
  {
   "cell_type": "code",
   "execution_count": 78,
   "metadata": {
    "collapsed": false
   },
   "outputs": [
    {
     "name": "stdout",
     "output_type": "stream",
     "text": [
      "anonymous-msweb.data\t\t\t\t\tstopwords.txt\r\n",
      "googlebooks-eng-all-5gram-20090715-0-filtered.txt\tsystems_test_HW54.txt\r\n",
      "mini-googlebooks-eng-all-5gram-20090715-0-filtered.txt\tURL_table.txt\r\n",
      "preprocessed_anonymous-msweb.data\r\n"
     ]
    }
   ],
   "source": [
    "!ls data"
   ]
  },
  {
   "cell_type": "markdown",
   "metadata": {},
   "source": [
    "## HW 5.4  Synonym detection over 2Gig of Data\n",
    "\n",
    "For the remainder of this assignment you will work with two datasets:\n",
    "\n",
    "### 1: unit/systems test data set: SYSTEMS TEST DATASET\n",
    "Three terms, A,B,C and their corresponding strip-docs of co-occurring terms\n",
    "\n",
    "- DocA {X:20, Y:30, Z:5}\n",
    "- DocB {X:100, Y:20}\n",
    "- DocC {M:5, N:20, Z:5}\n",
    "\n",
    "### 2: A large subset of the Google n-grams dataset as was described above\n",
    "\n",
    "For each HW 5.4 -5.5.1 Please unit test and system test your code with respect \n",
    "to SYSTEMS TEST DATASET and show the results. \n",
    "Please compute the expected answer by hand and show your hand calculations for the \n",
    "SYSTEMS TEST DATASET. Then show the results you get with your system.\n",
    "\n",
    "In this part of the assignment we will focus on developing methods\n",
    "for detecting synonyms, using the Google 5-grams dataset. To accomplish\n",
    "this you must script two main tasks using MRJob:\n",
    "\n",
    "(1) Build stripes for the most frequent 10,000 words using co-occurence information based on\n",
    "the words ranked from 9001,-10,000 as a basis/vocabulary (drop stopword-like terms),\n",
    "and output to a file in your bucket on s3 (bigram analysis, though the words are non-contiguous).\n",
    "\n",
    "\n",
    "(2) Using two (symmetric) comparison methods of your choice \n",
    "(e.g., correlations, distances, similarities), pairwise compare \n",
    "all stripes (vectors), and output to a file in your bucket on s3.\n",
    "\n",
    "==Design notes for (1)==\n",
    "For this task you will be able to modify the pattern we used in HW 3.2\n",
    "(feel free to use the solution as reference). To total the word counts \n",
    "across the 5-grams, output the support from the mappers using the total \n",
    "order inversion pattern:\n",
    "\n",
    "<*word,count>\n",
    "\n",
    "to ensure that the support arrives before the cooccurrences.\n",
    "\n",
    "In addition to ensuring the determination of the total word counts,\n",
    "the mapper must also output co-occurrence counts for the pairs of\n",
    "words inside of each 5-gram. Treat these words as a basket,\n",
    "as we have in HW 3, but count all stripes or pairs in both orders,\n",
    "i.e., count both orderings: (word1,word2), and (word2,word1), to preserve\n",
    "symmetry in our output for (2).\n",
    "\n",
    "==Design notes for (2)==\n",
    "For this task you will have to determine a method of comparison.\n",
    "Here are a few that you might consider:\n",
    "\n",
    "- Jaccard\n",
    "- Cosine similarity\n",
    "- Spearman correlation\n",
    "- Euclidean distance\n",
    "- Taxicab (Manhattan) distance\n",
    "- Shortest path graph distance (a graph, because our data is symmetric!)\n",
    "- Pearson correlation\n",
    "- Kendall correlation\n",
    "\n",
    "However, be cautioned that some comparison methods are more difficult to\n",
    "parallelize than others, and do not perform more associations than is necessary, \n",
    "since your choice of association will be symmetric.\n",
    "\n",
    "Please use the inverted index (discussed in live session #5) based pattern to compute the pairwise (term-by-term) similarity matrix. \n",
    "\n",
    "Please report the size of the cluster used and the amount of time it takes to run for the index construction task and for the synonym calculation task. How many pairs need to be processed (HINT: use the posting list length to calculate directly)? Report your  Cluster configuration!\n",
    "\n"
   ]
  },
  {
   "cell_type": "code",
   "execution_count": 73,
   "metadata": {
    "collapsed": true
   },
   "outputs": [],
   "source": [
    "!head -n 100 data/googlebooks-eng-all-5gram-20090715-0-filtered.txt > data/mini-googlebooks-eng-all-5gram-20090715-0-filtered.txt"
   ]
  },
  {
   "cell_type": "code",
   "execution_count": 64,
   "metadata": {
    "collapsed": false
   },
   "outputs": [
    {
     "name": "stdout",
     "output_type": "stream",
     "text": [
      "Overwriting src/createStripesJob.py\n"
     ]
    }
   ],
   "source": [
    "%%writefile src/createStripesJob.py\n",
    "#!/usr/bin/env python\n",
    "\n",
    "from mrjob.job import MRJob\n",
    "from mrjob.step import MRStep\n",
    "import mrjob\n",
    "import sys\n",
    "import os\n",
    "import ast\n",
    "from math import *\n",
    "\n",
    "class createStripesJob(MRJob):\n",
    "\n",
    "    stopwords = set()\n",
    "    top10000words = set()\n",
    "    vocabulary = set()\n",
    "    \n",
    "    ## ########################################\n",
    "    ## THE STEPS BELOW ARE PURELY FOR TESTING\n",
    "    ## I NEED TO WRITE THE OUTPUT OF THE STRIPE\n",
    "    ## JOB TO S3\n",
    "    ## ########################################\n",
    "    def steps(self):\n",
    "        return [\n",
    "            MRStep(mapper_init=self.stripeMapper_init,\n",
    "                   mapper=self.stripeMapper,\n",
    "                   reducer=self.stripeReducer\n",
    "            ),\n",
    "            MRStep(\n",
    "                mapper=self.invertedIndexMapper,\n",
    "                reducer=self.invertedIndexReducer\n",
    "            )\n",
    "        ]\n",
    "\n",
    "    def stripeMapper_init(self):\n",
    "        with open('/home/cloudera/w261/HW5/data/stopwords.txt', 'r') as f:\n",
    "            for line in f:\n",
    "                line = line.strip()\n",
    "                self.stopwords.add(line)\n",
    "\n",
    "        with open('/home/cloudera/w261/HW5/data/top10000words.txt', 'r') as f:\n",
    "            for line in f:\n",
    "                line = line.strip()\n",
    "                line = line.split(\"\\t\")\n",
    "                word = line[0].strip('\"')\n",
    "                self.top10000words.add(word)\n",
    "\n",
    "        with open('/home/cloudera/w261/HW5/data/ranked9001-10000words.txt','r') as f:\n",
    "            for line in f:\n",
    "                line = line.strip()\n",
    "                line = line.split(\"\\t\")\n",
    "                word = line[0].strip('\"')\n",
    "                self.vocabulary.add(word)\n",
    "        \n",
    "    def stripeMapper(self, _, line):\n",
    "        line = line.strip()\n",
    "        line = line.split(\"\\t\")\n",
    "        fiveGram = line[0]\n",
    "        count = int(line[1])\n",
    "        unigrams = fiveGram.split()\n",
    "        for token1 in unigrams:\n",
    "            if token1 in self.top10000words and token1 not in self.stopwords:\n",
    "                stripe = {}\n",
    "                for token2 in unigrams:\n",
    "                    if token1 != token2 and token2 in self.vocabulary and token2 not in self.stopwords:\n",
    "                        stripe[token2] = count\n",
    "                if stripe:\n",
    "                    yield token1, stripe\n",
    "    def stripeReducer(self, key, value):\n",
    "        agg_stripe = {}\n",
    "        doc = key\n",
    "        for stripe in value:\n",
    "            ## LOOKS LIKE THE KEYS IN THE STRIPE ARE\n",
    "            ## UNICODE STRINGS WATCH OUT FOR THAT SHIT\n",
    "            ## ALSO\n",
    "            ## SEEMS LIKE THE STRIPES ARE ALREADY DICTS...\n",
    "            \n",
    "#             sys.stderr.write(\"THIS IS A RAW STRIPE DUDE: %s\\n\" %stripe)\n",
    "#             sys.stderr.write(\"THIS IS THE RAW STRIPE TYPE:\\n\")\n",
    "#             sys.stderr.write(type(stripe).__name__)\n",
    "            \n",
    "            #stripe = ast.literal_eval(stripe)\n",
    "            for key,value in stripe.iteritems():\n",
    "                if key in agg_stripe.keys():\n",
    "                    agg_stripe[key] = agg_stripe[key] + int(value)\n",
    "                else:\n",
    "                    agg_stripe[key] = int(value)\n",
    "        #yield key, agg_stripe\n",
    "        yield doc, agg_stripe\n",
    "    \n",
    "    def invertedIndexMapper(self, key, line):\n",
    "        inverted_index = {}\n",
    "        sys.stderr.write(\"\\nTHIS IS THE SECOND MAPPER'S INPUT KEY\\n\")\n",
    "        sys.stderr.write(key)\n",
    "        sys.stderr.write(\"\\n#######################################\\n\")\n",
    "        sys.stderr.write(\"\\nTHIS IS THE SECOND MAPPER'S INPUT LINE\\n\")\n",
    "        ## we have figured out that the \"line\" input here is a dict\n",
    "        ## fascinating shit... BUT this is good cause we are getting closer\n",
    "        ## I think that the key is being sent as a string separately\n",
    "        ## LETS CHECK!!!!!\n",
    "        sys.stderr.write(str(line))\n",
    "        sys.stderr.write(\"\\n#######################################\\n\")\n",
    "        #line = line.split(\"\\t\")\n",
    "        #doc = line[0]\n",
    "        doc = key\n",
    "        #stripe = line[1]\n",
    "        #stripe = stripe\n",
    "        #stripe = ast.literal_eval(stripe)\n",
    "        stripe = line\n",
    "        length = len(stripe)\n",
    "        norm_length = sqrt(length)\n",
    "        for k in stripe.keys():\n",
    "            stripe[k] = 1\n",
    "            stripe[k] = float(stripe[k]) / float(norm_length)\n",
    "            if k not in inverted_index.keys():\n",
    "                inverted_index[k] = {doc:{\"sim\":stripe[k]}}\n",
    "            else:\n",
    "                inverted_index[k][doc][\"sim\"] = stripe[k]\n",
    "        for k2, v2 in inverted_index.iteritems():\n",
    "            v2[doc][\"length\"] = length\n",
    "            #print (\"\\t\".join([key, str(value)]) + \"\\n\")\n",
    "            yield k2, v2\n",
    "    def invertedIndexReducer(self, key, line):\n",
    "        posting_list = {}\n",
    "        doc = key\n",
    "        for stripe in line:\n",
    "        ## under the assumption that we have properly constructed\n",
    "        ## our inputs, we simply aggregate them as a single dict\n",
    "        ## in the value\n",
    "            for key,value in stripe.iteritems():\n",
    "                posting_list[key] = value\n",
    "#                 if key in agg_stripe.keys():\n",
    "#                     agg_stripe[key] = agg_stripe[key] + int(value)\n",
    "#                 else:\n",
    "#                     agg_stripe[key] = int(value)\n",
    "        #yield key, agg_stripe\n",
    "        posting_list[\"*\"+doc] = len(posting_list)\n",
    "        yield doc, posting_list\n",
    "\n",
    "if __name__ == \"__main__\":\n",
    "    createStripesJob().run()"
   ]
  },
  {
   "cell_type": "code",
   "execution_count": 69,
   "metadata": {
    "collapsed": false
   },
   "outputs": [
    {
     "name": "stdout",
     "output_type": "stream",
     "text": [
      "\"aspiration\"\t{\"*aspiration\": 2, \"marrow\": {\"length\": 2, \"sim\": 0.70710678118654746}, \"bone\": {\"length\": 2, \"sim\": 0.70710678118654746}}\r\n",
      "\"basin\"\t{\"midst\": {\"length\": 1, \"sim\": 1.0}, \"*basin\": 1}\r\n",
      "\"battle\"\t{\"fought\": {\"length\": 1, \"sim\": 1.0}, \"ensued\": {\"length\": 1, \"sim\": 1.0}, \"*battle\": 2}\r\n",
      "\"belief\"\t{\"*belief\": 1, \"necessity\": {\"length\": 1, \"sim\": 1.0}}\r\n",
      "\"bit\"\t{\"farther\": {\"length\": 1, \"sim\": 1.0}, \"*bit\": 1}\r\n",
      "\"body\"\t{\"*body\": 1, \"projected\": {\"length\": 1, \"sim\": 1.0}}\r\n",
      "\"bone\"\t{\"marrow\": {\"length\": 2, \"sim\": 0.70710678118654746}, \"aspiration\": {\"length\": 2, \"sim\": 0.70710678118654746}, \"*bone\": 2}\r\n",
      "\"book\"\t{\"*book\": 1, \"designed\": {\"length\": 1, \"sim\": 1.0}}\r\n",
      "\"branch\"\t{\"established\": {\"length\": 1, \"sim\": 1.0}, \"*branch\": 1}\r\n",
      "\"designed\"\t{\"*designed\": 1, \"book\": {\"length\": 1, \"sim\": 1.0}}\r\n",
      "\"ensued\"\t{\"battle\": {\"length\": 2, \"sim\": 0.70710678118654746}, \"*ensued\": 1}\r\n",
      "\"established\"\t{\"*established\": 1, \"branch\": {\"length\": 1, \"sim\": 1.0}}\r\n",
      "\"farther\"\t{\"bit\": {\"length\": 1, \"sim\": 1.0}, \"*farther\": 1}\r\n",
      "\"fought\"\t{\"battle\": {\"length\": 2, \"sim\": 0.70710678118654746}, \"*fought\": 1}\r\n",
      "\"marrow\"\t{\"*marrow\": 2, \"aspiration\": {\"length\": 2, \"sim\": 0.70710678118654746}, \"bone\": {\"length\": 2, \"sim\": 0.70710678118654746}}\r\n",
      "\"midst\"\t{\"basin\": {\"length\": 1, \"sim\": 1.0}, \"*midst\": 1}\r\n",
      "\"necessity\"\t{\"belief\": {\"length\": 1, \"sim\": 1.0}, \"*necessity\": 1}\r\n",
      "\"projected\"\t{\"body\": {\"length\": 1, \"sim\": 1.0}, \"*projected\": 1}\r\n"
     ]
    }
   ],
   "source": [
    "# !chmod a+x src/createStripesJob.py\n",
    "# !./src/createStripesJob.py -r hadoop \\\n",
    "# data/mini-googlebooks-eng-all-5gram-20090715-0-filtered.txt \\\n",
    "# > output_stripes_3\n",
    "!cat output_stripes_3"
   ]
  },
  {
   "cell_type": "code",
   "execution_count": 65,
   "metadata": {
    "collapsed": false
   },
   "outputs": [
    {
     "name": "stdout",
     "output_type": "stream",
     "text": [
      "\"aspiration\"\t{\"*marrow\": 2, \"marrow\": 0.70710678118654746, \"*bone\": 2, \"bone\": 0.70710678118654746}\r\n",
      "\"basin\"\t{\"midst\": 1.0, \"*midst\": 1}\r\n",
      "\"battle\"\t{\"ensued\": 1.0, \"fought\": 1.0, \"*fought\": 1, \"*ensued\": 1}\r\n",
      "\"belief\"\t{\"necessity\": 1.0, \"*necessity\": 1}\r\n",
      "\"bit\"\t{\"*farther\": 1, \"farther\": 1.0}\r\n",
      "\"body\"\t{\"*projected\": 1, \"projected\": 1.0}\r\n",
      "\"bone\"\t{\"*marrow\": 2, \"marrow\": 0.70710678118654746, \"aspiration\": 0.70710678118654746, \"*aspiration\": 2}\r\n",
      "\"book\"\t{\"*designed\": 1, \"designed\": 1.0}\r\n",
      "\"branch\"\t{\"*established\": 1, \"established\": 1.0}\r\n",
      "\"designed\"\t{\"book\": 1.0, \"*book\": 1}\r\n",
      "\"ensued\"\t{\"battle\": 0.70710678118654746, \"*battle\": 2}\r\n",
      "\"established\"\t{\"*branch\": 1, \"branch\": 1.0}\r\n",
      "\"farther\"\t{\"bit\": 1.0, \"*bit\": 1}\r\n",
      "\"fought\"\t{\"battle\": 0.70710678118654746, \"*battle\": 2}\r\n",
      "\"marrow\"\t{\"*aspiration\": 2, \"aspiration\": 0.70710678118654746, \"*bone\": 2, \"bone\": 0.70710678118654746}\r\n",
      "\"midst\"\t{\"basin\": 1.0, \"*basin\": 1}\r\n",
      "\"necessity\"\t{\"*belief\": 1, \"belief\": 1.0}\r\n",
      "\"projected\"\t{\"body\": 1.0, \"*body\": 1}\r\n"
     ]
    }
   ],
   "source": [
    "# !chmod a+x src/createStripesJob.py\n",
    "# !./src/createStripesJob.py -r hadoop \\\n",
    "# data/mini-googlebooks-eng-all-5gram-20090715-0-filtered.txt \\\n",
    "# > output_stripes_2\n",
    "!cat output_stripes_2"
   ]
  },
  {
   "cell_type": "code",
   "execution_count": 62,
   "metadata": {
    "collapsed": false
   },
   "outputs": [
    {
     "name": "stdout",
     "output_type": "stream",
     "text": [
      "\"marrow\"\t{\"*aspiration\": 2, \"aspiration\": 0.70710678118654746}\r\n",
      "\"bone\"\t{\"*aspiration\": 2, \"aspiration\": 0.70710678118654746}\r\n",
      "\"midst\"\t{\"basin\": 1.0, \"*basin\": 1}\r\n",
      "\"fought\"\t{\"battle\": 0.70710678118654746, \"*battle\": 2}\r\n",
      "\"ensued\"\t{\"battle\": 0.70710678118654746, \"*battle\": 2}\r\n",
      "\"necessity\"\t{\"*belief\": 1, \"belief\": 1.0}\r\n",
      "\"farther\"\t{\"bit\": 1.0, \"*bit\": 1}\r\n",
      "\"projected\"\t{\"body\": 1.0, \"*body\": 1}\r\n",
      "\"marrow\"\t{\"*bone\": 2, \"bone\": 0.70710678118654746}\r\n",
      "\"aspiration\"\t{\"*bone\": 2, \"bone\": 0.70710678118654746}\r\n",
      "\"designed\"\t{\"book\": 1.0, \"*book\": 1}\r\n",
      "\"established\"\t{\"*branch\": 1, \"branch\": 1.0}\r\n",
      "\"book\"\t{\"*designed\": 1, \"designed\": 1.0}\r\n",
      "\"battle\"\t{\"*ensued\": 1, \"ensued\": 1.0}\r\n",
      "\"branch\"\t{\"*established\": 1, \"established\": 1.0}\r\n",
      "\"bit\"\t{\"*farther\": 1, \"farther\": 1.0}\r\n",
      "\"battle\"\t{\"fought\": 1.0, \"*fought\": 1}\r\n",
      "\"aspiration\"\t{\"*marrow\": 2, \"marrow\": 0.70710678118654746}\r\n",
      "\"bone\"\t{\"*marrow\": 2, \"marrow\": 0.70710678118654746}\r\n",
      "\"basin\"\t{\"midst\": 1.0, \"*midst\": 1}\r\n",
      "\"belief\"\t{\"necessity\": 1.0, \"*necessity\": 1}\r\n",
      "\"body\"\t{\"*projected\": 1, \"projected\": 1.0}\r\n"
     ]
    }
   ],
   "source": [
    "# !chmod a+x src/createStripesJob.py\n",
    "# !./src/createStripesJob.py -r hadoop \\\n",
    "# data/mini-googlebooks-eng-all-5gram-20090715-0-filtered.txt \\\n",
    "# > output_stripes_1\n",
    "!cat output_stripes_1"
   ]
  },
  {
   "cell_type": "code",
   "execution_count": 38,
   "metadata": {
    "collapsed": false
   },
   "outputs": [
    {
     "name": "stdout",
     "output_type": "stream",
     "text": [
      "\"aspiration\"\t{\"marrow\": 94, \"bone\": 94}\r\n",
      "\"basin\"\t{\"midst\": 205}\r\n",
      "\"battle\"\t{\"fought\": 82, \"ensued\": 95}\r\n",
      "\"belief\"\t{\"necessity\": 102}\r\n",
      "\"bit\"\t{\"farther\": 52}\r\n",
      "\"body\"\t{\"projected\": 187}\r\n",
      "\"bone\"\t{\"marrow\": 94, \"aspiration\": 94}\r\n",
      "\"book\"\t{\"designed\": 77}\r\n",
      "\"branch\"\t{\"established\": 63}\r\n",
      "\"designed\"\t{\"book\": 77}\r\n",
      "\"ensued\"\t{\"battle\": 95}\r\n",
      "\"established\"\t{\"branch\": 63}\r\n",
      "\"farther\"\t{\"bit\": 52}\r\n",
      "\"fought\"\t{\"battle\": 82}\r\n",
      "\"marrow\"\t{\"aspiration\": 94, \"bone\": 94}\r\n",
      "\"midst\"\t{\"basin\": 205}\r\n",
      "\"necessity\"\t{\"belief\": 102}\r\n",
      "\"projected\"\t{\"body\": 187}\r\n"
     ]
    }
   ],
   "source": [
    "# !chmod a+x src/createStripesJob.py\n",
    "# !./src/createStripesJob.py -r hadoop \\\n",
    "# data/mini-googlebooks-eng-all-5gram-20090715-0-filtered.txt \\\n",
    "# > output_stripes\n",
    "!cat output_stripes"
   ]
  },
  {
   "cell_type": "code",
   "execution_count": 114,
   "metadata": {
    "collapsed": false
   },
   "outputs": [
    {
     "name": "stdout",
     "output_type": "stream",
     "text": [
      "basin {'midst': 205}\n",
      "midst {'basin': 205}\n",
      "battle {'ensued': 95}\n",
      "ensued {'battle': 95}\n",
      "battle {'fought': 82}\n",
      "fought {'battle': 82}\n",
      "belief {'necessity': 102}\n",
      "necessity {'belief': 102}\n",
      "bit {'farther': 52}\n",
      "farther {'bit': 52}\n",
      "body {'projected': 187}\n",
      "projected {'body': 187}\n",
      "bone {'marrow': 94, 'aspiration': 94}\n",
      "marrow {'aspiration': 94, 'bone': 94}\n",
      "aspiration {'marrow': 94, 'bone': 94}\n",
      "book {'designed': 77}\n",
      "designed {'book': 77}\n",
      "branch {'established': 63}\n",
      "established {'branch': 63}\n"
     ]
    }
   ],
   "source": [
    "# !head data/top10000words.txt\n",
    "import sys\n",
    "import os\n",
    "import ast\n",
    "from math import *\n",
    "\n",
    "\n",
    "stopwords = set()\n",
    "top10000words = set()\n",
    "vocabulary = set()\n",
    "    \n",
    "\n",
    "with open('data/stopwords.txt', 'r') as f:\n",
    "    for line in f:\n",
    "        line = line.strip()\n",
    "        stopwords.add(line)\n",
    "\n",
    "with open('data/top10000words.txt', 'r') as f:\n",
    "    for line in f:\n",
    "        line = line.strip()\n",
    "        line = line.split(\"\\t\")\n",
    "        word = line[0].strip('\"')\n",
    "        top10000words.add(word)\n",
    "\n",
    "with open('data/ranked9001-10000words.txt','r') as f:\n",
    "    for line in f:\n",
    "        line = line.strip()\n",
    "        line = line.split(\"\\t\")\n",
    "        word = line[0].strip('\"')\n",
    "        vocabulary.add(word)\n",
    "\n",
    "# print vocabulary\n",
    "\n",
    "with open('data/mini-googlebooks-eng-all-5gram-20090715-0-filtered.txt','r') as f:\n",
    "    for line in f:\n",
    "        line = line.strip()\n",
    "        line = line.split(\"\\t\")\n",
    "        fiveGram = line[0]\n",
    "        count = int(line[1])\n",
    "        unigrams = fiveGram.split()\n",
    "        for token1 in unigrams:\n",
    "            if token1 in top10000words and token1 not in stopwords:\n",
    "                stripe = {}\n",
    "                for token2 in unigrams:\n",
    "                    if token1 != token2 and token2 in vocabulary and token2 not in stopwords:\n",
    "                        stripe[token2] = count\n",
    "                if stripe:\n",
    "                    print token1, stripe"
   ]
  },
  {
   "cell_type": "code",
   "execution_count": 37,
   "metadata": {
    "collapsed": false
   },
   "outputs": [],
   "source": [
    "## code to retrieve stopword set\n",
    "\n",
    "if __name__ == \"__main__\":\n",
    "    with open('data/stopwords.txt', 'r') as f:\n",
    "        stopwords = set()\n",
    "        for line in f:\n",
    "            line = line.strip()\n",
    "            stopwords.add(line)\n",
    "    ## testing stopword set       \n",
    "    if 'lemonade' in stopwords:\n",
    "        print stopwords"
   ]
  },
  {
   "cell_type": "code",
   "execution_count": 38,
   "metadata": {
    "collapsed": false
   },
   "outputs": [
    {
     "name": "stdout",
     "output_type": "stream",
     "text": [
      "A\t{X:20, Y:30, Z:5}\r\n",
      "B\t{X:100, Y:20}\r\n",
      "C\t{M:5, N:20, Z:5,Y:1}\r\n"
     ]
    }
   ],
   "source": [
    "# !chmod a+x src/temp.py\n",
    "#!chmod a+x data/systems_test_HW54.txt\n",
    "# !./src/temp.py\n",
    "!cat data/systems_test_HW54.txt\n",
    "#!rm src/temp.py"
   ]
  },
  {
   "cell_type": "code",
   "execution_count": 55,
   "metadata": {
    "collapsed": false
   },
   "outputs": [
    {
     "name": "stdout",
     "output_type": "stream",
     "text": [
      "Overwriting src/StripesProcessJob.py\n"
     ]
    }
   ],
   "source": [
    "%%writefile src/StripesProcessJob.py\n",
    "#!/usr/bin/env python\n",
    "\n",
    "from mrjob.job import MRJob\n",
    "from mrjob.step import MRStep\n",
    "import mrjob\n",
    "import sys\n",
    "import os\n",
    "import ast\n",
    "from math import *\n",
    "\n",
    "class StripesProcessJob(MRJob):\n",
    "    \n",
    "    def step(self):\n",
    "        return [\n",
    "            MRStep(mapper=self.mapper#,\n",
    "#                    reducer=self.reducer\n",
    "            )\n",
    "               ]\n",
    "    \n",
    "    def mapper(self, _, line):\n",
    "        line = line.split(\"\\t\")\n",
    "        doc = line[0]\n",
    "        stripe = line[1]\n",
    "        stripe = stripe\n",
    "        stripe = ast.literal_eval(stripe)\n",
    "        length = len(stripe)\n",
    "        norm_length = sqrt(length)\n",
    "        for key in stripe.keys():\n",
    "            stripe[key] = 1\n",
    "            stripe[key] = float(stripe[key]) / float(norm_length)\n",
    "            yield key, {doc, stripe[key]}\n",
    "        \n",
    "if __name__ == \"__main__\":\n",
    "    StripesProcessJob().run()"
   ]
  },
  {
   "cell_type": "code",
   "execution_count": 72,
   "metadata": {
    "collapsed": false
   },
   "outputs": [
    {
     "name": "stdout",
     "output_type": "stream",
     "text": [
      "Y\t{'A': 0.5773502691896258, 'C': 0.5, 'B': 0.7071067811865475, '*Y': 3}\n",
      "\n",
      "X\t{'A': 0.5773502691896258, 'B': 0.7071067811865475, '*X': 2}\n",
      "\n",
      "Z\t{'A': 0.5773502691896258, 'C': 0.5, '*Z': 2}\n",
      "\n",
      "M\t{'*M': 1, 'C': 0.5}\n",
      "\n",
      "N\t{'C': 0.5, '*N': 1}\n",
      "\n"
     ]
    }
   ],
   "source": [
    "import ast\n",
    "from math import *\n",
    "\n",
    "inverted_index = {}\n",
    "\n",
    "with open(\"data/systems_test_HW54.txt\",\"r\") as f:\n",
    "    for line in f:\n",
    "        line = line.split(\"\\t\")\n",
    "        doc = line[0]\n",
    "        stripe = line[1]\n",
    "        stripe = stripe\n",
    "        stripe = ast.literal_eval(stripe)\n",
    "        length = len(stripe)\n",
    "        norm_length = sqrt(length)\n",
    "        for key in stripe.keys():\n",
    "            stripe[key] = 1\n",
    "            stripe[key] = float(stripe[key]) / float(norm_length)\n",
    "            if key not in inverted_index.keys():\n",
    "                inverted_index[key] = {doc:stripe[key]}\n",
    "            else:\n",
    "                inverted_index[key][doc] = stripe[key]\n",
    "    for key, value in inverted_index.iteritems():\n",
    "        value[\"*\"+key] = len(value)\n",
    "        print (\"\\t\".join([key, str(value)]) + \"\\n\")"
   ]
  },
  {
   "cell_type": "code",
   "execution_count": null,
   "metadata": {
    "collapsed": true
   },
   "outputs": [],
   "source": [
    "## AT this point, we receive as inputs these key, stripe pairs\n",
    "## where the stripes contain the normalized distance(??) between\n",
    "## the key and the stripe keys... EXCEPT for key *tocken that holds\n",
    "## the cardinality of tocken"
   ]
  },
  {
   "cell_type": "code",
   "execution_count": 57,
   "metadata": {
    "collapsed": false
   },
   "outputs": [
    {
     "name": "stdout",
     "output_type": "stream",
     "text": [
      "No configs found; falling back on auto-configuration\n",
      "Creating temp directory /tmp/StripesProcessJob.cloudera.20160616.163349.778189\n",
      "Running step 1 of 1...\n",
      "Traceback (most recent call last):\n",
      "  File \"StripesProcessJob.py\", line 34, in <module>\n",
      "    StripesProcessJob().run()\n",
      "  File \"/tmp/StripesProcessJob.cloudera.20160616.163349.778189/job_local_dir/0/mapper/0/mrjob.tar.gz/mrjob/job.py\", line 430, in run\n",
      "    mr_job.execute()\n",
      "  File \"/tmp/StripesProcessJob.cloudera.20160616.163349.778189/job_local_dir/0/mapper/0/mrjob.tar.gz/mrjob/job.py\", line 439, in execute\n",
      "    self.run_mapper(self.options.step_num)\n",
      "  File \"/tmp/StripesProcessJob.cloudera.20160616.163349.778189/job_local_dir/0/mapper/0/mrjob.tar.gz/mrjob/job.py\", line 505, in run_mapper\n",
      "    write_line(out_key, out_value)\n",
      "  File \"/tmp/StripesProcessJob.cloudera.20160616.163349.778189/job_local_dir/0/mapper/0/mrjob.tar.gz/mrjob/job.py\", line 685, in write_line\n",
      "    self.stdout.write(write(key, value))\n",
      "  File \"/tmp/StripesProcessJob.cloudera.20160616.163349.778189/job_local_dir/0/mapper/0/mrjob.tar.gz/mrjob/protocol.py\", line 99, in write\n",
      "    return self._dumps(key) + b'\\t' + self._dumps(value)\n",
      "  File \"/tmp/StripesProcessJob.cloudera.20160616.163349.778189/job_local_dir/0/mapper/0/mrjob.tar.gz/mrjob/protocol.py\", line 162, in _dumps\n",
      "    return simplejson.dumps(value)\n",
      "  File \"/home/cloudera/anaconda2/lib/python2.7/site-packages/simplejson/__init__.py\", line 380, in dumps\n",
      "    return _default_encoder.encode(obj)\n",
      "  File \"/home/cloudera/anaconda2/lib/python2.7/site-packages/simplejson/encoder.py\", line 275, in encode\n",
      "    chunks = self.iterencode(o, _one_shot=True)\n",
      "  File \"/home/cloudera/anaconda2/lib/python2.7/site-packages/simplejson/encoder.py\", line 357, in iterencode\n",
      "    return _iterencode(o, 0)\n",
      "  File \"/home/cloudera/anaconda2/lib/python2.7/site-packages/simplejson/encoder.py\", line 252, in default\n",
      "    raise TypeError(repr(o) + \" is not JSON serializable\")\n",
      "TypeError: set(['A', 0.5773502691896258]) is not JSON serializable\n",
      "Step 1 of 1 failed: Command '['sh', '-ex', 'setup-wrapper.sh', '/home/cloudera/anaconda2/bin/python', 'StripesProcessJob.py', '--step-num=0', '--mapper', '/tmp/StripesProcessJob.cloudera.20160616.163349.778189/input_part-00000']' returned non-zero exit status 1\n"
     ]
    }
   ],
   "source": [
    "!chmod a+x src/StripesProcessJob.py\n",
    "!./src/StripesProcessJob.py -r local \\\n",
    "data/systems_test_HW54.txt"
   ]
  },
  {
   "cell_type": "markdown",
   "metadata": {},
   "source": [
    "## HW 5.5 Evaluation of synonyms that your discovered\n",
    "In this part of the assignment you will evaluate the success of you synonym detector (developed in response to HW5.4).\n",
    "Take the top 1,000 closest/most similar/correlative pairs of words as determined by your measure in HW5.4, and use the synonyms function in the accompanying python code:\n",
    "\n",
    "nltk_synonyms.py\n",
    "\n",
    "Note: This will require installing the python nltk package:\n",
    "\n",
    "http://www.nltk.org/install.html\n",
    "\n",
    "and downloading its data with nltk.download().\n",
    "\n",
    "For each (word1,word2) pair, check to see if word1 is in the list, \n",
    "synonyms(word2), and vice-versa. If one of the two is a synonym of the other, \n",
    "then consider this pair a 'hit', and then report the precision, recall, and F1 measure  of \n",
    "your detector across your 1,000 best guesses. Report the macro averages of these measures."
   ]
  },
  {
   "cell_type": "markdown",
   "metadata": {},
   "source": [
    "## HW5.6 (Optional)\n",
    "\n",
    "Repeat HW5 using vocabulary words ranked from 8001,-10,000;  7001,-10,000; 6001,-10,000; 5001,-10,000; 3001,-10,000; and 1001,-10,000;\n",
    "Dont forget to report you Cluster configuration.\n",
    "\n",
    "Generate the following graphs:\n",
    "-- vocabulary size (X-Axis) versus CPU time for indexing\n",
    "-- vocabulary size (X-Axis) versus number of pairs processed\n",
    "-- vocabulary size (X-Axis) versus F1 measure, Precision, Recall"
   ]
  },
  {
   "cell_type": "markdown",
   "metadata": {},
   "source": [
    "## HW 5.7 (Optional)\n",
    "There is also a corpus of stopwords, that is, high-frequency words like \"the\", \"to\" and \"also\" that we sometimes want to filter out of a document before further processing. Stopwords usually have little lexical content, and their presence in a text fails to distinguish it from other texts. Python's nltk comes with a prebuilt list of stopwords (see below). Using this stopword list filter out these tokens from your analysis and rerun the experiments in 5.5 and disucuss the results of using a stopword list and without using a stopword list.\n",
    "\n",
    "> from nltk.corpus import stopwords\n",
    ">> stopwords.words('english')\n",
    "['i', 'me', 'my', 'myself', 'we', 'our', 'ours', 'ourselves', 'you', 'your', 'yours',\n",
    "'yourself', 'yourselves', 'he', 'him', 'his', 'himself', 'she', 'her', 'hers',\n",
    "'herself', 'it', 'its', 'itself', 'they', 'them', 'their', 'theirs', 'themselves',\n",
    "'what', 'which', 'who', 'whom', 'this', 'that', 'these', 'those', 'am', 'is', 'are',\n",
    "'was', 'were', 'be', 'been', 'being', 'have', 'has', 'had', 'having', 'do', 'does',\n",
    "'did', 'doing', 'a', 'an', 'the', 'and', 'but', 'if', 'or', 'because', 'as', 'until',\n",
    "'while', 'of', 'at', 'by', 'for', 'with', 'about', 'against', 'between', 'into',\n",
    "'through', 'during', 'before', 'after', 'above', 'below', 'to', 'from', 'up', 'down',\n",
    "'in', 'out', 'on', 'off', 'over', 'under', 'again', 'further', 'then', 'once', 'here',\n",
    "'there', 'when', 'where', 'why', 'how', 'all', 'any', 'both', 'each', 'few', 'more',\n",
    "'most', 'other', 'some', 'such', 'no', 'nor', 'not', 'only', 'own', 'same', 'so',\n",
    "'than', 'too', 'very', 's', 't', 'can', 'will', 'just', 'don', 'should', 'now']\n",
    "\n"
   ]
  },
  {
   "cell_type": "markdown",
   "metadata": {},
   "source": [
    "test"
   ]
  },
  {
   "cell_type": "markdown",
   "metadata": {},
   "source": [
    "## HW 5.6 (Optional)\n",
    "There are many good ways to build our synonym detectors, so for optional homework, \n",
    "measure co-occurrence by (left/right/all) consecutive words only, \n",
    "or make stripes according to word co-occurrences with the accompanying \n",
    "2-, 3-, or 4-grams (note here that your output will no longer \n",
    "be interpretable as a network) inside of the 5-grams."
   ]
  },
  {
   "cell_type": "markdown",
   "metadata": {},
   "source": [
    "## Hw 5.7 (Optional)\n",
    "Once again, benchmark your top 10,000 associations (as in 5.5), this time for your\n",
    "results from 5.6. Has your detector improved?"
   ]
  },
  {
   "cell_type": "code",
   "execution_count": null,
   "metadata": {
    "collapsed": true
   },
   "outputs": [],
   "source": []
  }
 ],
 "metadata": {
  "kernelspec": {
   "display_name": "Python 2",
   "language": "python",
   "name": "python2"
  },
  "language_info": {
   "codemirror_mode": {
    "name": "ipython",
    "version": 2
   },
   "file_extension": ".py",
   "mimetype": "text/x-python",
   "name": "python",
   "nbconvert_exporter": "python",
   "pygments_lexer": "ipython2",
   "version": "2.7.11"
  }
 },
 "nbformat": 4,
 "nbformat_minor": 0
}
