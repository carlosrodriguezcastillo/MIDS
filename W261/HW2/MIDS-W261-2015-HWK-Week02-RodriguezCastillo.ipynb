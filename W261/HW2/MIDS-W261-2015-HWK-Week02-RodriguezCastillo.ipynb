{
 "cells": [
  {
   "cell_type": "markdown",
   "metadata": {},
   "source": [
    "# DATASCI W261: Machine Learning at Scale "
   ]
  },
  {
   "cell_type": "markdown",
   "metadata": {},
   "source": [
    "**Name: Carlos Eduardo Rodriguez Castillo**\n",
    "\n",
    "**email: cerodriguez@berkeley.edu**\n",
    "\n",
    "**Week 2**\n",
    "\n",
    "**Section 2**\n"
   ]
  },
  {
   "cell_type": "markdown",
   "metadata": {},
   "source": [
    "### This notebook attempts to solve the questions in the week 2 assignment."
   ]
  },
  {
   "cell_type": "markdown",
   "metadata": {},
   "source": [
    "#### HW2.0"
   ]
  },
  {
   "cell_type": "markdown",
   "metadata": {},
   "source": [
    "What is a race condition in the context of parallel computation? Give an example."
   ]
  },
  {
   "cell_type": "markdown",
   "metadata": {},
   "source": [
    "__ANSWER:__\n",
    "\n",
    "In the context of parallel computation, a race condition is the situation where a program's execution has non-deterministic results. This non-determinism is a function of the program attempting to do operations that, to output the appropriate values, need to execute in a particular order but, due to limitations of the underlying device or the nature of how the software was written, this necessary order cannot be guaranteed.\n",
    "\n",
    "An example of a race condition in the context of parallel computation is when two threads are each incrementing a counter by one. They each need to independently read in the value for the counter, increment the value, and then write it back to the counter variable. If each of the threads proceeds sequentially (one thread does all incrment operations first and then the second thread proceeds), the expected value (two plus counter) for the counter would be the final value. That said, if the counter variable is read sequentially by the threads and then incremented and written to, the final value for the counter will be an erroneous/unexpected value (one plus counter)."
   ]
  },
  {
   "cell_type": "markdown",
   "metadata": {},
   "source": [
    "What is MapReduce?"
   ]
  },
  {
   "cell_type": "markdown",
   "metadata": {},
   "source": [
    "__ANSWER:__\n",
    "\n",
    "MapReduce is a programming model for executing operations on large datasets through two main operations, in a distributed fashion that permits the programmer to abstract away from most of the intricacies of managing distributed/parallel computation. The MapReduce model has two phases to computation: the __map__ phase where the same operation is applied in parallel to all input records in a dataset, producing intermediate outputs that are then inputs to the second phase, __reduce__, which aggregates these inputs. Both __map__ and __reduce__ each take as inputs a set of inputs and a user defined function respectively.\n",
    "\n",
    "MapReduce is also the name of the Hadoop-specific implementation of this programming model."
   ]
  },
  {
   "cell_type": "markdown",
   "metadata": {},
   "source": [
    "How does it differ from Hadoop?"
   ]
  },
  {
   "cell_type": "markdown",
   "metadata": {},
   "source": [
    "__ANSWER:__\n",
    "\n",
    "MapReduce differs from Hadoop in that Hadoop is a framework that fascilitates the MapReduce programming model, but it additionally encompasses a file structure, called HDFS (Hadoop Distributed File System), to support the MapReduce model."
   ]
  },
  {
   "cell_type": "markdown",
   "metadata": {},
   "source": [
    "Which programming paradigm is Hadoop based on? Explain and give a simple example in code and show the code running."
   ]
  },
  {
   "cell_type": "markdown",
   "metadata": {},
   "source": [
    "__ANSWER:__\n",
    "\n",
    "Hadoop is based on the functional programming paradigm (as opposed to the object-oriented programming paradigm). The functional programming paradigm is one that primarily treats computation as the evaluation of functions given inputs; as such functions, instead of objects, are the fundamental building blocks of programs. Functional programming avoids changing states and prefers to operate on immutable data.\n",
    "\n",
    "Mathematical functions tend to be great examples of implementations of functional programming; see below for a toy functional programming implementation of computing the average number of tokens in a set of documents:"
   ]
  },
  {
   "cell_type": "code",
   "execution_count": 92,
   "metadata": {
    "collapsed": false
   },
   "outputs": [
    {
     "name": "stdout",
     "output_type": "stream",
     "text": [
      "The average characters per document is: 10.00\n"
     ]
    }
   ],
   "source": [
    "## mapper function\n",
    "def mini_map(record):\n",
    "    counter = 0\n",
    "    for char in record:\n",
    "        counter = counter + 1\n",
    "    return counter\n",
    "## reducer function\n",
    "## we assume that there is a single key\n",
    "## and reducer in this example\n",
    "def mini_reduce(counters):\n",
    "    num_records = 0\n",
    "    final_counter  = 0\n",
    "    for counter in counters:\n",
    "        num_records = num_records + 1\n",
    "        final_counter = final_counter + int(counter)\n",
    "    average = float(final_counter) / float(num_records)\n",
    "    return average\n",
    "\n",
    "## run the MapReduce toy example\n",
    "strings = [\"str1\", \"string2\", \"w261\", \"MAchine learning at SCALE\"]\n",
    "intermediate_results = []\n",
    "for string in strings:\n",
    "    intermediate_results.extend([mini_map(string)])\n",
    "result = mini_reduce(intermediate_results)\n",
    "print \"The average characters per document is: %.2f\" % result"
   ]
  },
  {
   "cell_type": "markdown",
   "metadata": {},
   "source": [
    "#### HW2.1. Sort in Hadoop MapReduce"
   ]
  },
  {
   "cell_type": "markdown",
   "metadata": {
    "collapsed": false
   },
   "source": [
    "Given as input: Records of the form 'integer, “NA”', where integer is any integer, and “NA” is just the empty string.\n",
    "Output: sorted key value pairs of the form 'integer, “NA”' in decreasing order using a single reducer. What happens if you have multiple reducers? Do you need additional steps? Explain. Feel free to code this up (This is an optional task)."
   ]
  },
  {
   "cell_type": "markdown",
   "metadata": {
    "collapsed": true
   },
   "source": [
    "__ANSWER:__\n",
    "\n",
    "In the case where you have a single reducer, since the MapReduce framework sorts by key during the shuffle (passing data from mappers to reducer) the single output file from the reducer will have all records sorted as expected.\n",
    "\n",
    "In the case where you have multiple reducers, each of the reducers will have sorted records passed to it, but additional processing of the outputs from each of the reducers is required to concatenate the output files in a way that ensures that each of the ordered outputs is presented in a holistic result that it itself is ordered.\n",
    "\n",
    "Punctually, this translates to looping through each of the reducer's results, inspecting the first element and sorting the results based on the first element of each (this works because each of the files is itself sorted based on a holistic sorting that happened during the shuffle)."
   ]
  },
  {
   "cell_type": "markdown",
   "metadata": {},
   "source": [
    "Write code to generate N  random records of the form <integer, “NA”>. Let N = 10,000."
   ]
  },
  {
   "cell_type": "code",
   "execution_count": 17,
   "metadata": {
    "collapsed": false
   },
   "outputs": [
    {
     "name": "stdout",
     "output_type": "stream",
     "text": [
      "Writing randomNumberGenerator.py\n"
     ]
    }
   ],
   "source": [
    "%%writefile randomNumberGenerator.py\n",
    "#!/usr/bin/python\n",
    "\"\"\"\n",
    "Code for mapper.py for W261 HW2.1\n",
    "\"\"\"\n",
    "__author__ = \"Carlos Eduardo Rodriguez Castillo\"\n",
    "__email__ = \"cerodriguez@berkeley.edu\"\n",
    "\n",
    "import random as rd\n",
    "import sys\n",
    "\n",
    "N = int(sys.argv[1])\n",
    "\n",
    "s = list(range(N))\n",
    "\n",
    "rd.shuffle(s)\n",
    "\n",
    "for record in s: print \"%d\\tNA\" % record"
   ]
  },
  {
   "cell_type": "code",
   "execution_count": 18,
   "metadata": {
    "collapsed": true
   },
   "outputs": [],
   "source": [
    "!chmod a+x randomNumberGenerator.py"
   ]
  },
  {
   "cell_type": "code",
   "execution_count": 19,
   "metadata": {
    "collapsed": true
   },
   "outputs": [],
   "source": [
    "!./randomNumberGenerator.py 10000 > randomIndexPairs.txt"
   ]
  },
  {
   "cell_type": "markdown",
   "metadata": {},
   "source": [
    "Write the python Hadoop streaming map-reduce job to perform this sort. Display the top 10 biggest numbers. Display the 10 smallest numbers\n",
    "\n",
    "__ANSWER:__\n",
    "\n",
    "See the 10 biggest numbers and the 10 smallest numbers output below (at the end of this exercise) using the _head_ and _tail_ commands for the largest and smallest numbers prespectively on the output of the MapReduce job."
   ]
  },
  {
   "cell_type": "code",
   "execution_count": null,
   "metadata": {
    "collapsed": true
   },
   "outputs": [],
   "source": [
    "%%writefile mapperHW2_1.py\n",
    "#!/usr/bin/python\n",
    "\"\"\"\n",
    "Code for mapper.py for W261 HW2.1\n",
    "\"\"\"\n",
    "__author__ = \"Carlos Eduardo Rodriguez Castillo\"\n",
    "__email__ = \"cerodriguez@berkeley.edu\"\n",
    "\n",
    "import sys\n",
    "\n",
    "for line in sys.stdin:\n",
    "    print \"%s\" % (line.strip())"
   ]
  },
  {
   "cell_type": "code",
   "execution_count": null,
   "metadata": {
    "collapsed": true
   },
   "outputs": [],
   "source": [
    "!chmod a+x mapperHW2_1.py"
   ]
  },
  {
   "cell_type": "code",
   "execution_count": null,
   "metadata": {
    "collapsed": true
   },
   "outputs": [],
   "source": [
    "%%writefile reducerHW2_1.py\n",
    "#!/usr/bin/python\n",
    "\"\"\"\n",
    "Code for reducer.py for W261 HW2.1\n",
    "\"\"\"\n",
    "__author__ = \"Carlos Eduardo Rodriguez Castillo\"\n",
    "__email__ = \"cerodriguez@berkeley.edu\"\n",
    "\n",
    "import sys\n",
    "\n",
    "for line in sys.stdin:\n",
    "    print \"%s\" % (line.strip())"
   ]
  },
  {
   "cell_type": "code",
   "execution_count": null,
   "metadata": {
    "collapsed": true
   },
   "outputs": [],
   "source": [
    "!chmod a+x reducerHW2_1.py"
   ]
  },
  {
   "cell_type": "code",
   "execution_count": null,
   "metadata": {
    "collapsed": true
   },
   "outputs": [],
   "source": [
    "!hadoop jar /usr/lib/hadoop-0.20-mapreduce/contrib/streaming/hadoop-streaming-mr1.jar \\\n",
    "-D mapred.output.key.comparator.class=org.apache.hadoop.mapred.lib.KeyFieldBasedComparator \\\n",
    "-D  mapred.text.key.comparator.options=-nr -file /home/cloudera/w261/HW2/mapperhw2_1.py  \\\n",
    "-mapper /home/cloudera/w261/HW2/mapperhw2_1.py -file /home/cloudera/w261/reducer.py \\\n",
    "-reducer /home/cloudera/w261/HW2/reducerhw2_1.py -input /user/cloudera/w261/hw2/2_1/* \\\n",
    "-output /user/cloudera/w261/w261-output-2_1"
   ]
  },
  {
   "cell_type": "raw",
   "metadata": {},
   "source": [
    "16/05/29 07:30:27 WARN streaming.StreamJob: -file option is deprecated, please use generic option -files instead.\n",
    "packageJobJar: [/home/cloudera/w261/HW2/mapperhw2_1.py, /home/cloudera/w261/reducer.py] [/usr/jars/hadoop-streaming-2.6.0-cdh5.7.0.jar] /tmp/streamjob8177887018552420824.jar tmpDir=null\n",
    "16/05/29 07:30:29 INFO client.RMProxy: Connecting to ResourceManager at quickstart.cloudera/10.0.2.15:8032\n",
    "16/05/29 07:30:29 INFO client.RMProxy: Connecting to ResourceManager at quickstart.cloudera/10.0.2.15:8032\n",
    "16/05/29 07:30:30 INFO mapred.FileInputFormat: Total input paths to process : 1\n",
    "16/05/29 07:30:30 INFO mapreduce.JobSubmitter: number of splits:2\n",
    "16/05/29 07:30:30 INFO Configuration.deprecation: mapred.output.key.comparator.class is deprecated. Instead, use mapreduce.job.output.key.comparator.class\n",
    "16/05/29 07:30:30 INFO Configuration.deprecation: mapred.text.key.comparator.options is deprecated. Instead, use mapreduce.partition.keycomparator.options\n",
    "16/05/29 07:30:30 INFO mapreduce.JobSubmitter: Submitting tokens for job: job_1464465911163_0022\n",
    "16/05/29 07:30:31 INFO impl.YarnClientImpl: Submitted application application_1464465911163_0022\n",
    "16/05/29 07:30:31 INFO mapreduce.Job: The url to track the job: http://quickstart.cloudera:8088/proxy/application_1464465911163_0022/\n",
    "16/05/29 07:30:31 INFO mapreduce.Job: Running job: job_1464465911163_0022\n",
    "16/05/29 07:30:39 INFO mapreduce.Job: Job job_1464465911163_0022 running in uber mode : false\n",
    "16/05/29 07:30:39 INFO mapreduce.Job:  map 0% reduce 0%\n",
    "16/05/29 07:30:53 INFO mapreduce.Job:  map 100% reduce 0%\n",
    "16/05/29 07:31:02 INFO mapreduce.Job:  map 100% reduce 100%\n",
    "16/05/29 07:31:02 INFO mapreduce.Job: Job job_1464465911163_0022 completed successfully\n",
    "16/05/29 07:31:02 INFO mapreduce.Job: Counters: 49\n",
    "\tFile System Counters\n",
    "\t\tFILE: Number of bytes read=42998\n",
    "\t\tFILE: Number of bytes written=450838\n",
    "\t\tFILE: Number of read operations=0\n",
    "\t\tFILE: Number of large read operations=0\n",
    "\t\tFILE: Number of write operations=0\n",
    "\t\tHDFS: Number of bytes read=105243\n",
    "\t\tHDFS: Number of bytes written=78890\n",
    "\t\tHDFS: Number of read operations=9\n",
    "\t\tHDFS: Number of large read operations=0\n",
    "\t\tHDFS: Number of write operations=2\n",
    "\tJob Counters \n",
    "\t\tLaunched map tasks=2\n",
    "\t\tLaunched reduce tasks=1\n",
    "\t\tData-local map tasks=2\n",
    "\t\tTotal time spent by all maps in occupied slots (ms)=3037056\n",
    "\t\tTotal time spent by all reduces in occupied slots (ms)=839808\n",
    "\t\tTotal time spent by all map tasks (ms)=23727\n",
    "\t\tTotal time spent by all reduce tasks (ms)=6561\n",
    "\t\tTotal vcore-seconds taken by all map tasks=23727\n",
    "\t\tTotal vcore-seconds taken by all reduce tasks=6561\n",
    "\t\tTotal megabyte-seconds taken by all map tasks=3037056\n",
    "\t\tTotal megabyte-seconds taken by all reduce tasks=839808\n",
    "\tMap-Reduce Framework\n",
    "\t\tMap input records=10000\n",
    "\t\tMap output records=10000\n",
    "\t\tMap output bytes=78890\n",
    "\t\tMap output materialized bytes=45015\n",
    "\t\tInput split bytes=262\n",
    "\t\tCombine input records=0\n",
    "\t\tCombine output records=0\n",
    "\t\tReduce input groups=10000\n",
    "\t\tReduce shuffle bytes=45015\n",
    "\t\tReduce input records=10000\n",
    "\t\tReduce output records=10000\n",
    "\t\tSpilled Records=20000\n",
    "\t\tShuffled Maps =2\n",
    "\t\tFailed Shuffles=0\n",
    "\t\tMerged Map outputs=2\n",
    "\t\tGC time elapsed (ms)=129\n",
    "\t\tCPU time spent (ms)=3460\n",
    "\t\tPhysical memory (bytes) snapshot=390086656\n",
    "\t\tVirtual memory (bytes) snapshot=2098704384\n",
    "\t\tTotal committed heap usage (bytes)=152174592\n",
    "\tShuffle Errors\n",
    "\t\tBAD_ID=0\n",
    "\t\tCONNECTION=0\n",
    "\t\tIO_ERROR=0\n",
    "\t\tWRONG_LENGTH=0\n",
    "\t\tWRONG_MAP=0\n",
    "\t\tWRONG_REDUCE=0\n",
    "\tFile Input Format Counters \n",
    "\t\tBytes Read=104981\n",
    "\tFile Output Format Counters \n",
    "\t\tBytes Written=78890\n",
    "16/05/29 07:31:02 INFO streaming.StreamJob: Output directory: /user/cloudera/w261/w261-output-2_1"
   ]
  },
  {
   "cell_type": "code",
   "execution_count": null,
   "metadata": {
    "collapsed": true
   },
   "outputs": [],
   "source": [
    "!hdfs dfs -cat /user/cloudera/w261/w261-output-2_1/part-00000 | head -n 10"
   ]
  },
  {
   "cell_type": "raw",
   "metadata": {},
   "source": [
    "9999\tNA\n",
    "9998\tNA\n",
    "9997\tNA\n",
    "9996\tNA\n",
    "9995\tNA\n",
    "9994\tNA\n",
    "9993\tNA\n",
    "9992\tNA\n",
    "9991\tNA\n",
    "9990\tNA"
   ]
  },
  {
   "cell_type": "code",
   "execution_count": null,
   "metadata": {
    "collapsed": true
   },
   "outputs": [],
   "source": [
    "!hdfs dfs -cat /user/cloudera/w261/w261-output-2_1/part-00000 | head -n 10"
   ]
  },
  {
   "cell_type": "raw",
   "metadata": {},
   "source": [
    "9\tNA\n",
    "8\tNA\n",
    "7\tNA\n",
    "6\tNA\n",
    "5\tNA\n",
    "4\tNA\n",
    "3\tNA\n",
    "2\tNA\n",
    "1\tNA\n",
    "0\tNA"
   ]
  },
  {
   "cell_type": "markdown",
   "metadata": {},
   "source": [
    "#### HW2.2 Word Count"
   ]
  },
  {
   "cell_type": "markdown",
   "metadata": {},
   "source": [
    "Using the Enron data from HW1 and Hadoop MapReduce streaming, write the mapper/reducer job that  will determine the word count (number of occurrences) of each white-space delimitted token (assume spaces, fullstops, comma as delimiters). Examine the word “assistance” and report its word count results.\n",
    "\n",
    "__ANSWER:__\n",
    "\n",
    "Using the _grep_ command on the result from the MapReduce job, I found that the word \"assistance\" appears ten times."
   ]
  },
  {
   "cell_type": "code",
   "execution_count": 36,
   "metadata": {
    "collapsed": false
   },
   "outputs": [
    {
     "name": "stdout",
     "output_type": "stream",
     "text": [
      "Writing mapperHW2_2.py\n"
     ]
    }
   ],
   "source": [
    "%%writefile mapperhw2_2.py\n",
    "#!/usr/bin/python\n",
    "\"\"\"\n",
    "Code for mapper.py for W261 HW2.2\n",
    "\"\"\"\n",
    "__author__ = \"Carlos Eduardo Rodriguez Castillo\"\n",
    "__email__ = \"cerodriguez@berkeley.edu\"\n",
    "\n",
    "import sys\n",
    "import re\n",
    "\n",
    "## Create a dictionary to hold and aggregate intermediate results\n",
    "## in mapper (in-memory combiner in mapper)\n",
    "intermediate_map = {}\n",
    "\n",
    "for line in sys.stdin:\n",
    "    line = line.strip()\n",
    "    ## Parse lines for spaces, commas (followed by spaces),\n",
    "    ## periods (followed by spaces) and commas\n",
    "    words = filter(None,\n",
    "                 re.split(\"\\s+|[.]\\s+|[,]\\s+|[,]\",\n",
    "                          line))\n",
    "    ## Locally aggregate counts\n",
    "    for word in words:\n",
    "        if word in intermediate_map.keys():\n",
    "            intermediate_map[word] = intermediate_map[word] + 1\n",
    "        else:\n",
    "            intermediate_map[word] = 1\n",
    "## Emit keys and corresponding, locally aggregated results\n",
    "for key, value in intermediate_map.iteritems():\n",
    "    print \"%s\\t%d\" % (key, value)"
   ]
  },
  {
   "cell_type": "code",
   "execution_count": 37,
   "metadata": {
    "collapsed": true
   },
   "outputs": [],
   "source": [
    "!chmod a+x mapperhw2_2.py"
   ]
  },
  {
   "cell_type": "code",
   "execution_count": 38,
   "metadata": {
    "collapsed": false
   },
   "outputs": [
    {
     "name": "stdout",
     "output_type": "stream",
     "text": [
      "Writing reducerHW2_2.py\n"
     ]
    }
   ],
   "source": [
    "%%writefile reducerhw2_2.py\n",
    "#!/usr/bin/python\n",
    "\"\"\"\n",
    "Code for reducer.py for W261 HW2.2\n",
    "\"\"\"\n",
    "__author__ = \"Carlos Eduardo Rodriguez Castillo\"\n",
    "__email__ = \"cerodriguez@berkeley.edu\"\n",
    "\n",
    "import sys\n",
    "\n",
    "current_word = None\n",
    "current_count = 0\n",
    "word = None\n",
    "\n",
    "for line in sys.stdin:\n",
    "    line = line.strip()\n",
    "    word, count = line.split('\\t', 1)\n",
    "    try:\n",
    "        count = int(count)\n",
    "    except ValueError:\n",
    "        # count was not a number, so silently\n",
    "        # ignore/discard this line\n",
    "        continue\n",
    "    # this IF-switch only works because Hadoop sorts map output\n",
    "    # by key (here: word) before it is passed to the reducer\n",
    "    if current_word == word:\n",
    "        current_count += count\n",
    "    else:\n",
    "        if current_word:\n",
    "            # write result to STDOUT\n",
    "            print '%s\\t%d' % (current_word, current_count)\n",
    "        current_count = count\n",
    "        current_word = word\n",
    "# do not forget to output the last word if needed!\n",
    "if current_word == word:\n",
    "    print '%s\\t%d' % (current_word, current_count) "
   ]
  },
  {
   "cell_type": "code",
   "execution_count": 40,
   "metadata": {
    "collapsed": false
   },
   "outputs": [],
   "source": [
    "!chmod a+x reducerhw2_2.py"
   ]
  },
  {
   "cell_type": "code",
   "execution_count": null,
   "metadata": {
    "collapsed": true
   },
   "outputs": [],
   "source": [
    "!hadoop jar /usr/lib/hadoop-0.20-mapreduce/contrib/streaming/hadoop-streaming-mr1.jar \\\n",
    "-file /home/cloudera/w261/HW2/mapperhw2_2.py    -mapper /home/cloudera/w261/HW2/mapperhw2_2.py \\\n",
    "-file /home/cloudera/w261/HW2/reducerhw2_2.py   -reducer /home/cloudera/w261/HW2/reducerhw2_2.py \\\n",
    "-input /user/cloudera/w261/hw2/2_2/* -output /user/cloudera/w261/hw2/w261-output-2_2"
   ]
  },
  {
   "cell_type": "raw",
   "metadata": {},
   "source": [
    "16/05/29 07:42:19 WARN streaming.StreamJob: -file option is deprecated, please use generic option -files instead.\n",
    "packageJobJar: [/home/cloudera/w261/HW2/mapperhw2_2.py, /home/cloudera/w261/HW2/reducerhw2_2.py] [/usr/jars/hadoop-streaming-2.6.0-cdh5.7.0.jar] /tmp/streamjob6686367756842080117.jar tmpDir=null\n",
    "16/05/29 07:42:22 INFO client.RMProxy: Connecting to ResourceManager at quickstart.cloudera/10.0.2.15:8032\n",
    "16/05/29 07:42:22 INFO client.RMProxy: Connecting to ResourceManager at quickstart.cloudera/10.0.2.15:8032\n",
    "16/05/29 07:42:23 INFO mapred.FileInputFormat: Total input paths to process : 1\n",
    "16/05/29 07:42:23 INFO mapreduce.JobSubmitter: number of splits:2\n",
    "16/05/29 07:42:23 INFO mapreduce.JobSubmitter: Submitting tokens for job: job_1464465911163_0023\n",
    "16/05/29 07:42:23 INFO impl.YarnClientImpl: Submitted application application_1464465911163_0023\n",
    "16/05/29 07:42:23 INFO mapreduce.Job: The url to track the job: http://quickstart.cloudera:8088/proxy/application_1464465911163_0023/\n",
    "16/05/29 07:42:23 INFO mapreduce.Job: Running job: job_1464465911163_0023\n",
    "16/05/29 07:42:32 INFO mapreduce.Job: Job job_1464465911163_0023 running in uber mode : false\n",
    "16/05/29 07:42:32 INFO mapreduce.Job:  map 0% reduce 0%\n",
    "16/05/29 07:42:46 INFO mapreduce.Job:  map 50% reduce 0%\n",
    "16/05/29 07:42:47 INFO mapreduce.Job:  map 100% reduce 0%\n",
    "16/05/29 07:42:57 INFO mapreduce.Job:  map 100% reduce 100%\n",
    "16/05/29 07:42:58 INFO mapreduce.Job: Job job_1464465911163_0023 completed successfully\n",
    "16/05/29 07:42:58 INFO mapreduce.Job: Counters: 49\n",
    "\tFile System Counters\n",
    "\t\tFILE: Number of bytes read=57607\n",
    "\t\tFILE: Number of bytes written=483448\n",
    "\t\tFILE: Number of read operations=0\n",
    "\t\tFILE: Number of large read operations=0\n",
    "\t\tFILE: Number of write operations=0\n",
    "\t\tHDFS: Number of bytes read=233319\n",
    "\t\tHDFS: Number of bytes written=67967\n",
    "\t\tHDFS: Number of read operations=9\n",
    "\t\tHDFS: Number of large read operations=0\n",
    "\t\tHDFS: Number of write operations=2\n",
    "\tJob Counters \n",
    "\t\tLaunched map tasks=2\n",
    "\t\tLaunched reduce tasks=1\n",
    "\t\tData-local map tasks=2\n",
    "\t\tTotal time spent by all maps in occupied slots (ms)=3259648\n",
    "\t\tTotal time spent by all reduces in occupied slots (ms)=979456\n",
    "\t\tTotal time spent by all map tasks (ms)=25466\n",
    "\t\tTotal time spent by all reduce tasks (ms)=7652\n",
    "\t\tTotal vcore-seconds taken by all map tasks=25466\n",
    "\t\tTotal vcore-seconds taken by all reduce tasks=7652\n",
    "\t\tTotal megabyte-seconds taken by all map tasks=3259648\n",
    "\t\tTotal megabyte-seconds taken by all reduce tasks=979456\n",
    "\tMap-Reduce Framework\n",
    "\t\tMap input records=101\n",
    "\t\tMap output records=8106\n",
    "\t\tMap output bytes=81870\n",
    "\t\tMap output materialized bytes=64003\n",
    "\t\tInput split bytes=256\n",
    "\t\tCombine input records=0\n",
    "\t\tCombine output records=0\n",
    "\t\tReduce input groups=6554\n",
    "\t\tReduce shuffle bytes=64003\n",
    "\t\tReduce input records=8106\n",
    "\t\tReduce output records=6554\n",
    "\t\tSpilled Records=16212\n",
    "\t\tShuffled Maps =2\n",
    "\t\tFailed Shuffles=0\n",
    "\t\tMerged Map outputs=2\n",
    "\t\tGC time elapsed (ms)=162\n",
    "\t\tCPU time spent (ms)=3250\n",
    "\t\tPhysical memory (bytes) snapshot=389783552\n",
    "\t\tVirtual memory (bytes) snapshot=2098704384\n",
    "\t\tTotal committed heap usage (bytes)=152174592\n",
    "\tShuffle Errors\n",
    "\t\tBAD_ID=0\n",
    "\t\tCONNECTION=0\n",
    "\t\tIO_ERROR=0\n",
    "\t\tWRONG_LENGTH=0\n",
    "\t\tWRONG_MAP=0\n",
    "\t\tWRONG_REDUCE=0\n",
    "\tFile Input Format Counters \n",
    "\t\tBytes Read=233063\n",
    "\tFile Output Format Counters \n",
    "\t\tBytes Written=67967\n",
    "16/05/29 07:42:58 INFO streaming.StreamJob: Output directory: /user/cloudera/w261/hw2/w261-output-2_2"
   ]
  },
  {
   "cell_type": "code",
   "execution_count": null,
   "metadata": {
    "collapsed": true
   },
   "outputs": [],
   "source": [
    "!hdfs dfs -cat /user/cloudera/w261/hw2/w261-output-2_2/part-00000 | grep assistance"
   ]
  },
  {
   "cell_type": "raw",
   "metadata": {},
   "source": [
    "assistance\t10"
   ]
  },
  {
   "cell_type": "markdown",
   "metadata": {},
   "source": [
    "#### HW2.2.1"
   ]
  },
  {
   "cell_type": "markdown",
   "metadata": {},
   "source": [
    "Using Hadoop MapReduce and your wordcount job (from HW2.2) determine the top-10 occurring tokens (most frequent tokens).\n",
    "\n",
    "__ANSWER:__\n",
    "\n",
    "See the top-10 occurring tokens below:"
   ]
  },
  {
   "cell_type": "code",
   "execution_count": null,
   "metadata": {
    "collapsed": true
   },
   "outputs": [],
   "source": [
    "!hdfs dfs -cat /user/cloudera/w261/hw2/w261-output-2_2/part-00000 | sort -rn -k 2 | head -n 10"
   ]
  },
  {
   "cell_type": "raw",
   "metadata": {},
   "source": [
    "the\t1240\n",
    "to\t914\n",
    "and\t659\n",
    "of\t556\n",
    "a\t523\n",
    "in\t412\n",
    "you\t402\n",
    "your\t389\n",
    "for\t369\n",
    "@\t361"
   ]
  },
  {
   "cell_type": "markdown",
   "metadata": {},
   "source": [
    "#### HW2.3 Multinomial NAIVE BAYES with NO Smoothing"
   ]
  },
  {
   "cell_type": "markdown",
   "metadata": {},
   "source": [
    "_Using the Enron data from HW1 and Hadoop MapReduce, write  a mapper/reducer job(s) that will both learn  Naive Bayes classifier and classify the Enron email messages using the learnt Naive Bayes classifier. Use all white-space delimitted tokens as independent input variables (assume spaces, fullstops, commas as delimiters)._\n",
    "\n",
    "_Report the performance of your learnt classifier in terms of misclassifcation error rate of your multinomial Naive Bayes Classifier. Plot a histogram of the  posterior probabilities (i.e., Pr(Class|Doc)) for each class over the training set. Summarize what you see._\n",
    "\n",
    "_Count up how many times you need to process a zero probabilty for each class and report._\n",
    "\n",
    "__ANSWER:__\n",
    "\n",
    "I am approaching this problem through two MapReduce jobs; the first job fits the model and the second job classifies the training data with the model computed in the first job and outputs the misclassification error rate, the log probabilities per class (for the histograms). The second job also uses counters to determine the number of times that a zero probability would have been output for a word for either of the classes.\n",
    "\n",
    "The first MapReduce job utilizes __mapperhw2_3.py__ as the mapper code and __reducerhw2_3.py__ as the reducer code. The second MapReduce job utilizes __mapperhw2_31.py__ as the mapper code and __reducerhw2_31.py__ as the reducer code.\n",
    "\n",
    "By running the below code __we find that the misclassification error rate is 0%__; additionally, after running the second MapReduce job I plotted the conditional probabilities for each document for each class (titled __Histogram of HAM Conditional Log Probabilities__ and __Histogram\\ of SPAM Conditional Log Probabilities__ respectively). We see that both classes have a small number of documents that have very large outliers in terms of log probability (a long thin left tail). Additionally, I see that for the most part documents are relatively close to zero in log probability which means that if they are in one class or the other with a very high probability (probability goes to 100% as log probability goes to zero [from negative infinity]). \n",
    "\n",
    "Finally, I used MapReduce counters to determine that there are __6532 occurences of zero probability for a word under the HAM conditional probability__ and __4965 occurences of zero probability for a word under the SPAM conditional probability__."
   ]
  },
  {
   "cell_type": "code",
   "execution_count": 2,
   "metadata": {
    "collapsed": false
   },
   "outputs": [
    {
     "name": "stdout",
     "output_type": "stream",
     "text": [
      "Writing mapperhw2_3.py\n"
     ]
    }
   ],
   "source": [
    "%%writefile mapperhw2_3.py\n",
    "#!/usr/bin/python\n",
    "\"\"\"\n",
    "Mapper code for W261 exercise 2.3\n",
    "\"\"\"\n",
    "__author__=\"Carlos Eduardo Rodriguez Castillo\"\n",
    "__email__=\"cerodriguez@berkeley.edu\"\n",
    "\n",
    "## Import relevant libraries\n",
    "import sys\n",
    "import re\n",
    "import json\n",
    "\n",
    "## define mapper initialize function\n",
    "def mapper_initialize():\n",
    "    ## Create record dictionary and initialize values\n",
    "    record_dictionary = {}\n",
    "    record_dictionary[\"SPAM_total_counter\"] = 0\n",
    "    record_dictionary[\"HAM_total_counter\"] = 0\n",
    "    record_dictionary[\"words\"] = {}\n",
    "    return record_dictionary\n",
    "    \n",
    "## define map function\n",
    "def map_function(record):\n",
    "    ## Clean up and decompose record\n",
    "    record = record.strip()\n",
    "    record_parameters = record.split(\"\\t\")\n",
    "    record_id = record_parameters[0]\n",
    "    ## Here we do not error handle as we assume that classes\n",
    "    ## have all been correctly coded\n",
    "    record_class = int(record_parameters[1])\n",
    "    record_document = ' '.join([str(x) for x in record_parameters[2:]])\n",
    "    ## Parse record for spaces, commas (followed by spaces),\n",
    "    ## periods (followed by spaces) and commas\n",
    "    words = filter(None,\n",
    "                  re.split(\"\\s+|[.]\\s+|[,]\\s+|[,]\",\n",
    "                          record_document))\n",
    "    ## Iterating through all the words in the record's document\n",
    "    for word in words:\n",
    "        ## NOTE: operating under the assumption that record_dictionary\n",
    "        ##       is a global variable\n",
    "        ## accessed if the current word is NOT in the record dictionary\n",
    "        if word not in record_dictionary[\"words\"].keys():\n",
    "            ## initialize counters in dictionary for newly encountered word\n",
    "            record_dictionary[\"words\"][word] = {\"SPAM_counter\": 0,\n",
    "                                      \"HAM_counter\": 0}\n",
    "            ## increment counter under the appropriate class\n",
    "            if record_class == 1:\n",
    "                record_dictionary[\"words\"][word][\"SPAM_counter\"] = record_dictionary[\"words\"][word][\"SPAM_counter\"] + 1\n",
    "                record_dictionary[\"SPAM_total_counter\"] = record_dictionary[\"SPAM_total_counter\"] + 1\n",
    "            else:\n",
    "                record_dictionary[\"words\"][word][\"HAM_counter\"] = record_dictionary[\"words\"][word][\"HAM_counter\"] + 1\n",
    "                record_dictionary[\"HAM_total_counter\"] = record_dictionary[\"HAM_total_counter\"] + 1\n",
    "        ## accessed if the current word is IN the record dictionary\n",
    "        else:\n",
    "            ## increment counter under the respective class\n",
    "            if record_class == 1:\n",
    "                record_dictionary[\"words\"][word][\"SPAM_counter\"] = record_dictionary[\"words\"][word][\"SPAM_counter\"] + 1\n",
    "                record_dictionary[\"SPAM_total_counter\"] = record_dictionary[\"SPAM_total_counter\"] + 1\n",
    "            else:\n",
    "                record_dictionary[\"words\"][word][\"HAM_counter\"] = record_dictionary[\"words\"][word][\"HAM_counter\"] + 1\n",
    "                record_dictionary[\"HAM_total_counter\"] = record_dictionary[\"HAM_total_counter\"] + 1\n",
    "    ## emit the record dictionary\n",
    "    ## print record_dictionary\n",
    "if __name__ == \"__main__\":\n",
    "    #record_dictionary = mapper_initialize()\n",
    "    for line in sys.stdin:\n",
    "        record_dictionary = mapper_initialize()\n",
    "        map_function(line)\n",
    "        ## emit the key value pair\n",
    "        print \"model\\t%s\" % json.dumps(record_dictionary)"
   ]
  },
  {
   "cell_type": "code",
   "execution_count": 3,
   "metadata": {
    "collapsed": true
   },
   "outputs": [],
   "source": [
    "!chmod a+x mapperhw2_3.py"
   ]
  },
  {
   "cell_type": "code",
   "execution_count": null,
   "metadata": {
    "collapsed": true
   },
   "outputs": [],
   "source": [
    "%%writefile reducerhw2_3.py\n",
    "#!/usr/bin/python\n",
    "\"\"\"\n",
    "Reducer code for W261 exercise 2.3\n",
    "\"\"\"\n",
    "__author__ = \"Carlos Eduardo Rodriguez Castillo\"\n",
    "__email__ = \"cerodriguez@berkeley.edu\"\n",
    "\n",
    "## Import relevant libraries\n",
    "import sys\n",
    "import re\n",
    "import math\n",
    "import json\n",
    "import ast\n",
    "\n",
    "## define reducer initialize function\n",
    "def reducer_initialize():\n",
    "    ## Create record dictionary and initialize values\n",
    "    record_dictionary = {}\n",
    "    record_dictionary[\"SPAM_total_counter\"] = 0\n",
    "    record_dictionary[\"HAM_total_counter\"] = 0\n",
    "    record_dictionary[\"SPAM_unconditional_prob\"] = 0\n",
    "    record_dictionary[\"HAM_unconditional_prob\"] = 0\n",
    "    record_dictionary[\"words\"] = {}\n",
    "    return record_dictionary\n",
    "    \n",
    "## define reduce function\n",
    "def reduce_function(intermediateResult):\n",
    "    ## turn line into JSON object\n",
    "    intermediateResult = intermediateResult.split('\\t')\n",
    "    key = intermediateResult[0]\n",
    "    value = intermediateResult[1]\n",
    "    ## counts JSON object\n",
    "    tempModel = json.dumps(value)\n",
    "    tempModel = json.loads(tempModel)\n",
    "    intermediateModel = ast.literal_eval(tempModel)\n",
    "    ## increment total SPAM and HAM counts respectively\n",
    "    record_dictionary[\"SPAM_total_counter\"] = record_dictionary[\"SPAM_total_counter\"] + intermediateModel[\"SPAM_total_counter\"]\n",
    "    record_dictionary[\"HAM_total_counter\"] = record_dictionary[\"HAM_total_counter\"] + intermediateModel[\"HAM_total_counter\"]\n",
    "    for word in intermediateModel[\"words\"].keys():\n",
    "        ## check to see if the word exists in cumulative dictionary\n",
    "        if word in record_dictionary[\"words\"].keys():\n",
    "            ## word has already been added to the output dictionary\n",
    "            record_dictionary[\"words\"][word][\"SPAM_counter\"] = record_dictionary[\"words\"][word][\"SPAM_counter\"] + intermediateModel[\"words\"][word][\"SPAM_counter\"]\n",
    "            record_dictionary[\"words\"][word][\"HAM_counter\"] = record_dictionary[\"words\"][word][\"HAM_counter\"] + intermediateModel[\"words\"][word][\"HAM_counter\"]\n",
    "        else:\n",
    "            ## word has not been added to the output dictionary\n",
    "            record_dictionary[\"words\"][word] = {\"SPAM_counter\": 0,\n",
    "                                      \"HAM_counter\": 0}\n",
    "            record_dictionary[\"words\"][word][\"SPAM_counter\"] = intermediateModel[\"words\"][word][\"SPAM_counter\"]\n",
    "            record_dictionary[\"words\"][word][\"HAM_counter\"] = intermediateModel[\"words\"][word][\"HAM_counter\"]\n",
    "\n",
    "if __name__ == \"__main__\":\n",
    "    record_dictionary = reducer_initialize()\n",
    "    for line in sys.stdin:\n",
    "        reduce_function(line)\n",
    "    ## compute the unconditional probabilities for the classes\n",
    "    record_dictionary[\"SPAM_unconditional_prob\"] = float(record_dictionary[\"SPAM_total_counter\"]) / (float(record_dictionary[\"SPAM_total_counter\"]) + float(record_dictionary[\"HAM_total_counter\"]))\n",
    "    record_dictionary[\"HAM_unconditional_prob\"] = float(record_dictionary[\"HAM_total_counter\"]) / (float(record_dictionary[\"SPAM_total_counter\"]) + float(record_dictionary[\"HAM_total_counter\"]))\n",
    "    ## iterate through vocabulary words to compute conditional probabilities\n",
    "    for word in record_dictionary[\"words\"].keys():\n",
    "        sys.stderr.write(\"reporter:counter:Words,Vocabulary,1\\n\")\n",
    "        record_dictionary[\"words\"][word][\"SPAM_conditional_prob\"] = float(record_dictionary[\"words\"][word][\"SPAM_counter\"]) / float(record_dictionary[\"SPAM_total_counter\"])\n",
    "        record_dictionary[\"words\"][word][\"HAM_conditional_prob\"] = float(record_dictionary[\"words\"][word][\"HAM_counter\"]) / float(record_dictionary[\"HAM_total_counter\"])\n",
    "    print record_dictionary   "
   ]
  },
  {
   "cell_type": "code",
   "execution_count": null,
   "metadata": {
    "collapsed": true
   },
   "outputs": [],
   "source": [
    "!chmod a+x reducerhw2_3.py"
   ]
  },
  {
   "cell_type": "code",
   "execution_count": null,
   "metadata": {
    "collapsed": true
   },
   "outputs": [],
   "source": [
    "hadoop jar /usr/lib/hadoop-0.20-mapreduce/contrib/streaming/hadoop-streaming-mr1.jar \\\n",
    "-file /home/cloudera/w261/HW2/mapperhw2_3.py    -mapper /home/cloudera/w261/HW2/mapperhw2_3.py \\\n",
    "-file /home/cloudera/w261/HW2/reducerhw2_3.py -reducer /home/cloudera/w261/HW2/reducerhw2_3.py \\\n",
    "-input /user/cloudera/w261/hw2/2_3/* -output /user/cloudera/w261/hw2/hw2-output-2_3"
   ]
  },
  {
   "cell_type": "raw",
   "metadata": {},
   "source": [
    "packageJobJar: [/home/cloudera/w261/HW2/mapperhw2_3_final.py, /home/cloudera/w261/HW2/reducerhw2_3.py] [/usr/jars/hadoop-streaming-2.6.0-cdh5.7.0.jar] /tmp/streamjob7406471012873685685.jar tmpDir=null\n",
    "16/05/29 08:03:19 INFO client.RMProxy: Connecting to ResourceManager at quickstart.cloudera/10.0.2.15:8032\n",
    "16/05/29 08:03:20 INFO client.RMProxy: Connecting to ResourceManager at quickstart.cloudera/10.0.2.15:8032\n",
    "16/05/29 08:03:20 INFO mapred.FileInputFormat: Total input paths to process : 1\n",
    "16/05/29 08:03:20 INFO mapreduce.JobSubmitter: number of splits:2\n",
    "16/05/29 08:03:21 INFO mapreduce.JobSubmitter: Submitting tokens for job: job_1464465911163_0024\n",
    "16/05/29 08:03:21 INFO impl.YarnClientImpl: Submitted application application_1464465911163_0024\n",
    "16/05/29 08:03:21 INFO mapreduce.Job: The url to track the job: http://quickstart.cloudera:8088/proxy/application_1464465911163_0024/\n",
    "16/05/29 08:03:21 INFO mapreduce.Job: Running job: job_1464465911163_0024\n",
    "16/05/29 08:03:30 INFO mapreduce.Job: Job job_1464465911163_0024 running in uber mode : false\n",
    "16/05/29 08:03:30 INFO mapreduce.Job:  map 0% reduce 0%\n",
    "16/05/29 08:03:43 INFO mapreduce.Job:  map 100% reduce 0%\n",
    "16/05/29 08:03:55 INFO mapreduce.Job:  map 100% reduce 100%\n",
    "16/05/29 08:03:55 INFO mapreduce.Job: Job job_1464465911163_0024 completed successfully\n",
    "16/05/29 08:03:55 INFO mapreduce.Job: Counters: 50\n",
    "\tFile System Counters\n",
    "\t\tFILE: Number of bytes read=142640\n",
    "\t\tFILE: Number of bytes written=647701\n",
    "\t\tFILE: Number of read operations=0\n",
    "\t\tFILE: Number of large read operations=0\n",
    "\t\tFILE: Number of write operations=0\n",
    "\t\tHDFS: Number of bytes read=233667\n",
    "\t\tHDFS: Number of bytes written=849287\n",
    "\t\tHDFS: Number of read operations=9\n",
    "\t\tHDFS: Number of large read operations=0\n",
    "\t\tHDFS: Number of write operations=2\n",
    "\tJob Counters \n",
    "\t\tLaunched map tasks=2\n",
    "\t\tLaunched reduce tasks=1\n",
    "\t\tData-local map tasks=2\n",
    "\t\tTotal time spent by all maps in occupied slots (ms)=2830336\n",
    "\t\tTotal time spent by all reduces in occupied slots (ms)=1162240\n",
    "\t\tTotal time spent by all map tasks (ms)=22112\n",
    "\t\tTotal time spent by all reduce tasks (ms)=9080\n",
    "\t\tTotal vcore-seconds taken by all map tasks=22112\n",
    "\t\tTotal vcore-seconds taken by all reduce tasks=9080\n",
    "\t\tTotal megabyte-seconds taken by all map tasks=2830336\n",
    "\t\tTotal megabyte-seconds taken by all reduce tasks=1162240\n",
    "\tMap-Reduce Framework\n",
    "\t\tMap input records=100\n",
    "\t\tMap output records=100\n",
    "\t\tMap output bytes=797818\n",
    "\t\tMap output materialized bytes=143040\n",
    "\t\tInput split bytes=256\n",
    "\t\tCombine input records=0\n",
    "\t\tCombine output records=0\n",
    "\t\tReduce input groups=1\n",
    "\t\tReduce shuffle bytes=143040\n",
    "\t\tReduce input records=100\n",
    "\t\tReduce output records=1\n",
    "\t\tSpilled Records=200\n",
    "\t\tShuffled Maps =2\n",
    "\t\tFailed Shuffles=0\n",
    "\t\tMerged Map outputs=2\n",
    "\t\tGC time elapsed (ms)=155\n",
    "\t\tCPU time spent (ms)=2230\n",
    "\t\tPhysical memory (bytes) snapshot=396881920\n",
    "\t\tVirtual memory (bytes) snapshot=2098868224\n",
    "\t\tTotal committed heap usage (bytes)=152174592\n",
    "\tShuffle Errors\n",
    "\t\tBAD_ID=0\n",
    "\t\tCONNECTION=0\n",
    "\t\tIO_ERROR=0\n",
    "\t\tWRONG_LENGTH=0\n",
    "\t\tWRONG_MAP=0\n",
    "\t\tWRONG_REDUCE=0\n",
    "\tWords\n",
    "\t\tVocabulary=6477\n",
    "\tFile Input Format Counters \n",
    "\t\tBytes Read=233411\n",
    "\tFile Output Format Counters \n",
    "\t\tBytes Written=849287\n",
    "16/05/29 08:03:55 INFO streaming.StreamJob: Output directory: /user/cloudera/w261/hw2/hw2-output-2_3"
   ]
  },
  {
   "cell_type": "code",
   "execution_count": null,
   "metadata": {
    "collapsed": true
   },
   "outputs": [],
   "source": [
    "!hdfs dfs -cat /user/cloudera/w261/hw2/hw2-output-2_3/* > output_2_3_0"
   ]
  },
  {
   "cell_type": "code",
   "execution_count": 77,
   "metadata": {
    "collapsed": false
   },
   "outputs": [
    {
     "name": "stdout",
     "output_type": "stream",
     "text": [
      "Writing mapperhw2_31.py\n"
     ]
    }
   ],
   "source": [
    "%%writefile mapperhw2_31.py\n",
    "#!/usr/bin/python\n",
    "\"\"\"\n",
    "Mapper code for W261 exercise 2.3\n",
    "\n",
    "Objectives:\n",
    "- Classify records and emit accurate and inaccurate counts\n",
    "- Count up how many times you need to process a zero probabilty for each class and report. \n",
    "\"\"\"\n",
    "__author__=\"Carlos Eduardo Rodriguez Castillo\"\n",
    "__email__=\"cerodriguez@berkeley.edu\"\n",
    "\n",
    "## Import relevant libraries\n",
    "import sys\n",
    "import re\n",
    "import json\n",
    "import math\n",
    "import ast\n",
    "\n",
    "def mapper_initialize():\n",
    "    ## load the model dictionary\n",
    "    ## initialize accurate and inaccurate counters\n",
    "    inaccurate_count = 0\n",
    "    accurate_count = 0\n",
    "    f = open('model','r')\n",
    "    model_dict = []\n",
    "    for line in f:\n",
    "        line = line.strip()\n",
    "        model = ast.literal_eval(line)\n",
    "        #model = json.loads(line)\n",
    "    return model\n",
    "\n",
    "def map_function(record, model):\n",
    "    ## interate through the records to classify\n",
    "    ## Clean up and decompose record\n",
    "    record = record.strip()\n",
    "    record_parameters = record.split(\"\\t\")\n",
    "    record_id = record_parameters[0]\n",
    "    ## Here we do not error handle as we assume that classes\n",
    "    ## have all been correctly coded\n",
    "    record_class = int(record_parameters[1])\n",
    "    record_document = ' '.join([str(x) for x in record_parameters[2:]])\n",
    "    ## Parse record for spaces, commas (followed by spaces),\n",
    "    ## periods (followed by spaces) and commas\n",
    "    words = filter(None,\n",
    "                  re.split(\"\\s+|[.]\\s+|[,]\\s+|[,]\",\n",
    "                          record_document))\n",
    "    \n",
    "    SPAM_log_prob, HAM_log_prob = 0, 0\n",
    "    ## Initializing the SPAM and HAM log probabilities with \n",
    "    ## the unconditional log probabilities of each class\n",
    "    ## as the prior that multiplies the likelihood of the document\n",
    "    ## given each class.\n",
    "    SPAM_log_prob = math.log(model[\"SPAM_unconditional_prob\"])\n",
    "    HAM_log_prob = math.log(model[\"HAM_unconditional_prob\"])\n",
    "    accurate, inaccurate = 0, 0\n",
    "    ## Iterating through all the words in the record's document\n",
    "    for word in words:\n",
    "        sys.stderr.write(\"reporter:counter:Words,Total,1\\n\")\n",
    "        ## NOTE: operating under the assumption that record_dictionary\n",
    "        ##       is a global variable\n",
    "        ## NOTE: Operating under assumption of finding all words in model\n",
    "        ## accessed if the current word is NOT in the record dictionary\n",
    "        if word in model[\"words\"].keys():\n",
    "                if model[\"words\"][word][\"SPAM_conditional_prob\"] == 0:\n",
    "                ##TODO: COUNT THAT THIS IS A ZERO OCCURENCE\n",
    "                        sys.stderr.write(\"reporter:counter:Zeros,SPAM,1\\n\")\n",
    "                        SPAM_log_prob = SPAM_log_prob - 100\n",
    "                else:\n",
    "                        SPAM_log_prob = SPAM_log_prob + math.log(model[\"words\"][word][\"SPAM_conditional_prob\"])\n",
    "                if model[\"words\"][word][\"HAM_conditional_prob\"] == 0:\n",
    "                ##TODO: COUNT THAT THIS IS A ZERO OCCURENCE\n",
    "                        sys.stderr.write(\"reporter:counter:Zeros,HAM,1\\n\")\n",
    "                        HAM_log_prob = HAM_log_prob - 100\n",
    "                else:\n",
    "                        HAM_log_prob = HAM_log_prob + math.log(model[\"words\"][word][\"HAM_conditional_prob\"])\n",
    "        else:\n",
    "            ## If the word is not in the vocabulary, we simply add the prior to\n",
    "            ## the log probability of each class respectively\n",
    "                HAM_log_prob = HAM_log_prob + math.log(model[\"HAM_unconditional_prob\"])\n",
    "                SPAM_log_prob = SPAM_log_prob + math.log(model[\"SPAM_unconditional_prob\"])\n",
    "                ## removing the break below as we now do not exit once a non\n",
    "                ## vocabulary word is encountered\n",
    "                ##break\n",
    "    if HAM_log_prob >= SPAM_log_prob:\n",
    "        prediction = 0\n",
    "    else:\n",
    "        prediction = 1\n",
    "    if record_class == prediction:\n",
    "        accurate = accurate + 1\n",
    "    else:\n",
    "        inaccurate = inaccurate + 1\n",
    "    return (accurate, inaccurate, HAM_log_prob, SPAM_log_prob)\n",
    "\n",
    "if __name__ == \"__main__\":\n",
    "    model = mapper_initialize()\n",
    "    #accurate, inaccurate = 0, 0\n",
    "    for line in sys.stdin:\n",
    "        a, i, H_log_prob, S_log_prob = map_function(line, model)\n",
    "        ## emit the key value pair\n",
    "        ## key is simply token \"model\"\n",
    "        ## value is accurate count, inaccurate count, HAM probability | document, SPAM probability | document\n",
    "        print \"accuracy\\t%d,%d,%.2f,%.2f\" % (a, i, H_log_prob, S_log_prob)"
   ]
  },
  {
   "cell_type": "code",
   "execution_count": 79,
   "metadata": {
    "collapsed": false
   },
   "outputs": [],
   "source": [
    "!chmod a+x mapperhw2_31.py"
   ]
  },
  {
   "cell_type": "code",
   "execution_count": null,
   "metadata": {
    "collapsed": true
   },
   "outputs": [],
   "source": [
    "%%writefile reducerhw2_31.py\n",
    "#!/usr/bin/python\n",
    "\"\"\"\n",
    "Reducer code for W261 exercise 2.3\n",
    "\"\"\"\n",
    "__author__=\"Carlos Eduardo Rodriguez Castillo\"\n",
    "__email__=\"cerodriguez@berkeley.edu\"\n",
    "\n",
    "## Import relevant libraries\n",
    "import sys\n",
    "import re\n",
    "\n",
    "#def reducer_initialize():\n",
    "    \n",
    "def reduce_function(record):\n",
    "    record = record.strip()\n",
    "    record_parameters = record.split(\"\\t\")\n",
    "    accuracy_counts = record_parameters[1]\n",
    "    accuracy_counts = accuracy_counts.split(\",\")\n",
    "    accuracy_count = int(accuracy_counts[0])\n",
    "    inaccuracy_count = int(accuracy_counts[1])\n",
    "    HAM_log_prob = float(accuracy_counts[2])\n",
    "    SPAM_log_prob = float(accuracy_counts[3])\n",
    "    return (accuracy_count, inaccuracy_count, HAM_log_prob, SPAM_log_prob)\n",
    "    \n",
    "if __name__ == \"__main__\":\n",
    "    #record_dictionary = reducer_initialize()\n",
    "    total, accurate_count, inaccurate_count = 0, 0, 0\n",
    "    for line in sys.stdin:\n",
    "        a, i, H_log_prob, S_log_prob = reduce_function(line)\n",
    "        accurate_count = accurate_count + a\n",
    "        inaccurate_count = inaccurate_count + i\n",
    "        total = total + 1\n",
    "        ## printing the conditional probabilities for the histograms\n",
    "        print \"HAM_log_prob_cond_doc\\t%.2f\\tSPAM_log_prob_cond_doc\\t%.2f\" % (H_log_prob, S_log_prob)\n",
    "    ## printing the misclassification rate\n",
    "    print \"Misclassifcation_error_rate_multinomial_Naive_Bayes_Classifier\\t%.2f\" % ((float(inaccurate_count)/float(total)))"
   ]
  },
  {
   "cell_type": "code",
   "execution_count": null,
   "metadata": {
    "collapsed": true
   },
   "outputs": [],
   "source": [
    "!chmod a+x reducerhw2_31.py"
   ]
  },
  {
   "cell_type": "code",
   "execution_count": null,
   "metadata": {
    "collapsed": true
   },
   "outputs": [],
   "source": [
    "!hdfs dfs -rm -r /user/cloudera/w261/hw2/hw2-output-2_3_1\n",
    "!hadoop jar /usr/lib/hadoop-0.20-mapreduce/contrib/streaming/hadoop-streaming-mr1.jar \\\n",
    "-files output_2_3_0#model \\\n",
    "-mapper /home/cloudera/w261/HW2/mapperhw2_31.py \\\n",
    "-reducer /home/cloudera/w261/HW2/reducerhw2_31.py \\\n",
    "-input /user/cloudera/w261/hw2/2_3/* \\\n",
    "-output /user/cloudera/w261/hw2/hw2-output-2_3_1"
   ]
  },
  {
   "cell_type": "raw",
   "metadata": {},
   "source": [
    "packageJobJar: [] [/usr/jars/hadoop-streaming-2.6.0-cdh5.7.0.jar] /tmp/streamjob2876316147452004866.jar tmpDir=null\n",
    "16/05/29 08:09:24 INFO client.RMProxy: Connecting to ResourceManager at quickstart.cloudera/10.0.2.15:8032\n",
    "16/05/29 08:09:24 INFO client.RMProxy: Connecting to ResourceManager at quickstart.cloudera/10.0.2.15:8032\n",
    "16/05/29 08:09:25 INFO mapred.FileInputFormat: Total input paths to process : 1\n",
    "16/05/29 08:09:25 INFO mapreduce.JobSubmitter: number of splits:2\n",
    "16/05/29 08:09:25 INFO mapreduce.JobSubmitter: Submitting tokens for job: job_1464465911163_0025\n",
    "16/05/29 08:09:26 INFO impl.YarnClientImpl: Submitted application application_1464465911163_0025\n",
    "16/05/29 08:09:26 INFO mapreduce.Job: The url to track the job: http://quickstart.cloudera:8088/proxy/application_1464465911163_0025/\n",
    "16/05/29 08:09:26 INFO mapreduce.Job: Running job: job_1464465911163_0025\n",
    "16/05/29 08:09:34 INFO mapreduce.Job: Job job_1464465911163_0025 running in uber mode : false\n",
    "16/05/29 08:09:34 INFO mapreduce.Job:  map 0% reduce 0%\n",
    "16/05/29 08:09:52 INFO mapreduce.Job:  map 67% reduce 0%\n",
    "16/05/29 08:09:59 INFO mapreduce.Job:  map 100% reduce 0%\n",
    "16/05/29 08:10:09 INFO mapreduce.Job:  map 100% reduce 100%\n",
    "16/05/29 08:10:09 INFO mapreduce.Job: Job job_1464465911163_0025 completed successfully\n",
    "16/05/29 08:10:09 INFO mapreduce.Job: Counters: 52\n",
    "\tFile System Counters\n",
    "\t\tFILE: Number of bytes read=1762\n",
    "\t\tFILE: Number of bytes written=364906\n",
    "\t\tFILE: Number of read operations=0\n",
    "\t\tFILE: Number of large read operations=0\n",
    "\t\tFILE: Number of write operations=0\n",
    "\t\tHDFS: Number of bytes read=233667\n",
    "\t\tHDFS: Number of bytes written=6343\n",
    "\t\tHDFS: Number of read operations=9\n",
    "\t\tHDFS: Number of large read operations=0\n",
    "\t\tHDFS: Number of write operations=2\n",
    "\tJob Counters \n",
    "\t\tLaunched map tasks=2\n",
    "\t\tLaunched reduce tasks=1\n",
    "\t\tData-local map tasks=2\n",
    "\t\tTotal time spent by all maps in occupied slots (ms)=5576960\n",
    "\t\tTotal time spent by all reduces in occupied slots (ms)=891264\n",
    "\t\tTotal time spent by all map tasks (ms)=43570\n",
    "\t\tTotal time spent by all reduce tasks (ms)=6963\n",
    "\t\tTotal vcore-seconds taken by all map tasks=43570\n",
    "\t\tTotal vcore-seconds taken by all reduce tasks=6963\n",
    "\t\tTotal megabyte-seconds taken by all map tasks=5576960\n",
    "\t\tTotal megabyte-seconds taken by all reduce tasks=891264\n",
    "\tMap-Reduce Framework\n",
    "\t\tMap input records=100\n",
    "\t\tMap output records=100\n",
    "\t\tMap output bytes=3075\n",
    "\t\tMap output materialized bytes=1879\n",
    "\t\tInput split bytes=256\n",
    "\t\tCombine input records=0\n",
    "\t\tCombine output records=0\n",
    "\t\tReduce input groups=1\n",
    "\t\tReduce shuffle bytes=1879\n",
    "\t\tReduce input records=100\n",
    "\t\tReduce output records=101\n",
    "\t\tSpilled Records=200\n",
    "\t\tShuffled Maps =2\n",
    "\t\tFailed Shuffles=0\n",
    "\t\tMerged Map outputs=2\n",
    "\t\tGC time elapsed (ms)=152\n",
    "\t\tCPU time spent (ms)=11020\n",
    "\t\tPhysical memory (bytes) snapshot=371335168\n",
    "\t\tVirtual memory (bytes) snapshot=2098880512\n",
    "\t\tTotal committed heap usage (bytes)=152174592\n",
    "\tShuffle Errors\n",
    "\t\tBAD_ID=0\n",
    "\t\tCONNECTION=0\n",
    "\t\tIO_ERROR=0\n",
    "\t\tWRONG_LENGTH=0\n",
    "\t\tWRONG_MAP=0\n",
    "\t\tWRONG_REDUCE=0\n",
    "\tWords\n",
    "\t\tTotal=33008\n",
    "\tZeros\n",
    "\t\tHAM=6532\n",
    "\t\tSPAM=4965\n",
    "\tFile Input Format Counters \n",
    "\t\tBytes Read=233411\n",
    "\tFile Output Format Counters \n",
    "\t\tBytes Written=6343\n",
    "16/05/29 08:10:09 INFO streaming.StreamJob: Output directory: /user/cloudera/w261/hw2/hw2-output-2_3_1"
   ]
  },
  {
   "cell_type": "code",
   "execution_count": null,
   "metadata": {
    "collapsed": true
   },
   "outputs": [],
   "source": [
    "!hdfs dfs -cat /user/cloudera/w261/hw2/hw2-output-2_3_1/* | \\\n",
    "grep Misclassifcation_error_rate_multinomial_Naive_Bayes_Classifier"
   ]
  },
  {
   "cell_type": "raw",
   "metadata": {},
   "source": [
    "Misclassifcation_error_rate_multinomial_Naive_Bayes_Classifier\t0.00"
   ]
  },
  {
   "cell_type": "code",
   "execution_count": 93,
   "metadata": {
    "collapsed": false
   },
   "outputs": [
    {
     "data": {
      "image/png": "[encoded data removed]",
      "text/plain": [
       "<matplotlib.figure.Figure at 0x5b11910>"
      ]
     },
     "metadata": {},
     "output_type": "display_data"
    },
    {
     "data": {
      "image/png": "[encoded data removed]",
      "text/plain": [
       "<matplotlib.figure.Figure at 0x640f490>"
      ]
     },
     "metadata": {},
     "output_type": "display_data"
    }
   ],
   "source": [
    "%matplotlib inline\n",
    "\"\"\"\n",
    "Reducer code for W261 exercise 2.3\n",
    "\"\"\"\n",
    "__author__=\"Carlos Eduardo Rodriguez Castillo\"\n",
    "__email__=\"cerodriguez@berkeley.edu\"\n",
    "\n",
    "import numpy as np\n",
    "import matplotlib.mlab as mlab\n",
    "import matplotlib.pyplot as plt\n",
    "import sys\n",
    "\n",
    "SPAM_log_probs = []\n",
    "HAM_log_probs = []\n",
    "\n",
    "f = open('hw2_311_output','r')\n",
    "for line in f:\n",
    "    line = line.strip()\n",
    "    line_components = line.split(\"\\t\")\n",
    "    if line_components[0] == \"HAM_log_prob_cond_doc\":\n",
    "        SPAM_log_probs.extend([float(line_components[3])])\n",
    "        HAM_log_probs.extend([float(line_components[1])])\n",
    "        \n",
    "plt.figure(1)\n",
    "SPAM_log_probs_n, SPAM_log_probs_bins, SPAM_log_probs_patches = plt.hist(SPAM_log_probs, 50, facecolor='blue')\n",
    "plt.xlabel('Conditional Log Probability')\n",
    "plt.ylabel('Counts')\n",
    "plt.title(r'$\\mathrm{Histogram\\ of\\ SPAM\\ Conditional\\ Log\\ Probabilities}$')\n",
    "plt.grid(True)\n",
    "plt.figure(2)\n",
    "HAM_log_probs_n, HAM_log_probs_bins, HAM_log_probs_patches = plt.hist(HAM_log_probs, 50, facecolor='gray')\n",
    "plt.xlabel('Conditional Log Probability')\n",
    "plt.ylabel('Counts')\n",
    "plt.title(r'$\\mathrm{Histogram\\ of\\ HAM\\ Conditional\\ Log\\ Probabilities}$')\n",
    "plt.grid(True)\n",
    "plt.show()"
   ]
  },
  {
   "cell_type": "markdown",
   "metadata": {},
   "source": [
    "#### HW2.4 Multinomial Naive Bayes with Laplace +1 Smoothing"
   ]
  },
  {
   "cell_type": "markdown",
   "metadata": {},
   "source": [
    "_Repeat HW2.3 with the following modification: use Laplace plus-one smoothing. Compare the misclassifcation error rates for 2.3 versus 2.4 and explain the differences._\n",
    "\n",
    "__ANSWER:__ \n",
    "\n",
    "We find that the misclassification rate using Laplace +1 smoothing is identical to that which we computed for the model without smoothing in part 2.3 (__0% misclassification error rate__). I believe that the reason that the answers are similar is that, while in 2.3 we do not have smoothing, the way we treat no appearances is not practically different from applying Laplace +1 smoothing.\n",
    "\n",
    "The reason for this is that, in 2.3 when words do not appear in a class I add a very low log probability (i.e. -100) to the word, practically ensuring that the class will not be selected. In 2.4 this is analoguosly achieved because Laplace plus one smoothing, while ensuring that all words in the vocabulary have a probability, will assign a very small conditional log probability to word for the class (i.e. 1/(Total words in class + total words in class' vocabulary)), which translates practically ensuring that the class will not be selected as well.\n",
    "\n",
    "Finally, it is important to note that, while the classfication performance did not change, the histograms show that the density of conditional log probabilities did indeed change for both classes. We see that the distribution seems to have a higher variance with Laplace smoothing as less of the distributions' volume is concentrated in the single highest bin of the histograms.\n",
    "\n",
    "_Note: I only modified the code for the first MapReduce job (the job that fits and outputs the model) to output the model with smoothing; the second MapReduce job is the one developed in 2.3._"
   ]
  },
  {
   "cell_type": "code",
   "execution_count": 43,
   "metadata": {
    "collapsed": false
   },
   "outputs": [
    {
     "name": "stdout",
     "output_type": "stream",
     "text": [
      "Writing mapperhw2_4.py\n"
     ]
    }
   ],
   "source": [
    "%%writefile mapperhw2_4.py\n",
    "#!/usr/bin/python\n",
    "\"\"\"\n",
    "Mapper code for W261 exercise 2.4\n",
    "\"\"\"\n",
    "__author__=\"Carlos Eduardo Rodriguez Castillo\"\n",
    "__email__=\"cerodriguez@berkeley.edu\"\n",
    "\n",
    "## Import relevant libraries\n",
    "import sys\n",
    "import re\n",
    "import json\n",
    "\n",
    "## define mapper initialize function\n",
    "def mapper_initialize():\n",
    "    ## Create record dictionary and initialize values\n",
    "    record_dictionary = {}\n",
    "    record_dictionary[\"SPAM_total_counter\"] = 0\n",
    "    record_dictionary[\"HAM_total_counter\"] = 0\n",
    "    record_dictionary[\"words\"] = {}\n",
    "    return record_dictionary\n",
    "    \n",
    "## define map function\n",
    "def map_function(record):\n",
    "    ## Clean up and decompose record\n",
    "    record = record.strip()\n",
    "    record_parameters = record.split(\"\\t\")\n",
    "    record_id = record_parameters[0]\n",
    "    ## Here we do not error handle as we assume that classes\n",
    "    ## have all been correctly coded\n",
    "    record_class = int(record_parameters[1])\n",
    "    record_document = ' '.join([str(x) for x in record_parameters[2:]])\n",
    "    ## Parse record for spaces, commas (followed by spaces),\n",
    "    ## periods (followed by spaces) and commas\n",
    "    words = filter(None,\n",
    "                  re.split(\"\\s+|[.]\\s+|[,]\\s+|[,]\",\n",
    "                          record_document))\n",
    "    ## Iterating through all the words in the record's document\n",
    "    for word in words:\n",
    "        ## NOTE: operating under the assumption that record_dictionary\n",
    "        ##       is a global variable\n",
    "        ## accessed if the current word is NOT in the record dictionary\n",
    "        if word not in record_dictionary[\"words\"].keys():\n",
    "            ## initialize counters in dictionary for newly encountered word\n",
    "            record_dictionary[\"words\"][word] = {\"SPAM_counter\": 0,\n",
    "                                      \"HAM_counter\": 0}\n",
    "            ## increment counter under the appropriate class\n",
    "            if record_class == 1:\n",
    "                record_dictionary[\"words\"][word][\"SPAM_counter\"] = record_dictionary[\"words\"][word][\"SPAM_counter\"] + 1\n",
    "                record_dictionary[\"SPAM_total_counter\"] = record_dictionary[\"SPAM_total_counter\"] + 1\n",
    "            else:\n",
    "                record_dictionary[\"words\"][word][\"HAM_counter\"] = record_dictionary[\"words\"][word][\"HAM_counter\"] + 1\n",
    "                record_dictionary[\"HAM_total_counter\"] = record_dictionary[\"HAM_total_counter\"] + 1\n",
    "        ## accessed if the current word is IN the record dictionary\n",
    "        else:\n",
    "            ## increment counter under the respective class\n",
    "            if record_class == 1:\n",
    "                record_dictionary[\"words\"][word][\"SPAM_counter\"] = record_dictionary[\"words\"][word][\"SPAM_counter\"] + 1\n",
    "                record_dictionary[\"SPAM_total_counter\"] = record_dictionary[\"SPAM_total_counter\"] + 1\n",
    "            else:\n",
    "                record_dictionary[\"words\"][word][\"HAM_counter\"] = record_dictionary[\"words\"][word][\"HAM_counter\"] + 1\n",
    "                record_dictionary[\"HAM_total_counter\"] = record_dictionary[\"HAM_total_counter\"] + 1\n",
    "    ## emit the record dictionary\n",
    "    ## print record_dictionary\n",
    "if __name__ == \"__main__\":\n",
    "    #record_dictionary = mapper_initialize()\n",
    "    for line in sys.stdin:\n",
    "        record_dictionary = mapper_initialize()\n",
    "        map_function(line)\n",
    "        ## emit the key value pair\n",
    "        print \"model\\t%s\" % json.dumps(record_dictionary)"
   ]
  },
  {
   "cell_type": "code",
   "execution_count": 44,
   "metadata": {
    "collapsed": true
   },
   "outputs": [],
   "source": [
    "!chmod a+x mapperhw2_4.py"
   ]
  },
  {
   "cell_type": "code",
   "execution_count": 61,
   "metadata": {
    "collapsed": false
   },
   "outputs": [
    {
     "name": "stdout",
     "output_type": "stream",
     "text": [
      "Overwriting reducerhw2_4.py\n"
     ]
    }
   ],
   "source": [
    "%%writefile reducerhw2_4.py\n",
    "#!/usr/bin/python\n",
    "\"\"\"\n",
    "Reducer code for W261 exercise 2.4\n",
    "\"\"\"\n",
    "__author__ = \"Carlos Eduardo Rodriguez Castillo\"\n",
    "__email__ = \"cerodriguez@berkeley.edu\"\n",
    "\n",
    "## Import relevant libraries\n",
    "import sys\n",
    "import re\n",
    "import math\n",
    "import json\n",
    "import ast\n",
    "\n",
    "## define reducer initialize function\n",
    "def reducer_initialize():\n",
    "    ## Create record dictionary and initialize values\n",
    "    record_dictionary = {}\n",
    "    record_dictionary[\"SPAM_total_counter\"] = 0\n",
    "    record_dictionary[\"HAM_total_counter\"] = 0\n",
    "    record_dictionary[\"SPAM_unconditional_prob\"] = 0\n",
    "    record_dictionary[\"HAM_unconditional_prob\"] = 0\n",
    "    record_dictionary[\"words\"] = {}\n",
    "    return record_dictionary\n",
    "    \n",
    "## define reduce function\n",
    "def reduce_function(intermediateResult):\n",
    "    ## turn line into JSON object\n",
    "    intermediateResult = intermediateResult.split('\\t')\n",
    "    key = intermediateResult[0]\n",
    "    value = intermediateResult[1]\n",
    "    ## counts JSON object\n",
    "    tempModel = json.dumps(value)\n",
    "    tempModel = json.loads(tempModel)\n",
    "    intermediateModel = ast.literal_eval(tempModel)\n",
    "    ## increment total SPAM and HAM counts respectively\n",
    "    record_dictionary[\"SPAM_total_counter\"] = record_dictionary[\"SPAM_total_counter\"] + intermediateModel[\"SPAM_total_counter\"]\n",
    "    record_dictionary[\"HAM_total_counter\"] = record_dictionary[\"HAM_total_counter\"] + intermediateModel[\"HAM_total_counter\"]\n",
    "    for word in intermediateModel[\"words\"].keys():\n",
    "        ## check to see if the word exists in cumulative dictionary\n",
    "        if word in record_dictionary[\"words\"].keys():\n",
    "            ## word has already been added to the output dictionary\n",
    "            record_dictionary[\"words\"][word][\"SPAM_counter\"] = record_dictionary[\"words\"][word][\"SPAM_counter\"] + intermediateModel[\"words\"][word][\"SPAM_counter\"]\n",
    "            record_dictionary[\"words\"][word][\"HAM_counter\"] = record_dictionary[\"words\"][word][\"HAM_counter\"] + intermediateModel[\"words\"][word][\"HAM_counter\"]\n",
    "        else:\n",
    "            ## word has not been added to the output dictionary\n",
    "            record_dictionary[\"words\"][word] = {\"SPAM_counter\": 0,\n",
    "                                      \"HAM_counter\": 0}\n",
    "            record_dictionary[\"words\"][word][\"SPAM_counter\"] = intermediateModel[\"words\"][word][\"SPAM_counter\"]\n",
    "            record_dictionary[\"words\"][word][\"HAM_counter\"] = intermediateModel[\"words\"][word][\"HAM_counter\"]\n",
    "\n",
    "if __name__ == \"__main__\":\n",
    "    record_dictionary = reducer_initialize()\n",
    "    for line in sys.stdin:\n",
    "        reduce_function(line)\n",
    "    ######################################\n",
    "    ######## +1 Laplace smoothing ########\n",
    "    ######################################\n",
    "    ## in order to implement +1 Laplace smoothing\n",
    "    ## we iterate through the vocabulary and add one\n",
    "    ## to each of the counters for the word in the classes\n",
    "    ## as well as to the underlying total in the classes\n",
    "    for word in record_dictionary[\"words\"].keys():\n",
    "        record_dictionary[\"words\"][word][\"HAM_counter\"] = record_dictionary[\"words\"][word][\"HAM_counter\"] + 1\n",
    "        record_dictionary[\"words\"][word][\"SPAM_counter\"] = record_dictionary[\"words\"][word][\"SPAM_counter\"] + 1\n",
    "        record_dictionary[\"SPAM_total_counter\"] = record_dictionary[\"SPAM_total_counter\"] + 1\n",
    "        record_dictionary[\"HAM_total_counter\"] = record_dictionary[\"HAM_total_counter\"] + 1\n",
    "    ## compute the unconditional probabilities for the classes\n",
    "    record_dictionary[\"SPAM_unconditional_prob\"] = float(record_dictionary[\"SPAM_total_counter\"]) / (float(record_dictionary[\"SPAM_total_counter\"]) + float(record_dictionary[\"HAM_total_counter\"]))\n",
    "    record_dictionary[\"HAM_unconditional_prob\"] = float(record_dictionary[\"HAM_total_counter\"]) / (float(record_dictionary[\"SPAM_total_counter\"]) + float(record_dictionary[\"HAM_total_counter\"]))\n",
    "    ## iterate through vocabulary words to compute conditional probabilities\n",
    "    for word in record_dictionary[\"words\"].keys():\n",
    "        sys.stderr.write(\"reporter:counter:Words,Vocabulary,1\\n\")\n",
    "        record_dictionary[\"words\"][word][\"SPAM_conditional_prob\"] = float(record_dictionary[\"words\"][word][\"SPAM_counter\"]) / float(record_dictionary[\"SPAM_total_counter\"])\n",
    "        record_dictionary[\"words\"][word][\"HAM_conditional_prob\"] = float(record_dictionary[\"words\"][word][\"HAM_counter\"]) / float(record_dictionary[\"HAM_total_counter\"])\n",
    "    print record_dictionary"
   ]
  },
  {
   "cell_type": "code",
   "execution_count": 46,
   "metadata": {
    "collapsed": true
   },
   "outputs": [],
   "source": [
    "!chmod a+x reducerhw2_4.py"
   ]
  },
  {
   "cell_type": "code",
   "execution_count": null,
   "metadata": {
    "collapsed": true
   },
   "outputs": [],
   "source": [
    "!hadoop jar /usr/lib/hadoop-0.20-mapreduce/contrib/streaming/hadoop-streaming-mr1.jar \\\n",
    "-mapper /home/cloudera/w261/HW2/mapperhw2_4.py \\\n",
    "-reducer /home/cloudera/w261/HW2/reducerhw2_4.py \\\n",
    "-input /user/cloudera/w261/hw2/2_3/* \\\n",
    "-output /user/cloudera/w261/hw2/hw2-output-2_4"
   ]
  },
  {
   "cell_type": "raw",
   "metadata": {},
   "source": [
    "packageJobJar: [] [/usr/jars/hadoop-streaming-2.6.0-cdh5.7.0.jar] /tmp/streamjob170020457225380855.jar tmpDir=null\n",
    "16/05/29 08:19:24 INFO client.RMProxy: Connecting to ResourceManager at quickstart.cloudera/10.0.2.15:8032\n",
    "16/05/29 08:19:24 INFO client.RMProxy: Connecting to ResourceManager at quickstart.cloudera/10.0.2.15:8032\n",
    "16/05/29 08:19:25 INFO mapred.FileInputFormat: Total input paths to process : 1\n",
    "16/05/29 08:19:25 INFO mapreduce.JobSubmitter: number of splits:2\n",
    "16/05/29 08:19:25 INFO mapreduce.JobSubmitter: Submitting tokens for job: job_1464465911163_0026\n",
    "16/05/29 08:19:25 INFO impl.YarnClientImpl: Submitted application application_1464465911163_0026\n",
    "16/05/29 08:19:25 INFO mapreduce.Job: The url to track the job: http://quickstart.cloudera:8088/proxy/application_1464465911163_0026/\n",
    "16/05/29 08:19:25 INFO mapreduce.Job: Running job: job_1464465911163_0026\n",
    "16/05/29 08:19:34 INFO mapreduce.Job: Job job_1464465911163_0026 running in uber mode : false\n",
    "16/05/29 08:19:34 INFO mapreduce.Job:  map 0% reduce 0%\n",
    "16/05/29 08:19:46 INFO mapreduce.Job:  map 100% reduce 0%\n",
    "16/05/29 08:19:57 INFO mapreduce.Job:  map 100% reduce 100%\n",
    "16/05/29 08:19:57 INFO mapreduce.Job: Job job_1464465911163_0026 completed successfully\n",
    "16/05/29 08:19:57 INFO mapreduce.Job: Counters: 50\n",
    "\tFile System Counters\n",
    "\t\tFILE: Number of bytes read=142640\n",
    "\t\tFILE: Number of bytes written=643741\n",
    "\t\tFILE: Number of read operations=0\n",
    "\t\tFILE: Number of large read operations=0\n",
    "\t\tFILE: Number of write operations=0\n",
    "\t\tHDFS: Number of bytes read=233667\n",
    "\t\tHDFS: Number of bytes written=952824\n",
    "\t\tHDFS: Number of read operations=9\n",
    "\t\tHDFS: Number of large read operations=0\n",
    "\t\tHDFS: Number of write operations=2\n",
    "\tJob Counters \n",
    "\t\tLaunched map tasks=2\n",
    "\t\tLaunched reduce tasks=1\n",
    "\t\tData-local map tasks=2\n",
    "\t\tTotal time spent by all maps in occupied slots (ms)=2760576\n",
    "\t\tTotal time spent by all reduces in occupied slots (ms)=1024640\n",
    "\t\tTotal time spent by all map tasks (ms)=21567\n",
    "\t\tTotal time spent by all reduce tasks (ms)=8005\n",
    "\t\tTotal vcore-seconds taken by all map tasks=21567\n",
    "\t\tTotal vcore-seconds taken by all reduce tasks=8005\n",
    "\t\tTotal megabyte-seconds taken by all map tasks=2760576\n",
    "\t\tTotal megabyte-seconds taken by all reduce tasks=1024640\n",
    "\tMap-Reduce Framework\n",
    "\t\tMap input records=100\n",
    "\t\tMap output records=100\n",
    "\t\tMap output bytes=797818\n",
    "\t\tMap output materialized bytes=143040\n",
    "\t\tInput split bytes=256\n",
    "\t\tCombine input records=0\n",
    "\t\tCombine output records=0\n",
    "\t\tReduce input groups=1\n",
    "\t\tReduce shuffle bytes=143040\n",
    "\t\tReduce input records=100\n",
    "\t\tReduce output records=1\n",
    "\t\tSpilled Records=200\n",
    "\t\tShuffled Maps =2\n",
    "\t\tFailed Shuffles=0\n",
    "\t\tMerged Map outputs=2\n",
    "\t\tGC time elapsed (ms)=125\n",
    "\t\tCPU time spent (ms)=2010\n",
    "\t\tPhysical memory (bytes) snapshot=392171520\n",
    "\t\tVirtual memory (bytes) snapshot=2098880512\n",
    "\t\tTotal committed heap usage (bytes)=152174592\n",
    "\tShuffle Errors\n",
    "\t\tBAD_ID=0\n",
    "\t\tCONNECTION=0\n",
    "\t\tIO_ERROR=0\n",
    "\t\tWRONG_LENGTH=0\n",
    "\t\tWRONG_MAP=0\n",
    "\t\tWRONG_REDUCE=0\n",
    "\tWords\n",
    "\t\tVocabulary=6477\n",
    "\tFile Input Format Counters \n",
    "\t\tBytes Read=233411\n",
    "\tFile Output Format Counters \n",
    "\t\tBytes Written=952824\n",
    "16/05/29 08:19:57 INFO streaming.StreamJob: Output directory: /user/cloudera/w261/hw2/hw2-output-2_4"
   ]
  },
  {
   "cell_type": "code",
   "execution_count": null,
   "metadata": {
    "collapsed": true
   },
   "outputs": [],
   "source": [
    "!hdfs dfs -cat /user/cloudera/w261/hw2/hw2-output-2_4/part-00000 > output_2_4_0"
   ]
  },
  {
   "cell_type": "code",
   "execution_count": null,
   "metadata": {
    "collapsed": true
   },
   "outputs": [],
   "source": [
    "!hadoop jar /usr/lib/hadoop-0.20-mapreduce/contrib/streaming/hadoop-streaming-mr1.jar \\\n",
    "-files output_2_4_0#model \\\n",
    "-mapper /home/cloudera/w261/HW2/mapperhw2_31.py \\\n",
    "-reducer /home/cloudera/w261/HW2/reducerhw2_31.py \\\n",
    "-input /user/cloudera/w261/hw2/2_3/* \\\n",
    "-output /user/cloudera/w261/hw2/hw2-output-2_4_1"
   ]
  },
  {
   "cell_type": "raw",
   "metadata": {},
   "source": [
    "packageJobJar: [] [/usr/jars/hadoop-streaming-2.6.0-cdh5.7.0.jar] /tmp/streamjob8483876374335345500.jar tmpDir=null\n",
    "16/05/29 08:24:30 INFO client.RMProxy: Connecting to ResourceManager at quickstart.cloudera/10.0.2.15:8032\n",
    "16/05/29 08:24:31 INFO client.RMProxy: Connecting to ResourceManager at quickstart.cloudera/10.0.2.15:8032\n",
    "16/05/29 08:24:31 INFO mapred.FileInputFormat: Total input paths to process : 1\n",
    "16/05/29 08:24:31 INFO mapreduce.JobSubmitter: number of splits:2\n",
    "16/05/29 08:24:32 INFO mapreduce.JobSubmitter: Submitting tokens for job: job_1464465911163_0027\n",
    "16/05/29 08:24:32 INFO impl.YarnClientImpl: Submitted application application_1464465911163_0027\n",
    "16/05/29 08:24:32 INFO mapreduce.Job: The url to track the job: http://quickstart.cloudera:8088/proxy/application_1464465911163_0027/\n",
    "16/05/29 08:24:32 INFO mapreduce.Job: Running job: job_1464465911163_0027\n",
    "16/05/29 08:24:40 INFO mapreduce.Job: Job job_1464465911163_0027 running in uber mode : false\n",
    "16/05/29 08:24:40 INFO mapreduce.Job:  map 0% reduce 0%\n",
    "16/05/29 08:24:58 INFO mapreduce.Job:  map 67% reduce 0%\n",
    "16/05/29 08:25:08 INFO mapreduce.Job:  map 83% reduce 0%\n",
    "16/05/29 08:25:09 INFO mapreduce.Job:  map 100% reduce 0%\n",
    "16/05/29 08:25:19 INFO mapreduce.Job:  map 100% reduce 100%\n",
    "16/05/29 08:25:19 INFO mapreduce.Job: Job job_1464465911163_0027 completed successfully\n",
    "16/05/29 08:25:19 INFO mapreduce.Job: Counters: 50\n",
    "\tFile System Counters\n",
    "\t\tFILE: Number of bytes read=1669\n",
    "\t\tFILE: Number of bytes written=364718\n",
    "\t\tFILE: Number of read operations=0\n",
    "\t\tFILE: Number of large read operations=0\n",
    "\t\tFILE: Number of write operations=0\n",
    "\t\tHDFS: Number of bytes read=233667\n",
    "\t\tHDFS: Number of bytes written=6280\n",
    "\t\tHDFS: Number of read operations=9\n",
    "\t\tHDFS: Number of large read operations=0\n",
    "\t\tHDFS: Number of write operations=2\n",
    "\tJob Counters \n",
    "\t\tLaunched map tasks=2\n",
    "\t\tLaunched reduce tasks=1\n",
    "\t\tData-local map tasks=2\n",
    "\t\tTotal time spent by all maps in occupied slots (ms)=6729728\n",
    "\t\tTotal time spent by all reduces in occupied slots (ms)=902016\n",
    "\t\tTotal time spent by all map tasks (ms)=52576\n",
    "\t\tTotal time spent by all reduce tasks (ms)=7047\n",
    "\t\tTotal vcore-seconds taken by all map tasks=52576\n",
    "\t\tTotal vcore-seconds taken by all reduce tasks=7047\n",
    "\t\tTotal megabyte-seconds taken by all map tasks=6729728\n",
    "\t\tTotal megabyte-seconds taken by all reduce tasks=902016\n",
    "\tMap-Reduce Framework\n",
    "\t\tMap input records=100\n",
    "\t\tMap output records=100\n",
    "\t\tMap output bytes=3012\n",
    "\t\tMap output materialized bytes=1784\n",
    "\t\tInput split bytes=256\n",
    "\t\tCombine input records=0\n",
    "\t\tCombine output records=0\n",
    "\t\tReduce input groups=1\n",
    "\t\tReduce shuffle bytes=1784\n",
    "\t\tReduce input records=100\n",
    "\t\tReduce output records=101\n",
    "\t\tSpilled Records=200\n",
    "\t\tShuffled Maps =2\n",
    "\t\tFailed Shuffles=0\n",
    "\t\tMerged Map outputs=2\n",
    "\t\tGC time elapsed (ms)=222\n",
    "\t\tCPU time spent (ms)=15510\n",
    "\t\tPhysical memory (bytes) snapshot=388440064\n",
    "\t\tVirtual memory (bytes) snapshot=2098880512\n",
    "\t\tTotal committed heap usage (bytes)=152174592\n",
    "\tShuffle Errors\n",
    "\t\tBAD_ID=0\n",
    "\t\tCONNECTION=0\n",
    "\t\tIO_ERROR=0\n",
    "\t\tWRONG_LENGTH=0\n",
    "\t\tWRONG_MAP=0\n",
    "\t\tWRONG_REDUCE=0\n",
    "\tWords\n",
    "\t\tTotal=33008\n",
    "\tFile Input Format Counters \n",
    "\t\tBytes Read=233411\n",
    "\tFile Output Format Counters \n",
    "\t\tBytes Written=6280\n",
    "16/05/29 08:25:19 INFO streaming.StreamJob: Output directory: /user/cloudera/w261/hw2/hw2-output-2_4_1"
   ]
  },
  {
   "cell_type": "code",
   "execution_count": null,
   "metadata": {
    "collapsed": true
   },
   "outputs": [],
   "source": [
    "!hdfs dfs -cat /user/cloudera/w261/hw2/hw2-output-2_4_1/* | \\\n",
    "grep Misclassifcation_error_rate_multinomial_Naive_Bayes_Classifier"
   ]
  },
  {
   "cell_type": "raw",
   "metadata": {},
   "source": [
    "Misclassifcation_error_rate_multinomial_Naive_Bayes_Classifier\t0.00"
   ]
  },
  {
   "cell_type": "code",
   "execution_count": 94,
   "metadata": {
    "collapsed": false
   },
   "outputs": [
    {
     "data": {
      "image/png": "[encoded data removed]",
      "text/plain": [
       "<matplotlib.figure.Figure at 0x57c6510>"
      ]
     },
     "metadata": {},
     "output_type": "display_data"
    },
    {
     "data": {
      "image/png": "[encoded data removed]",
      "text/plain": [
       "<matplotlib.figure.Figure at 0x6a19f10>"
      ]
     },
     "metadata": {},
     "output_type": "display_data"
    }
   ],
   "source": [
    "%matplotlib inline\n",
    "\"\"\"\n",
    "Reducer code for W261 exercise 2.3\n",
    "\"\"\"\n",
    "__author__=\"Carlos Eduardo Rodriguez Castillo\"\n",
    "__email__=\"cerodriguez@berkeley.edu\"\n",
    "\n",
    "import numpy as np\n",
    "import matplotlib.mlab as mlab\n",
    "import matplotlib.pyplot as plt\n",
    "import sys\n",
    "\n",
    "SPAM_log_probs = []\n",
    "HAM_log_probs = []\n",
    "\n",
    "f = open('hw2-output-2_4_1','r')\n",
    "for line in f:\n",
    "    line = line.strip()\n",
    "    line_components = line.split(\"\\t\")\n",
    "    if line_components[0] == \"HAM_log_prob_cond_doc\":\n",
    "        SPAM_log_probs.extend([float(line_components[3])])\n",
    "        HAM_log_probs.extend([float(line_components[1])])\n",
    "        \n",
    "plt.figure(1)\n",
    "SPAM_log_probs_n, SPAM_log_probs_bins, SPAM_log_probs_patches = plt.hist(SPAM_log_probs, 50, facecolor='blue')\n",
    "plt.xlabel('Conditional Log Probability')\n",
    "plt.ylabel('Counts')\n",
    "plt.title(r'$\\mathrm{Histogram\\ of\\ SPAM\\ Conditional\\ Log\\ Probabilities}$')\n",
    "plt.grid(True)\n",
    "plt.figure(2)\n",
    "HAM_log_probs_n, HAM_log_probs_bins, HAM_log_probs_patches = plt.hist(HAM_log_probs, 50, facecolor='gray')\n",
    "plt.xlabel('Conditional Log Probability')\n",
    "plt.ylabel('Counts')\n",
    "plt.title(r'$\\mathrm{Histogram\\ of\\ HAM\\ Conditional\\ Log\\ Probabilities}$')\n",
    "plt.grid(True)\n",
    "plt.show()"
   ]
  },
  {
   "cell_type": "markdown",
   "metadata": {},
   "source": [
    "#### HW2.5"
   ]
  },
  {
   "cell_type": "markdown",
   "metadata": {},
   "source": [
    "_Repeat HW2.4. This time when modeling and classification ignore tokens with a frequency of less than three (3) in the training set. How does it affect the misclassifcation error of learnt naive multinomial Bayesian Classifier on the training dataset. Report the error and the change in error. HINT: ignore tokens with a frequency of less than three (3). Think of this as a preprocessing step. How many mapreduce jobs do you need to solve this homework?_\n",
    "\n",
    "__ANSWER:__\n",
    "\n",
    "__The misclassification error rate of the learnt multinomial naive bayes classifier is 6%__; this is a significant degradation from the 0% misclassification error rate that we recorded in parts 2.3 and 2.4.\n",
    "\n",
    "This homework exercise can be resolved with two MapReduce jobs like the classification exercises encountered earlier in the homework assignment. The work of removing words with frequencies less than three (and adjusting total counts of words in the respective classes appropriately) is done in the reduce phase of the model fitting MapReduce job (once the model has been computed I run through it again and adjust it for frequency floor).\n",
    "\n",
    "As far as the histograms are concerned, they follow similar trends to those in 2.4; the histograms show that the density of conditional log probabilities did indeed change for both classes from what we observed in 2.3 (but not so much from what is observed in 2.4). We see that the distribution seems to have a higher variance with Laplace smoothing and a frequency floor of 3 as less of the distributions' volume is concentrated in the single highest bin of the histograms.\n",
    "\n",
    "_Note: I only modified the code for the first MapReduce job (the job that fits and outputs the model) to output the model with a vocabulary that ignores words with a frequency that is smaller than three in the corpus; the second MapReduce job is the one developed in 2.3._"
   ]
  },
  {
   "cell_type": "code",
   "execution_count": 70,
   "metadata": {
    "collapsed": false
   },
   "outputs": [
    {
     "name": "stdout",
     "output_type": "stream",
     "text": [
      "Writing mapperhw2_5.py\n"
     ]
    }
   ],
   "source": [
    "%%writefile mapperhw2_5.py\n",
    "#!/usr/bin/python\n",
    "\"\"\"\n",
    "Mapper code for W261 exercise 2.5\n",
    "\"\"\"\n",
    "__author__=\"Carlos Eduardo Rodriguez Castillo\"\n",
    "__email__=\"cerodriguez@berkeley.edu\"\n",
    "\n",
    "## Import relevant libraries\n",
    "import sys\n",
    "import re\n",
    "import json\n",
    "\n",
    "## define mapper initialize function\n",
    "def mapper_initialize():\n",
    "    ## Create record dictionary and initialize values\n",
    "    record_dictionary = {}\n",
    "    record_dictionary[\"SPAM_total_counter\"] = 0\n",
    "    record_dictionary[\"HAM_total_counter\"] = 0\n",
    "    record_dictionary[\"words\"] = {}\n",
    "    return record_dictionary\n",
    "    \n",
    "## define map function\n",
    "def map_function(record):\n",
    "    ## Clean up and decompose record\n",
    "    record = record.strip()\n",
    "    record_parameters = record.split(\"\\t\")\n",
    "    record_id = record_parameters[0]\n",
    "    ## Here we do not error handle as we assume that classes\n",
    "    ## have all been correctly coded\n",
    "    record_class = int(record_parameters[1])\n",
    "    record_document = ' '.join([str(x) for x in record_parameters[2:]])\n",
    "    ## Parse record for spaces, commas (followed by spaces),\n",
    "    ## periods (followed by spaces) and commas\n",
    "    words = filter(None,\n",
    "                  re.split(\"\\s+|[.]\\s+|[,]\\s+|[,]\",\n",
    "                          record_document))\n",
    "    ## Iterating through all the words in the record's document\n",
    "    for word in words:\n",
    "        ## NOTE: operating under the assumption that record_dictionary\n",
    "        ##       is a global variable\n",
    "        ## accessed if the current word is NOT in the record dictionary\n",
    "        if word not in record_dictionary[\"words\"].keys():\n",
    "            ## initialize counters in dictionary for newly encountered word\n",
    "            record_dictionary[\"words\"][word] = {\"SPAM_counter\": 0,\n",
    "                                      \"HAM_counter\": 0}\n",
    "            ## increment counter under the appropriate class\n",
    "            if record_class == 1:\n",
    "                record_dictionary[\"words\"][word][\"SPAM_counter\"] = record_dictionary[\"words\"][word][\"SPAM_counter\"] + 1\n",
    "                record_dictionary[\"SPAM_total_counter\"] = record_dictionary[\"SPAM_total_counter\"] + 1\n",
    "            else:\n",
    "                record_dictionary[\"words\"][word][\"HAM_counter\"] = record_dictionary[\"words\"][word][\"HAM_counter\"] + 1\n",
    "                record_dictionary[\"HAM_total_counter\"] = record_dictionary[\"HAM_total_counter\"] + 1\n",
    "        ## accessed if the current word is IN the record dictionary\n",
    "        else:\n",
    "            ## increment counter under the respective class\n",
    "            if record_class == 1:\n",
    "                record_dictionary[\"words\"][word][\"SPAM_counter\"] = record_dictionary[\"words\"][word][\"SPAM_counter\"] + 1\n",
    "                record_dictionary[\"SPAM_total_counter\"] = record_dictionary[\"SPAM_total_counter\"] + 1\n",
    "            else:\n",
    "                record_dictionary[\"words\"][word][\"HAM_counter\"] = record_dictionary[\"words\"][word][\"HAM_counter\"] + 1\n",
    "                record_dictionary[\"HAM_total_counter\"] = record_dictionary[\"HAM_total_counter\"] + 1\n",
    "    ## emit the record dictionary\n",
    "    ## print record_dictionary\n",
    "if __name__ == \"__main__\":\n",
    "    #record_dictionary = mapper_initialize()\n",
    "    for line in sys.stdin:\n",
    "        record_dictionary = mapper_initialize()\n",
    "        map_function(line)\n",
    "        ## emit the key value pair\n",
    "        print \"model\\t%s\" % json.dumps(record_dictionary)"
   ]
  },
  {
   "cell_type": "code",
   "execution_count": 71,
   "metadata": {
    "collapsed": true
   },
   "outputs": [],
   "source": [
    "!chmod a+x mapperhw2_5.py"
   ]
  },
  {
   "cell_type": "code",
   "execution_count": 74,
   "metadata": {
    "collapsed": false
   },
   "outputs": [
    {
     "name": "stdout",
     "output_type": "stream",
     "text": [
      "Writing reducerhw2_5.py\n"
     ]
    }
   ],
   "source": [
    "%%writefile reducerhw2_5.py\n",
    "#!/usr/bin/python\n",
    "\"\"\"\n",
    "Reducer code for W261 exercise 2.5\n",
    "\"\"\"\n",
    "__author__ = \"Carlos Eduardo Rodriguez Castillo\"\n",
    "__email__ = \"cerodriguez@berkeley.edu\"\n",
    "\n",
    "## Import relevant libraries\n",
    "import sys\n",
    "import re\n",
    "import math\n",
    "import json\n",
    "import ast\n",
    "\n",
    "## define reducer initialize function\n",
    "def reducer_initialize():\n",
    "    ## Create record dictionary and initialize values\n",
    "    record_dictionary = {}\n",
    "    record_dictionary[\"SPAM_total_counter\"] = 0\n",
    "    record_dictionary[\"HAM_total_counter\"] = 0\n",
    "    record_dictionary[\"SPAM_unconditional_prob\"] = 0\n",
    "    record_dictionary[\"HAM_unconditional_prob\"] = 0\n",
    "    record_dictionary[\"words\"] = {}\n",
    "    return record_dictionary\n",
    "    \n",
    "## define reduce function\n",
    "def reduce_function(intermediateResult):\n",
    "    ## turn line into JSON object\n",
    "    intermediateResult = intermediateResult.split('\\t')\n",
    "    key = intermediateResult[0]\n",
    "    value = intermediateResult[1]\n",
    "    ## counts JSON object\n",
    "    tempModel = json.dumps(value)\n",
    "    tempModel = json.loads(tempModel)\n",
    "    intermediateModel = ast.literal_eval(tempModel)\n",
    "    ## increment total SPAM and HAM counts respectively\n",
    "    record_dictionary[\"SPAM_total_counter\"] = record_dictionary[\"SPAM_total_counter\"] + intermediateModel[\"SPAM_total_counter\"]\n",
    "    record_dictionary[\"HAM_total_counter\"] = record_dictionary[\"HAM_total_counter\"] + intermediateModel[\"HAM_total_counter\"]\n",
    "    for word in intermediateModel[\"words\"].keys():\n",
    "        ## check to see if the word exists in cumulative dictionary\n",
    "        if word in record_dictionary[\"words\"].keys():\n",
    "            ## word has already been added to the output dictionary\n",
    "            record_dictionary[\"words\"][word][\"SPAM_counter\"] = record_dictionary[\"words\"][word][\"SPAM_counter\"] + intermediateModel[\"words\"][word][\"SPAM_counter\"]\n",
    "            record_dictionary[\"words\"][word][\"HAM_counter\"] = record_dictionary[\"words\"][word][\"HAM_counter\"] + intermediateModel[\"words\"][word][\"HAM_counter\"]\n",
    "        else:\n",
    "            ## word has not been added to the output dictionary\n",
    "            record_dictionary[\"words\"][word] = {\"SPAM_counter\": 0,\n",
    "                                      \"HAM_counter\": 0}\n",
    "            record_dictionary[\"words\"][word][\"SPAM_counter\"] = intermediateModel[\"words\"][word][\"SPAM_counter\"]\n",
    "            record_dictionary[\"words\"][word][\"HAM_counter\"] = intermediateModel[\"words\"][word][\"HAM_counter\"]\n",
    "\n",
    "if __name__ == \"__main__\":\n",
    "    record_dictionary = reducer_initialize()\n",
    "    for line in sys.stdin:\n",
    "        reduce_function(line)\n",
    "    ###########################################\n",
    "    # Removing words with frequency 2 or less #\n",
    "    ###########################################\n",
    "    ## we go through every word in the vocabulary\n",
    "    ## if it has a frequency of 2 or less\n",
    "    ## the word is removed from the vocabulary\n",
    "    ## and its frequency is subtracted from the total for the class\n",
    "    for word in record_dictionary[\"words\"].keys():\n",
    "        total_frequency = record_dictionary[\"words\"][word][\"HAM_counter\"] + record_dictionary[\"words\"][word][\"SPAM_counter\"]\n",
    "        if total_frequency <= 2:\n",
    "            record_dictionary[\"HAM_total_counter\"] = record_dictionary[\"HAM_total_counter\"] - record_dictionary[\"words\"][word][\"HAM_counter\"]\n",
    "            record_dictionary[\"SPAM_total_counter\"] = record_dictionary[\"SPAM_total_counter\"] - record_dictionary[\"words\"][word][\"SPAM_counter\"]\n",
    "            record_dictionary[\"words\"].pop(word, 0)   \n",
    "    \n",
    "    ######################################\n",
    "    ######## +1 Laplace smoothing ########\n",
    "    ######################################\n",
    "    ## in order to implement +1 Laplace smoothing\n",
    "    ## we iterate through the vocabulary and add one\n",
    "    ## to each of the counters for the word in the classes\n",
    "    ## as well as to the underlying total in the classes\n",
    "    for word in record_dictionary[\"words\"].keys():\n",
    "        record_dictionary[\"words\"][word][\"HAM_counter\"] = record_dictionary[\"words\"][word][\"HAM_counter\"] + 1\n",
    "        record_dictionary[\"words\"][word][\"SPAM_counter\"] = record_dictionary[\"words\"][word][\"SPAM_counter\"] + 1\n",
    "        record_dictionary[\"SPAM_total_counter\"] = record_dictionary[\"SPAM_total_counter\"] + 1\n",
    "        record_dictionary[\"HAM_total_counter\"] = record_dictionary[\"HAM_total_counter\"] + 1\n",
    "    ## compute the unconditional probabilities for the classes\n",
    "    record_dictionary[\"SPAM_unconditional_prob\"] = float(record_dictionary[\"SPAM_total_counter\"]) / (float(record_dictionary[\"SPAM_total_counter\"]) + float(record_dictionary[\"HAM_total_counter\"]))\n",
    "    record_dictionary[\"HAM_unconditional_prob\"] = float(record_dictionary[\"HAM_total_counter\"]) / (float(record_dictionary[\"SPAM_total_counter\"]) + float(record_dictionary[\"HAM_total_counter\"]))\n",
    "    ## iterate through vocabulary words to compute conditional probabilities\n",
    "    for word in record_dictionary[\"words\"].keys():\n",
    "        sys.stderr.write(\"reporter:counter:Words,Vocabulary,1\\n\")\n",
    "        record_dictionary[\"words\"][word][\"SPAM_conditional_prob\"] = float(record_dictionary[\"words\"][word][\"SPAM_counter\"]) / float(record_dictionary[\"SPAM_total_counter\"])\n",
    "        record_dictionary[\"words\"][word][\"HAM_conditional_prob\"] = float(record_dictionary[\"words\"][word][\"HAM_counter\"]) / float(record_dictionary[\"HAM_total_counter\"])\n",
    "    print record_dictionary"
   ]
  },
  {
   "cell_type": "code",
   "execution_count": 75,
   "metadata": {
    "collapsed": false
   },
   "outputs": [],
   "source": [
    "!chmod a+x reducerhw2_5.py"
   ]
  },
  {
   "cell_type": "code",
   "execution_count": null,
   "metadata": {
    "collapsed": true
   },
   "outputs": [],
   "source": [
    "!hadoop jar /usr/lib/hadoop-0.20-mapreduce/contrib/streaming/hadoop-streaming-mr1.jar \\\n",
    "-mapper /home/cloudera/w261/HW2/mapperhw2_5.py \\\n",
    "-reducer /home/cloudera/w261/HW2/reducerhw2_5.py \\\n",
    "-input /user/cloudera/w261/hw2/2_3/* \\\n",
    "-output /user/cloudera/w261/hw2/hw2-output-2_5"
   ]
  },
  {
   "cell_type": "raw",
   "metadata": {},
   "source": [
    "packageJobJar: [] [/usr/jars/hadoop-streaming-2.6.0-cdh5.7.0.jar] /tmp/streamjob7714550961552786801.jar tmpDir=null\n",
    "16/05/29 08:37:59 INFO client.RMProxy: Connecting to ResourceManager at quickstart.cloudera/10.0.2.15:8032\n",
    "16/05/29 08:38:00 INFO client.RMProxy: Connecting to ResourceManager at quickstart.cloudera/10.0.2.15:8032\n",
    "16/05/29 08:38:00 INFO mapred.FileInputFormat: Total input paths to process : 1\n",
    "16/05/29 08:38:01 INFO mapreduce.JobSubmitter: number of splits:2\n",
    "16/05/29 08:38:01 INFO mapreduce.JobSubmitter: Submitting tokens for job: job_1464465911163_0028\n",
    "16/05/29 08:38:01 INFO impl.YarnClientImpl: Submitted application application_1464465911163_0028\n",
    "16/05/29 08:38:01 INFO mapreduce.Job: The url to track the job: http://quickstart.cloudera:8088/proxy/application_1464465911163_0028/\n",
    "16/05/29 08:38:01 INFO mapreduce.Job: Running job: job_1464465911163_0028\n",
    "16/05/29 08:38:10 INFO mapreduce.Job: Job job_1464465911163_0028 running in uber mode : false\n",
    "16/05/29 08:38:10 INFO mapreduce.Job:  map 0% reduce 0%\n",
    "16/05/29 08:38:22 INFO mapreduce.Job:  map 100% reduce 0%\n",
    "16/05/29 08:38:32 INFO mapreduce.Job:  map 100% reduce 100%\n",
    "16/05/29 08:38:32 INFO mapreduce.Job: Job job_1464465911163_0028 completed successfully\n",
    "16/05/29 08:38:32 INFO mapreduce.Job: Counters: 50\n",
    "\tFile System Counters\n",
    "\t\tFILE: Number of bytes read=142640\n",
    "\t\tFILE: Number of bytes written=643744\n",
    "\t\tFILE: Number of read operations=0\n",
    "\t\tFILE: Number of large read operations=0\n",
    "\t\tFILE: Number of write operations=0\n",
    "\t\tHDFS: Number of bytes read=233667\n",
    "\t\tHDFS: Number of bytes written=271604\n",
    "\t\tHDFS: Number of read operations=9\n",
    "\t\tHDFS: Number of large read operations=0\n",
    "\t\tHDFS: Number of write operations=2\n",
    "\tJob Counters \n",
    "\t\tLaunched map tasks=2\n",
    "\t\tLaunched reduce tasks=1\n",
    "\t\tData-local map tasks=2\n",
    "\t\tTotal time spent by all maps in occupied slots (ms)=2715776\n",
    "\t\tTotal time spent by all reduces in occupied slots (ms)=934656\n",
    "\t\tTotal time spent by all map tasks (ms)=21217\n",
    "\t\tTotal time spent by all reduce tasks (ms)=7302\n",
    "\t\tTotal vcore-seconds taken by all map tasks=21217\n",
    "\t\tTotal vcore-seconds taken by all reduce tasks=7302\n",
    "\t\tTotal megabyte-seconds taken by all map tasks=2715776\n",
    "\t\tTotal megabyte-seconds taken by all reduce tasks=934656\n",
    "\tMap-Reduce Framework\n",
    "\t\tMap input records=100\n",
    "\t\tMap output records=100\n",
    "\t\tMap output bytes=797818\n",
    "\t\tMap output materialized bytes=143040\n",
    "\t\tInput split bytes=256\n",
    "\t\tCombine input records=0\n",
    "\t\tCombine output records=0\n",
    "\t\tReduce input groups=1\n",
    "\t\tReduce shuffle bytes=143040\n",
    "\t\tReduce input records=100\n",
    "\t\tReduce output records=1\n",
    "\t\tSpilled Records=200\n",
    "\t\tShuffled Maps =2\n",
    "\t\tFailed Shuffles=0\n",
    "\t\tMerged Map outputs=2\n",
    "\t\tGC time elapsed (ms)=164\n",
    "\t\tCPU time spent (ms)=1810\n",
    "\t\tPhysical memory (bytes) snapshot=397209600\n",
    "\t\tVirtual memory (bytes) snapshot=2098704384\n",
    "\t\tTotal committed heap usage (bytes)=152174592\n",
    "\tShuffle Errors\n",
    "\t\tBAD_ID=0\n",
    "\t\tCONNECTION=0\n",
    "\t\tIO_ERROR=0\n",
    "\t\tWRONG_LENGTH=0\n",
    "\t\tWRONG_MAP=0\n",
    "\t\tWRONG_REDUCE=0\n",
    "\tWords\n",
    "\t\tVocabulary=1853\n",
    "\tFile Input Format Counters \n",
    "\t\tBytes Read=233411\n",
    "\tFile Output Format Counters \n",
    "\t\tBytes Written=271604\n",
    "16/05/29 08:38:32 INFO streaming.StreamJob: Output directory: /user/cloudera/w261/hw2/hw2-output-2_5"
   ]
  },
  {
   "cell_type": "code",
   "execution_count": null,
   "metadata": {
    "collapsed": true
   },
   "outputs": [],
   "source": [
    "!hdfs dfs -cat /user/cloudera/w261/hw2/hw2-output-2_5/* > output_2_5_0"
   ]
  },
  {
   "cell_type": "code",
   "execution_count": null,
   "metadata": {
    "collapsed": true
   },
   "outputs": [],
   "source": [
    "!hdfs dfs -rm -r /user/cloudera/w261/hw2/hw2-output-2_5_1\n",
    "!hadoop jar /usr/lib/hadoop-0.20-mapreduce/contrib/streaming/hadoop-streaming-mr1.jar \\\n",
    "-files output_2_5_0#model \\\n",
    "-mapper /home/cloudera/w261/HW2/mapperhw2_31.py \\\n",
    "-reducer /home/cloudera/w261/HW2/reducerhw2_31.py \\\n",
    "-input /user/cloudera/w261/hw2/2_3/* \\\n",
    "-output /user/cloudera/w261/hw2/hw2-output-2_5_1"
   ]
  },
  {
   "cell_type": "raw",
   "metadata": {},
   "source": [
    "packageJobJar: [] [/usr/jars/hadoop-streaming-2.6.0-cdh5.7.0.jar] /tmp/streamjob8584240790524558283.jar tmpDir=null\n",
    "16/05/29 08:45:52 INFO client.RMProxy: Connecting to ResourceManager at quickstart.cloudera/10.0.2.15:8032\n",
    "16/05/29 08:45:52 INFO client.RMProxy: Connecting to ResourceManager at quickstart.cloudera/10.0.2.15:8032\n",
    "16/05/29 08:45:53 INFO mapred.FileInputFormat: Total input paths to process : 1\n",
    "16/05/29 08:45:53 INFO mapreduce.JobSubmitter: number of splits:2\n",
    "16/05/29 08:45:53 INFO mapreduce.JobSubmitter: Submitting tokens for job: job_1464465911163_0030\n",
    "16/05/29 08:45:54 INFO impl.YarnClientImpl: Submitted application application_1464465911163_0030\n",
    "16/05/29 08:45:54 INFO mapreduce.Job: The url to track the job: http://quickstart.cloudera:8088/proxy/application_1464465911163_0030/\n",
    "16/05/29 08:45:54 INFO mapreduce.Job: Running job: job_1464465911163_0030\n",
    "16/05/29 08:46:02 INFO mapreduce.Job: Job job_1464465911163_0030 running in uber mode : false\n",
    "16/05/29 08:46:02 INFO mapreduce.Job:  map 0% reduce 0%\n",
    "16/05/29 08:46:18 INFO mapreduce.Job:  map 100% reduce 0%\n",
    "16/05/29 08:46:27 INFO mapreduce.Job:  map 100% reduce 100%\n",
    "16/05/29 08:46:27 INFO mapreduce.Job: Job job_1464465911163_0030 completed successfully\n",
    "16/05/29 08:46:27 INFO mapreduce.Job: Counters: 50\n",
    "\tFile System Counters\n",
    "\t\tFILE: Number of bytes read=1684\n",
    "\t\tFILE: Number of bytes written=364757\n",
    "\t\tFILE: Number of read operations=0\n",
    "\t\tFILE: Number of large read operations=0\n",
    "\t\tFILE: Number of write operations=0\n",
    "\t\tHDFS: Number of bytes read=233667\n",
    "\t\tHDFS: Number of bytes written=6242\n",
    "\t\tHDFS: Number of read operations=9\n",
    "\t\tHDFS: Number of large read operations=0\n",
    "\t\tHDFS: Number of write operations=2\n",
    "\tJob Counters \n",
    "\t\tLaunched map tasks=2\n",
    "\t\tLaunched reduce tasks=1\n",
    "\t\tData-local map tasks=2\n",
    "\t\tTotal time spent by all maps in occupied slots (ms)=3561856\n",
    "\t\tTotal time spent by all reduces in occupied slots (ms)=696960\n",
    "\t\tTotal time spent by all map tasks (ms)=27827\n",
    "\t\tTotal time spent by all reduce tasks (ms)=5445\n",
    "\t\tTotal vcore-seconds taken by all map tasks=27827\n",
    "\t\tTotal vcore-seconds taken by all reduce tasks=5445\n",
    "\t\tTotal megabyte-seconds taken by all map tasks=3561856\n",
    "\t\tTotal megabyte-seconds taken by all reduce tasks=696960\n",
    "\tMap-Reduce Framework\n",
    "\t\tMap input records=100\n",
    "\t\tMap output records=100\n",
    "\t\tMap output bytes=2974\n",
    "\t\tMap output materialized bytes=1808\n",
    "\t\tInput split bytes=256\n",
    "\t\tCombine input records=0\n",
    "\t\tCombine output records=0\n",
    "\t\tReduce input groups=1\n",
    "\t\tReduce shuffle bytes=1808\n",
    "\t\tReduce input records=100\n",
    "\t\tReduce output records=101\n",
    "\t\tSpilled Records=200\n",
    "\t\tShuffled Maps =2\n",
    "\t\tFailed Shuffles=0\n",
    "\t\tMerged Map outputs=2\n",
    "\t\tGC time elapsed (ms)=146\n",
    "\t\tCPU time spent (ms)=3110\n",
    "\t\tPhysical memory (bytes) snapshot=400072704\n",
    "\t\tVirtual memory (bytes) snapshot=2098704384\n",
    "\t\tTotal committed heap usage (bytes)=152174592\n",
    "\tShuffle Errors\n",
    "\t\tBAD_ID=0\n",
    "\t\tCONNECTION=0\n",
    "\t\tIO_ERROR=0\n",
    "\t\tWRONG_LENGTH=0\n",
    "\t\tWRONG_MAP=0\n",
    "\t\tWRONG_REDUCE=0\n",
    "\tWords\n",
    "\t\tTotal=33008\n",
    "\tFile Input Format Counters \n",
    "\t\tBytes Read=233411\n",
    "\tFile Output Format Counters \n",
    "\t\tBytes Written=6242\n",
    "16/05/29 08:46:27 INFO streaming.StreamJob: Output directory: /user/cloudera/w261/hw2/hw2-output-2_5_1"
   ]
  },
  {
   "cell_type": "code",
   "execution_count": null,
   "metadata": {
    "collapsed": true
   },
   "outputs": [],
   "source": [
    "hdfs dfs -cat /user/cloudera/w261/hw2/hw2-output-2_5_1/* | \\\n",
    "grep Misclassifcation_error_rate_multinomial_Naive_Bayes_Classifier"
   ]
  },
  {
   "cell_type": "raw",
   "metadata": {},
   "source": [
    "Misclassifcation_error_rate_multinomial_Naive_Bayes_Classifier\t0.06"
   ]
  },
  {
   "cell_type": "code",
   "execution_count": 95,
   "metadata": {
    "collapsed": false
   },
   "outputs": [
    {
     "data": {
      "image/png": "[encoded data removed]",
      "text/plain": [
       "<matplotlib.figure.Figure at 0x2c87590>"
      ]
     },
     "metadata": {},
     "output_type": "display_data"
    },
    {
     "data": {
      "image/png": "[encoded data removed]",
      "text/plain": [
       "<matplotlib.figure.Figure at 0x53f3b90>"
      ]
     },
     "metadata": {},
     "output_type": "display_data"
    }
   ],
   "source": [
    "%matplotlib inline\n",
    "\"\"\"\n",
    "Histograms code for W261 exercise 2.5\n",
    "\"\"\"\n",
    "__author__=\"Carlos Eduardo Rodriguez Castillo\"\n",
    "__email__=\"cerodriguez@berkeley.edu\"\n",
    "\n",
    "import numpy as np\n",
    "import matplotlib.mlab as mlab\n",
    "import matplotlib.pyplot as plt\n",
    "import sys\n",
    "\n",
    "SPAM_log_probs = []\n",
    "HAM_log_probs = []\n",
    "\n",
    "f = open('hw2-output-2_5','r')\n",
    "for line in f:\n",
    "    line = line.strip()\n",
    "    line_components = line.split(\"\\t\")\n",
    "    if line_components[0] == \"HAM_log_prob_cond_doc\":\n",
    "        SPAM_log_probs.extend([float(line_components[3])])\n",
    "        HAM_log_probs.extend([float(line_components[1])])\n",
    "        \n",
    "plt.figure(1)\n",
    "SPAM_log_probs_n, SPAM_log_probs_bins, SPAM_log_probs_patches = plt.hist(SPAM_log_probs, 50, facecolor='blue')\n",
    "plt.xlabel('Conditional Log Probability')\n",
    "plt.ylabel('Counts')\n",
    "plt.title(r'$\\mathrm{Histogram\\ of\\ SPAM\\ Conditional\\ Log\\ Probabilities}$')\n",
    "plt.grid(True)\n",
    "plt.figure(2)\n",
    "HAM_log_probs_n, HAM_log_probs_bins, HAM_log_probs_patches = plt.hist(HAM_log_probs, 50, facecolor='gray')\n",
    "plt.xlabel('Conditional Log Probability')\n",
    "plt.ylabel('Counts')\n",
    "plt.title(r'$\\mathrm{Histogram\\ of\\ HAM\\ Conditional\\ Log\\ Probabilities}$')\n",
    "plt.grid(True)\n",
    "plt.show()"
   ]
  },
  {
   "cell_type": "markdown",
   "metadata": {},
   "source": [
    "#### HW2.6 Benchmark your code"
   ]
  },
  {
   "cell_type": "markdown",
   "metadata": {},
   "source": [
    "Benchmark your code with the Python SciKit-Learn implementation of the multinomial Naive Bayes algorithm\n",
    "\n",
    "It always a good idea to benchmark your solutions against publicly available libraries such as SciKit-Learn, The Machine Learning toolkit available in Python. In this exercise, we benchmark ourselves against the SciKit-Learn implementation of multinomial Naive Bayes.  For more information on this implementation see: http://scikit-learn.org/stable/modules/naive_bayes.html\n",
    "\n",
    "In this exercise, please complete the following:\n",
    "\n",
    "- Run the Multinomial Naive Bayes algorithm (using default settings) from SciKit-Learn over the same training data used in HW2.5 and report the misclassification error (please note some data preparation might be needed to get the Multinomial Naive Bayes algorithm from SkiKit-Learn to run over this dataset)\n",
    "- Prepare a table to present your results, where rows correspond to approach used (SkiKit-Learn versus your Hadoop implementation) and the column presents the training misclassification error\n",
    "- Explain/justify any differences in terms of training error rates over the dataset in HW2.5 between your Multinomial Naive Bayes implementation (in Map Reduce) versus the Multinomial Naive Bayes implementation in SciKit-Learn\n",
    "\n",
    "__ANSWER:__\n",
    "\n",
    "Running the multinomial naive bayes algorithm with default settings from SciKit-Learn over the training data we obtain a misclassification rate of 0%.\n",
    "\n",
    "While on paper these results are indicative of our freqency floor algorithm being inferior to the SciKit-Learn standard implementations, I have trouble interpretting the results seriously as we are training and testing on the same dataset, which inherently results in overly optimistic results as we learned in weeks 1 and 2. Moreover, we have the same performnce as SciKit-Learn in the vanilla and Laplace +1 smoothing cases.\n",
    "\n",
    "I believe that the difference in the training error rates between my MapReduce multinomial naive bayes implementation and the multinomial naive bayes implementation in SciKit-Learn is that, once we introduce pre-processing in the form of a floor frequency of three, we are fundamentally departing from the default settings of training the model. Particularly, I believe that removing relatively rare words can have a significant effect in accuracy because of my assumption that these words could very well be in a single class due to their low frequency (less chances to be in both classes).\n",
    "\n",
    "See below for a table comparing resutls:\n",
    "\n",
    "|Model|Misclassification error rate|\n",
    "|---|---|\n",
    "|SciKit-Learn multinomial naive bayes (default settings)|0%|\n",
    "|MapReduce multinomial naive bayes|0%|\n",
    "|MapReduce multinomial naive bayes (Laplace +1 smoothing)|0%|\n",
    "|MapReduce multinomial naive bayes (Laplace +1 smoothing and frequency floor = 3)|6%|"
   ]
  },
  {
   "cell_type": "code",
   "execution_count": 85,
   "metadata": {
    "collapsed": false
   },
   "outputs": [
    {
     "name": "stdout",
     "output_type": "stream",
     "text": [
      "ANSWER:\n",
      "HW1.6 A. Multinomial Naive Bayes algorithm (using default settings)\n",
      "The training error is 0.00\n",
      "HW1.6 B. Bernoulli Naive Bayes algorithm (using default settings)\n",
      "The training error is 0.00\n",
      "HW1.6 C. From the results in HW1.5 we see that the training error for the Multinomial NB is 3%\n"
     ]
    }
   ],
   "source": [
    "import numpy as np\n",
    "\n",
    "from sklearn.naive_bayes import MultinomialNB, BernoulliNB\n",
    "\n",
    "# SK-learn libraries for evaluation.\n",
    "from sklearn.metrics import confusion_matrix\n",
    "from sklearn import metrics\n",
    "from sklearn.metrics import classification_report\n",
    "\n",
    "# SK-learn library for importing the newsgroup data.\n",
    "from sklearn.datasets import fetch_20newsgroups\n",
    "\n",
    "# SK-learn libraries for feature extraction from text.\n",
    "from sklearn.feature_extraction.text import *\n",
    "\n",
    "import sys\n",
    "import re\n",
    "import logging\n",
    "import pprint\n",
    "from math import log\n",
    "\n",
    "## setting up logger\n",
    "logging_directory_path = '/home/crodriguez1/W261/HW1/log'\n",
    "logging_file = logging_directory_path + \"/\" + 'sklearn_log.log'\n",
    "log_format = '%(levelname)s\\n%(asctime)s.%(msecs)-3d filename:%(filename)-20s line:%(lineno)-5d \\n%(message)s\\n\\n'\n",
    "log_date_format = '%H:%M:%S'\n",
    "logging.basicConfig(filename = logging_file,\n",
    "    stream = sys.stderr,\n",
    "    level = logging.DEBUG,\n",
    "    format = log_format,\n",
    "    datefmt = log_date_format)\n",
    "suds_logger = logging.getLogger(\"suds\")\n",
    "suds_logger.propagate = False\n",
    "\n",
    "WORD_RE = re.compile(r\"[\\w']+\")\n",
    "\n",
    "train_data = []\n",
    "train_labels = []\n",
    "\n",
    "## Training error calculating function\n",
    "def training_error(labels, prediction):\n",
    "    errors = 0\n",
    "    num_observations = len(labels)\n",
    "    for truth, prediction in zip(train_labels ,MultiNB_predicted):\n",
    "        logging.debug(\"Truth: %s | Prediction: %s\"% (truth, prediction))\n",
    "        if truth != prediction:\n",
    "            errors = errors + 1\n",
    "    print \"The training error is %.2f\" % (float(errors)/float(num_observations))\n",
    "\n",
    "with open (\"/home/crodriguez1/W261/HW1/enronemail_1h.txt\", \"r\") as myfile:\n",
    "    for line in myfile:\n",
    "        line_components = line.split(\"\\t\")\n",
    "        output_variable = int(line_components[1])\n",
    "        line = ' '.join([str(x) for x in line_components[2:]])\n",
    "        train_data.extend([line])\n",
    "        train_labels.extend([output_variable])\n",
    "# Initialize CountVectorizer and fit and transform the data\n",
    "cv = CountVectorizer()\n",
    "cv_train = cv.fit_transform(train_data)\n",
    "\n",
    "## Create and fit MultinomialNB classifier (default settings)\n",
    "MultiNB = MultinomialNB()\n",
    "MultiNB.fit(cv_train,train_labels)\n",
    "MultiNB_predicted = MultiNB.predict(cv_train)\n",
    "\n",
    "## Create and fit MultinomialNB classifier (default settings)\n",
    "BernoulliNB = BernoulliNB()\n",
    "BernoulliNB.fit(cv_train,train_labels)\n",
    "BernoulliNB_predicted = BernoulliNB.predict(cv_train)\n",
    "\n",
    "print \"ANSWER:\"\n",
    "print \"HW1.6 A. Multinomial Naive Bayes algorithm (using default settings)\"\n",
    "training_error(train_labels, MultiNB_predicted)\n",
    "print \"HW1.6 B. Bernoulli Naive Bayes algorithm (using default settings)\"\n",
    "training_error(train_labels, BernoulliNB_predicted)\n",
    "print \"HW1.6 C. From the results in HW1.5 we see that the training error for the Multinomial NB is 3%\""
   ]
  }
 ],
 "metadata": {
  "kernelspec": {
   "display_name": "Python 2",
   "language": "python",
   "name": "python2"
  },
  "language_info": {
   "codemirror_mode": {
    "name": "ipython",
    "version": 2
   },
   "file_extension": ".py",
   "mimetype": "text/x-python",
   "name": "python",
   "nbconvert_exporter": "python",
   "pygments_lexer": "ipython2",
   "version": "2.7.3"
  }
 },
 "nbformat": 4,
 "nbformat_minor": 0
}
